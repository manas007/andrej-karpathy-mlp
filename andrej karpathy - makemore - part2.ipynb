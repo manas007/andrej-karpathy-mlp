{
 "cells": [
  {
   "cell_type": "code",
   "execution_count": 1,
   "metadata": {},
   "outputs": [],
   "source": [
    "# in our previous model, we only took 1 character of context (bigram) so we got not so good results\n",
    "# if we take 2 characters as context , we will grow into 27 * 27 context matrix \n",
    "# if we take 3 characters as context , we will grow into 27 * 27 * 27 context matrix \n",
    "# it will be extremely difficult to keep track of these counts\n",
    "# we are following https://www.jmlr.org/papers/volume3/bengio03a/bengio03a.pdf"
   ]
  },
  {
   "cell_type": "code",
   "execution_count": 2,
   "metadata": {},
   "outputs": [],
   "source": [
    "import torch\n",
    "import torch.nn.functional as F\n",
    "import matplotlib.pyplot as plt # for making figures\n",
    "%matplotlib inline"
   ]
  },
  {
   "cell_type": "code",
   "execution_count": 3,
   "metadata": {},
   "outputs": [
    {
     "data": {
      "text/plain": [
       "['emma', 'olivia', 'ava', 'isabella', 'sophia', 'charlotte', 'mia', 'amelia']"
      ]
     },
     "execution_count": 3,
     "metadata": {},
     "output_type": "execute_result"
    }
   ],
   "source": [
    "# read in all the words\n",
    "words = open('names.txt', 'r').read().splitlines()\n",
    "words[:8]"
   ]
  },
  {
   "cell_type": "code",
   "execution_count": 4,
   "metadata": {},
   "outputs": [
    {
     "name": "stdout",
     "output_type": "stream",
     "text": [
      "['a', 'b', 'c', 'd', 'e', 'f', 'g', 'h', 'i', 'j', 'k', 'l', 'm', 'n', 'o', 'p', 'q', 'r', 's', 't', 'u', 'v', 'w', 'x', 'y', 'z'] \n",
      "\n",
      "{'a': 1, 'b': 2, 'c': 3, 'd': 4, 'e': 5, 'f': 6, 'g': 7, 'h': 8, 'i': 9, 'j': 10, 'k': 11, 'l': 12, 'm': 13, 'n': 14, 'o': 15, 'p': 16, 'q': 17, 'r': 18, 's': 19, 't': 20, 'u': 21, 'v': 22, 'w': 23, 'x': 24, 'y': 25, 'z': 26, '.': 0} \n",
      "\n",
      "{1: 'a', 2: 'b', 3: 'c', 4: 'd', 5: 'e', 6: 'f', 7: 'g', 8: 'h', 9: 'i', 10: 'j', 11: 'k', 12: 'l', 13: 'm', 14: 'n', 15: 'o', 16: 'p', 17: 'q', 18: 'r', 19: 's', 20: 't', 21: 'u', 22: 'v', 23: 'w', 24: 'x', 25: 'y', 26: 'z', 0: '.'} \n",
      "\n"
     ]
    }
   ],
   "source": [
    "# build the vocabulary of characters and mappings to/from integers\n",
    "chars = sorted(list(set(''.join(words))))\n",
    "print(chars, '\\n')\n",
    "stoi = {s:i+1 for i,s in enumerate(chars)}\n",
    "stoi['.'] = 0\n",
    "print(stoi , '\\n')\n",
    "itos = {i:s for s,i in stoi.items()}\n",
    "print(itos , '\\n')"
   ]
  },
  {
   "cell_type": "code",
   "execution_count": 5,
   "metadata": {},
   "outputs": [
    {
     "name": "stdout",
     "output_type": "stream",
     "text": [
      "emma\n",
      "... ---> e\n",
      "..e ---> m\n",
      ".em ---> m\n",
      "emm ---> a\n",
      "mma ---> .\n",
      "tensor([[ 0,  0,  0],\n",
      "        [ 0,  0,  5],\n",
      "        [ 0,  5, 13],\n",
      "        [ 5, 13, 13],\n",
      "        [13, 13,  1]])\n",
      "tensor([ 5, 13, 13,  1,  0])\n"
     ]
    }
   ],
   "source": [
    "# build the dataset\n",
    "\n",
    "block_size = 3 # context length: how many characters do we take to predict the next one?\n",
    "X, Y = [], []\n",
    "for w in words[:1]:\n",
    "    print(w)\n",
    "    context = [0] * block_size # the number of characters we are looking at\n",
    "    for ch in w + '.': # add the end char '.' to word\n",
    "        ix = stoi[ch]\n",
    "        X.append(context)\n",
    "        Y.append(ix)\n",
    "        print(''.join(itos[i] for i in context), '--->', itos[ix])\n",
    "        context = context[1:] + [ix] # crop and append\n",
    "\n",
    "X = torch.tensor(X)\n",
    "Y = torch.tensor(Y)\n",
    "print(X)\n",
    "print(Y)"
   ]
  },
  {
   "cell_type": "code",
   "execution_count": 6,
   "metadata": {},
   "outputs": [
    {
     "name": "stdout",
     "output_type": "stream",
     "text": [
      "torch.Size([32, 3])\n",
      "torch.Size([32])\n"
     ]
    }
   ],
   "source": [
    "# build the dataset\n",
    "\n",
    "block_size = 3 # context length: how many characters do we take to predict the next one?\n",
    "X, Y = [], []\n",
    "for w in words[:5]:\n",
    "    context = [0] * block_size # the number of characters we are looking at\n",
    "    for ch in w + '.': # add the end char '.' to word\n",
    "        ix = stoi[ch]\n",
    "        X.append(context)\n",
    "        Y.append(ix)\n",
    "        #print(''.join(itos[i] for i in context), '--->', itos[ix])\n",
    "        context = context[1:] + [ix] # crop and append\n",
    "\n",
    "X = torch.tensor(X)\n",
    "Y = torch.tensor(Y)\n",
    "print(X.shape)\n",
    "print(Y.shape)\n",
    "\n",
    "# from 5 words, we created 32 examples. each input is 3 integers. and we have 32 labels for each input"
   ]
  },
  {
   "cell_type": "code",
   "execution_count": 7,
   "metadata": {},
   "outputs": [],
   "source": [
    "# embedding lookup table of lower dimension. In original paper, the authors cram 17000 words into 30 dimension space.\n",
    "# we are working at char level, so we have 27 characters (26 + '.'). let's cram them into 2 dim space\n",
    "C = torch.randn((27,2))"
   ]
  },
  {
   "cell_type": "code",
   "execution_count": 8,
   "metadata": {},
   "outputs": [
    {
     "name": "stdout",
     "output_type": "stream",
     "text": [
      "torch.Size([32, 3]) torch.Size([27, 2])\n"
     ]
    }
   ],
   "source": [
    "print(X.shape, C.shape)"
   ]
  },
  {
   "cell_type": "code",
   "execution_count": 9,
   "metadata": {},
   "outputs": [
    {
     "data": {
      "text/plain": [
       "torch.Size([32, 3, 2])"
      ]
     },
     "execution_count": 9,
     "metadata": {},
     "output_type": "execute_result"
    }
   ],
   "source": [
    "C[X].shape # we get the embedding vector for every [32,3] input. power of pytorch indexing.\n",
    "# how does this work ? suppose we take an input X[1]. That's a tensor [0,0,5]. when we pass it to C, we are basically\n",
    "# asking C to give us the data it has at index 0 , index 0 and index 5\n",
    "# so it gives us a 3,2 output "
   ]
  },
  {
   "cell_type": "code",
   "execution_count": 10,
   "metadata": {},
   "outputs": [
    {
     "data": {
      "text/plain": [
       "tensor([0, 0, 5])"
      ]
     },
     "execution_count": 10,
     "metadata": {},
     "output_type": "execute_result"
    }
   ],
   "source": [
    "X[1]"
   ]
  },
  {
   "cell_type": "code",
   "execution_count": 11,
   "metadata": {},
   "outputs": [
    {
     "data": {
      "text/plain": [
       "tensor([[-1.3275,  1.9425],\n",
       "        [-1.3275,  1.9425],\n",
       "        [-0.0515, -0.2759]])"
      ]
     },
     "execution_count": 11,
     "metadata": {},
     "output_type": "execute_result"
    }
   ],
   "source": [
    "C[X[1]]"
   ]
  },
  {
   "cell_type": "code",
   "execution_count": 12,
   "metadata": {},
   "outputs": [
    {
     "data": {
      "text/plain": [
       "torch.Size([32, 3, 2])"
      ]
     },
     "execution_count": 12,
     "metadata": {},
     "output_type": "execute_result"
    }
   ],
   "source": [
    "#so the embedding is \n",
    "emb = C[X]\n",
    "emb.shape"
   ]
  },
  {
   "cell_type": "code",
   "execution_count": 13,
   "metadata": {},
   "outputs": [],
   "source": [
    "# let's create the hidden layer\n",
    "# our input is 3 dimension , and each has embedding in two dimension\n",
    "# so this layer will have 6 dimensions input\n",
    "W1 = torch.randn((6,100)) # 100 is the arbitrary number of neurons we want to have \n",
    "b1 = torch.randn(100)"
   ]
  },
  {
   "cell_type": "code",
   "execution_count": 14,
   "metadata": {},
   "outputs": [
    {
     "name": "stdout",
     "output_type": "stream",
     "text": [
      "tensor([[-1.3275,  1.9425],\n",
      "        [-1.3275,  1.9425],\n",
      "        [-1.3275,  1.9425],\n",
      "        [-0.0515, -0.2759],\n",
      "        [ 1.0071, -0.7074],\n",
      "        [-1.3275,  1.9425],\n",
      "        [-1.3275,  1.9425],\n",
      "        [-1.3275,  1.9425],\n",
      "        [ 0.7338, -0.7256],\n",
      "        [-0.5880, -0.2260],\n",
      "        [ 0.8748, -0.3433],\n",
      "        [-1.5788,  1.3383],\n",
      "        [-1.3275,  1.9425],\n",
      "        [-1.3275,  1.9425],\n",
      "        [-1.3275,  1.9425],\n",
      "        [ 0.5097, -0.6473],\n",
      "        [-1.3275,  1.9425],\n",
      "        [-1.3275,  1.9425],\n",
      "        [-1.3275,  1.9425],\n",
      "        [ 0.8748, -0.3433],\n",
      "        [-1.5919, -1.4285],\n",
      "        [ 0.5097, -0.6473],\n",
      "        [-0.0986, -0.8607],\n",
      "        [-0.0515, -0.2759],\n",
      "        [-0.5880, -0.2260],\n",
      "        [-1.3275,  1.9425],\n",
      "        [-1.3275,  1.9425],\n",
      "        [-1.3275,  1.9425],\n",
      "        [-1.5919, -1.4285],\n",
      "        [ 0.7338, -0.7256],\n",
      "        [ 1.2747,  1.0312],\n",
      "        [-0.7802, -1.5185]])\n",
      "tensor([[-1.3275,  1.9425],\n",
      "        [-1.3275,  1.9425],\n",
      "        [-0.0515, -0.2759],\n",
      "        [ 1.0071, -0.7074],\n",
      "        [ 1.0071, -0.7074],\n",
      "        [-1.3275,  1.9425],\n",
      "        [-1.3275,  1.9425],\n",
      "        [ 0.7338, -0.7256],\n",
      "        [-0.5880, -0.2260],\n",
      "        [ 0.8748, -0.3433],\n",
      "        [-1.5788,  1.3383],\n",
      "        [ 0.8748, -0.3433],\n",
      "        [-1.3275,  1.9425],\n",
      "        [-1.3275,  1.9425],\n",
      "        [ 0.5097, -0.6473],\n",
      "        [-1.5788,  1.3383],\n",
      "        [-1.3275,  1.9425],\n",
      "        [-1.3275,  1.9425],\n",
      "        [ 0.8748, -0.3433],\n",
      "        [-1.5919, -1.4285],\n",
      "        [ 0.5097, -0.6473],\n",
      "        [-0.0986, -0.8607],\n",
      "        [-0.0515, -0.2759],\n",
      "        [-0.5880, -0.2260],\n",
      "        [-0.5880, -0.2260],\n",
      "        [-1.3275,  1.9425],\n",
      "        [-1.3275,  1.9425],\n",
      "        [-1.5919, -1.4285],\n",
      "        [ 0.7338, -0.7256],\n",
      "        [ 1.2747,  1.0312],\n",
      "        [-0.7802, -1.5185],\n",
      "        [ 0.8748, -0.3433]])\n",
      "tensor([[-1.3275,  1.9425],\n",
      "        [-0.0515, -0.2759],\n",
      "        [ 1.0071, -0.7074],\n",
      "        [ 1.0071, -0.7074],\n",
      "        [ 0.5097, -0.6473],\n",
      "        [-1.3275,  1.9425],\n",
      "        [ 0.7338, -0.7256],\n",
      "        [-0.5880, -0.2260],\n",
      "        [ 0.8748, -0.3433],\n",
      "        [-1.5788,  1.3383],\n",
      "        [ 0.8748, -0.3433],\n",
      "        [ 0.5097, -0.6473],\n",
      "        [-1.3275,  1.9425],\n",
      "        [ 0.5097, -0.6473],\n",
      "        [-1.5788,  1.3383],\n",
      "        [ 0.5097, -0.6473],\n",
      "        [-1.3275,  1.9425],\n",
      "        [ 0.8748, -0.3433],\n",
      "        [-1.5919, -1.4285],\n",
      "        [ 0.5097, -0.6473],\n",
      "        [-0.0986, -0.8607],\n",
      "        [-0.0515, -0.2759],\n",
      "        [-0.5880, -0.2260],\n",
      "        [-0.5880, -0.2260],\n",
      "        [ 0.5097, -0.6473],\n",
      "        [-1.3275,  1.9425],\n",
      "        [-1.5919, -1.4285],\n",
      "        [ 0.7338, -0.7256],\n",
      "        [ 1.2747,  1.0312],\n",
      "        [-0.7802, -1.5185],\n",
      "        [ 0.8748, -0.3433],\n",
      "        [ 0.5097, -0.6473]])\n"
     ]
    }
   ],
   "source": [
    "# emb @ W1 wont work because the dims dont match\n",
    "# what we want to do is retrive the 3 parts of the emb (3,2) [3 represents the one hot enc of char and 2\n",
    "# represents the dimension of embedding] and concatenate them\n",
    "\n",
    "print(emb[: , 0 , :]) # embs of char 1\n",
    "print(emb[: , 1 , :]) # embs of char 2\n",
    "print(emb[: , 2 , :]) # emb of char 3\n"
   ]
  },
  {
   "cell_type": "code",
   "execution_count": 15,
   "metadata": {},
   "outputs": [
    {
     "data": {
      "text/plain": [
       "tensor([[-1.3275,  1.9425, -1.3275,  1.9425, -1.3275,  1.9425],\n",
       "        [-1.3275,  1.9425, -1.3275,  1.9425, -0.0515, -0.2759],\n",
       "        [-1.3275,  1.9425, -0.0515, -0.2759,  1.0071, -0.7074],\n",
       "        [-0.0515, -0.2759,  1.0071, -0.7074,  1.0071, -0.7074],\n",
       "        [ 1.0071, -0.7074,  1.0071, -0.7074,  0.5097, -0.6473],\n",
       "        [-1.3275,  1.9425, -1.3275,  1.9425, -1.3275,  1.9425],\n",
       "        [-1.3275,  1.9425, -1.3275,  1.9425,  0.7338, -0.7256],\n",
       "        [-1.3275,  1.9425,  0.7338, -0.7256, -0.5880, -0.2260],\n",
       "        [ 0.7338, -0.7256, -0.5880, -0.2260,  0.8748, -0.3433],\n",
       "        [-0.5880, -0.2260,  0.8748, -0.3433, -1.5788,  1.3383],\n",
       "        [ 0.8748, -0.3433, -1.5788,  1.3383,  0.8748, -0.3433],\n",
       "        [-1.5788,  1.3383,  0.8748, -0.3433,  0.5097, -0.6473],\n",
       "        [-1.3275,  1.9425, -1.3275,  1.9425, -1.3275,  1.9425],\n",
       "        [-1.3275,  1.9425, -1.3275,  1.9425,  0.5097, -0.6473],\n",
       "        [-1.3275,  1.9425,  0.5097, -0.6473, -1.5788,  1.3383],\n",
       "        [ 0.5097, -0.6473, -1.5788,  1.3383,  0.5097, -0.6473],\n",
       "        [-1.3275,  1.9425, -1.3275,  1.9425, -1.3275,  1.9425],\n",
       "        [-1.3275,  1.9425, -1.3275,  1.9425,  0.8748, -0.3433],\n",
       "        [-1.3275,  1.9425,  0.8748, -0.3433, -1.5919, -1.4285],\n",
       "        [ 0.8748, -0.3433, -1.5919, -1.4285,  0.5097, -0.6473],\n",
       "        [-1.5919, -1.4285,  0.5097, -0.6473, -0.0986, -0.8607],\n",
       "        [ 0.5097, -0.6473, -0.0986, -0.8607, -0.0515, -0.2759],\n",
       "        [-0.0986, -0.8607, -0.0515, -0.2759, -0.5880, -0.2260],\n",
       "        [-0.0515, -0.2759, -0.5880, -0.2260, -0.5880, -0.2260],\n",
       "        [-0.5880, -0.2260, -0.5880, -0.2260,  0.5097, -0.6473],\n",
       "        [-1.3275,  1.9425, -1.3275,  1.9425, -1.3275,  1.9425],\n",
       "        [-1.3275,  1.9425, -1.3275,  1.9425, -1.5919, -1.4285],\n",
       "        [-1.3275,  1.9425, -1.5919, -1.4285,  0.7338, -0.7256],\n",
       "        [-1.5919, -1.4285,  0.7338, -0.7256,  1.2747,  1.0312],\n",
       "        [ 0.7338, -0.7256,  1.2747,  1.0312, -0.7802, -1.5185],\n",
       "        [ 1.2747,  1.0312, -0.7802, -1.5185,  0.8748, -0.3433],\n",
       "        [-0.7802, -1.5185,  0.8748, -0.3433,  0.5097, -0.6473]])"
      ]
     },
     "execution_count": 15,
     "metadata": {},
     "output_type": "execute_result"
    }
   ],
   "source": [
    "# then we want to concatenate them  to create a layer of all embeddings for those 3 characters\n",
    "torch.cat([emb[: , 0 , :] , emb[: , 1 , :] , emb[: , 2 , :]] , 1)\n",
    "# BASICALLY IF THE FIRST INPUT IS ... -> ONE HOT ENCODING IS --> [0 ,0 ,0] --> EMBED FOR '.' IS [0.5291, -1.1664] \n",
    "# SO WE HAVE  [0.5291, -1.1664 , 0.5291, -1.1664 , 0.5291, -1.1664 ]  "
   ]
  },
  {
   "cell_type": "code",
   "execution_count": 16,
   "metadata": {},
   "outputs": [
    {
     "name": "stdout",
     "output_type": "stream",
     "text": [
      "torch.Size([32, 3, 2])\n"
     ]
    },
    {
     "data": {
      "text/plain": [
       "torch.Size([32, 6])"
      ]
     },
     "execution_count": 16,
     "metadata": {},
     "output_type": "execute_result"
    }
   ],
   "source": [
    "# we can use unbind to do this\n",
    "print(emb.shape)\n",
    "torch.unbind(emb, 1) # Returns a tuple of all slices along a given dimension, already without it\n",
    "torch.cat(torch.unbind(emb, 1),1).shape"
   ]
  },
  {
   "cell_type": "code",
   "execution_count": 17,
   "metadata": {},
   "outputs": [
    {
     "data": {
      "text/plain": [
       "tensor([[-1.3275,  1.9425, -1.3275,  1.9425, -1.3275,  1.9425],\n",
       "        [-1.3275,  1.9425, -1.3275,  1.9425, -0.0515, -0.2759],\n",
       "        [-1.3275,  1.9425, -0.0515, -0.2759,  1.0071, -0.7074],\n",
       "        [-0.0515, -0.2759,  1.0071, -0.7074,  1.0071, -0.7074],\n",
       "        [ 1.0071, -0.7074,  1.0071, -0.7074,  0.5097, -0.6473],\n",
       "        [-1.3275,  1.9425, -1.3275,  1.9425, -1.3275,  1.9425],\n",
       "        [-1.3275,  1.9425, -1.3275,  1.9425,  0.7338, -0.7256],\n",
       "        [-1.3275,  1.9425,  0.7338, -0.7256, -0.5880, -0.2260],\n",
       "        [ 0.7338, -0.7256, -0.5880, -0.2260,  0.8748, -0.3433],\n",
       "        [-0.5880, -0.2260,  0.8748, -0.3433, -1.5788,  1.3383],\n",
       "        [ 0.8748, -0.3433, -1.5788,  1.3383,  0.8748, -0.3433],\n",
       "        [-1.5788,  1.3383,  0.8748, -0.3433,  0.5097, -0.6473],\n",
       "        [-1.3275,  1.9425, -1.3275,  1.9425, -1.3275,  1.9425],\n",
       "        [-1.3275,  1.9425, -1.3275,  1.9425,  0.5097, -0.6473],\n",
       "        [-1.3275,  1.9425,  0.5097, -0.6473, -1.5788,  1.3383],\n",
       "        [ 0.5097, -0.6473, -1.5788,  1.3383,  0.5097, -0.6473],\n",
       "        [-1.3275,  1.9425, -1.3275,  1.9425, -1.3275,  1.9425],\n",
       "        [-1.3275,  1.9425, -1.3275,  1.9425,  0.8748, -0.3433],\n",
       "        [-1.3275,  1.9425,  0.8748, -0.3433, -1.5919, -1.4285],\n",
       "        [ 0.8748, -0.3433, -1.5919, -1.4285,  0.5097, -0.6473],\n",
       "        [-1.5919, -1.4285,  0.5097, -0.6473, -0.0986, -0.8607],\n",
       "        [ 0.5097, -0.6473, -0.0986, -0.8607, -0.0515, -0.2759],\n",
       "        [-0.0986, -0.8607, -0.0515, -0.2759, -0.5880, -0.2260],\n",
       "        [-0.0515, -0.2759, -0.5880, -0.2260, -0.5880, -0.2260],\n",
       "        [-0.5880, -0.2260, -0.5880, -0.2260,  0.5097, -0.6473],\n",
       "        [-1.3275,  1.9425, -1.3275,  1.9425, -1.3275,  1.9425],\n",
       "        [-1.3275,  1.9425, -1.3275,  1.9425, -1.5919, -1.4285],\n",
       "        [-1.3275,  1.9425, -1.5919, -1.4285,  0.7338, -0.7256],\n",
       "        [-1.5919, -1.4285,  0.7338, -0.7256,  1.2747,  1.0312],\n",
       "        [ 0.7338, -0.7256,  1.2747,  1.0312, -0.7802, -1.5185],\n",
       "        [ 1.2747,  1.0312, -0.7802, -1.5185,  0.8748, -0.3433],\n",
       "        [-0.7802, -1.5185,  0.8748, -0.3433,  0.5097, -0.6473]])"
      ]
     },
     "execution_count": 17,
     "metadata": {},
     "output_type": "execute_result"
    }
   ],
   "source": [
    "# even better way\n",
    "emb.view(32,6)"
   ]
  },
  {
   "cell_type": "code",
   "execution_count": 18,
   "metadata": {},
   "outputs": [],
   "source": [
    "# now the matrix mul works\n",
    "h = emb.view((emb.shape[0],6)) @ W1 + b1 # we dont want to hardcode 32"
   ]
  },
  {
   "cell_type": "code",
   "execution_count": 19,
   "metadata": {},
   "outputs": [],
   "source": [
    "# adding the non linearity\n",
    "h = torch.tanh(h)"
   ]
  },
  {
   "cell_type": "code",
   "execution_count": 20,
   "metadata": {},
   "outputs": [],
   "source": [
    "# final layer\n",
    "W2 = torch.randn((100,27)) # now we need 27 outputs -> one for each char\n",
    "b2 = torch.randn(27)"
   ]
  },
  {
   "cell_type": "code",
   "execution_count": 21,
   "metadata": {},
   "outputs": [
    {
     "data": {
      "text/plain": [
       "torch.Size([32, 27])"
      ]
     },
     "execution_count": 21,
     "metadata": {},
     "output_type": "execute_result"
    }
   ],
   "source": [
    "# logits\n",
    "logits = h @ W2 + b2\n",
    "logits.shape"
   ]
  },
  {
   "cell_type": "code",
   "execution_count": 22,
   "metadata": {},
   "outputs": [],
   "source": [
    "counts = logits.exp()\n",
    "prob = counts / counts.sum(1, keepdims =True)"
   ]
  },
  {
   "cell_type": "code",
   "execution_count": 23,
   "metadata": {},
   "outputs": [
    {
     "data": {
      "text/plain": [
       "torch.Size([32, 27])"
      ]
     },
     "execution_count": 23,
     "metadata": {},
     "output_type": "execute_result"
    }
   ],
   "source": [
    "prob.shape"
   ]
  },
  {
   "cell_type": "code",
   "execution_count": 24,
   "metadata": {},
   "outputs": [
    {
     "data": {
      "text/plain": [
       "tensor([1.2107e-01, 4.2062e-07, 2.7437e-01, 1.8250e-08, 2.7490e-09, 2.4591e-04,\n",
       "        5.1281e-11, 2.0385e-10, 2.2215e-05, 6.2011e-13, 5.6370e-08, 2.8434e-04,\n",
       "        1.1824e-10, 2.0814e-04, 5.0267e-11, 4.1479e-02, 7.9145e-08, 3.1619e-12,\n",
       "        3.2873e-18, 2.9147e-08, 6.6476e-01, 1.6828e-04, 1.0758e-05, 2.6288e-10,\n",
       "        2.9897e-06, 7.2773e-10, 3.8646e-10, 1.1974e-08, 4.2854e-10, 6.3489e-01,\n",
       "        3.1334e-07, 1.4438e-10])"
      ]
     },
     "execution_count": 24,
     "metadata": {},
     "output_type": "execute_result"
    }
   ],
   "source": [
    "prob[torch.arange(32) , Y] # get the prob of target from prob matrix"
   ]
  },
  {
   "cell_type": "code",
   "execution_count": 25,
   "metadata": {},
   "outputs": [
    {
     "name": "stdout",
     "output_type": "stream",
     "text": [
      "tensor(15.8819)\n"
     ]
    }
   ],
   "source": [
    "neg_log_loss = -prob[torch.arange(32) , Y].log().mean()\n",
    "print(neg_log_loss)"
   ]
  },
  {
   "cell_type": "code",
   "execution_count": 26,
   "metadata": {},
   "outputs": [
    {
     "data": {
      "text/plain": [
       "tensor(15.8819)"
      ]
     },
     "execution_count": 26,
     "metadata": {},
     "output_type": "execute_result"
    }
   ],
   "source": [
    "# can do the count, prob and loss in one single method in pytorch. we get the same loss\n",
    "F.cross_entropy(logits, Y)"
   ]
  },
  {
   "cell_type": "code",
   "execution_count": 27,
   "metadata": {},
   "outputs": [
    {
     "name": "stdout",
     "output_type": "stream",
     "text": [
      "torch.Size([32, 3]) torch.Size([32])\n",
      "Total number of parameters :  3481\n"
     ]
    }
   ],
   "source": [
    "g = torch.Generator().manual_seed(2147483647) # for reproducibility\n",
    "print(X.shape, Y.shape)\n",
    "C = torch.randn((27, 2), generator=g) # embedding of 27 chars in 2D\n",
    "W1 = torch.randn((6, 100), generator=g)\n",
    "b1 = torch.randn(100, generator=g)\n",
    "W2 = torch.randn((100, 27), generator=g)\n",
    "b2 = torch.randn(27, generator=g)\n",
    "parameters = [C, W1, b1, W2, b2]\n",
    "print('Total number of parameters : ' , sum(p.nelement() for p in parameters))"
   ]
  },
  {
   "cell_type": "code",
   "execution_count": 28,
   "metadata": {},
   "outputs": [],
   "source": [
    "for p in parameters:\n",
    "    p.requires_grad = True"
   ]
  },
  {
   "cell_type": "code",
   "execution_count": 29,
   "metadata": {},
   "outputs": [
    {
     "name": "stdout",
     "output_type": "stream",
     "text": [
      "17.76971435546875\n",
      "13.656400680541992\n",
      "11.298768997192383\n",
      "9.452457427978516\n",
      "7.984262466430664\n",
      "6.891321182250977\n",
      "6.100014686584473\n",
      "5.452036380767822\n",
      "4.898151874542236\n",
      "4.414663791656494\n"
     ]
    }
   ],
   "source": [
    "for _ in range(10):\n",
    "    #forward pass\n",
    "    emb = C[X] # [32,3,2]\n",
    "    h = emb.view(-1,6) @ W1 + b1\n",
    "    h = torch.tanh(h)\n",
    "    logits = h @ W2 + b2 # [32 , 27]\n",
    "    loss = F.cross_entropy(logits , Y)\n",
    "    print(loss.item())\n",
    "    \n",
    "    # backward pass\n",
    "    for p in parameters:\n",
    "        p.grad = None\n",
    "    loss.backward()\n",
    "    \n",
    "    # update grad \n",
    "    for p in parameters:\n",
    "        p.data += -0.1 * p.grad"
   ]
  },
  {
   "cell_type": "code",
   "execution_count": 30,
   "metadata": {},
   "outputs": [
    {
     "data": {
      "text/plain": [
       "tensor([22, 15, 11, 25, 26,  1, 14, 13, 31, 25, 22,  5,  4, 15, 24, 25, 24, 10,\n",
       "        20, 16, 23, 14, 12, 24,  1, 29, 28,  8, 16, 10, 23, 29])"
      ]
     },
     "execution_count": 30,
     "metadata": {},
     "output_type": "execute_result"
    }
   ],
   "source": [
    "# this was only for words , and our input for those 5 words became 32 , 3 (after one hot encoding)\n",
    "# as we take the entire dataset , the input will be even bigger\n",
    "# in practice , we like to optimize loss over batches of bata , not the entire data set\n",
    "# randomly select a mini batch of data\n",
    "\n",
    "torch.randint(0,5, (32,)) # give 32 ints between 0 and 5\n",
    "\n",
    "torch.randint(0,X.shape[0], (32,)) # give 32 ints between 0 and number of inputs in X"
   ]
  },
  {
   "cell_type": "code",
   "execution_count": 31,
   "metadata": {},
   "outputs": [
    {
     "name": "stdout",
     "output_type": "stream",
     "text": [
      "4.061162948608398\n",
      "2.5981428623199463\n",
      "2.328188180923462\n",
      "3.810340404510498\n",
      "3.112499475479126\n",
      "2.28739070892334\n",
      "1.9184293746948242\n",
      "2.216069221496582\n",
      "3.096294641494751\n",
      "1.6646702289581299\n"
     ]
    }
   ],
   "source": [
    "for _ in range(10):\n",
    "    ix = torch.randint(0, X.shape[0], (32,)) # minibatch \n",
    "    #forward pass\n",
    "    emb = C[X[ix]] # [32,3,2]\n",
    "    h = emb.view(-1,6) @ W1 + b1\n",
    "    h = torch.tanh(h)\n",
    "    logits = h @ W2 + b2 # [32 , 27]\n",
    "    loss = F.cross_entropy(logits , Y[ix])\n",
    "    print(loss.item())\n",
    "    \n",
    "    # backward pass\n",
    "    for p in parameters:\n",
    "        p.grad = None\n",
    "    loss.backward()\n",
    "    \n",
    "    # update grad \n",
    "    for p in parameters:\n",
    "        p.data += -0.1 * p.grad"
   ]
  },
  {
   "cell_type": "code",
   "execution_count": 32,
   "metadata": {},
   "outputs": [
    {
     "name": "stdout",
     "output_type": "stream",
     "text": [
      "torch.Size([182625, 3]) torch.Size([182625])\n",
      "torch.Size([22655, 3]) torch.Size([22655])\n",
      "torch.Size([22866, 3]) torch.Size([22866])\n"
     ]
    }
   ],
   "source": [
    "# in real life we will have the dataset be split into train , dev and test. now we will take the entire data\n",
    "\n",
    "# build the dataset\n",
    "block_size = 3 # context length: how many characters do we take to predict the next one?\n",
    "\n",
    "def build_dataset(words):  \n",
    "    X, Y = [], []\n",
    "    for w in words:\n",
    "        #print(w)\n",
    "        context = [0] * block_size\n",
    "        for ch in w + '.':\n",
    "            ix = stoi[ch]\n",
    "            X.append(context)\n",
    "            Y.append(ix)\n",
    "              #print(''.join(itos[i] for i in context), '--->', itos[ix])\n",
    "            context = context[1:] + [ix] # crop and append\n",
    "\n",
    "    X = torch.tensor(X)\n",
    "    Y = torch.tensor(Y)\n",
    "    print(X.shape, Y.shape)\n",
    "    return X, Y\n",
    "\n",
    "import random\n",
    "random.seed(42)\n",
    "random.shuffle(words)\n",
    "\n",
    "n1 = int(0.8*len(words))\n",
    "n2 = int(0.9*len(words))\n",
    "\n",
    "Xtr, Ytr = build_dataset(words[:n1])\n",
    "Xdev, Ydev = build_dataset(words[n1:n2])\n",
    "Xte, Yte = build_dataset(words[n2:])"
   ]
  },
  {
   "cell_type": "code",
   "execution_count": 33,
   "metadata": {},
   "outputs": [
    {
     "name": "stdout",
     "output_type": "stream",
     "text": [
      "Total number of parameters :  11897\n"
     ]
    }
   ],
   "source": [
    "g = torch.Generator().manual_seed(2147483647) # for reproducibility\n",
    "C = torch.randn((27, 10), generator=g) # embedding of 27 chars in 10 dimensions insted of 2 dim\n",
    "W1 = torch.randn((30, 200), generator=g) # 3 characters, each of 10 dim embedding, so 30 dim input ... 200 neurons\n",
    "b1 = torch.randn(200, generator=g)\n",
    "W2 = torch.randn((200, 27), generator=g)\n",
    "b2 = torch.randn(27, generator=g)\n",
    "parameters = [C, W1, b1, W2, b2]\n",
    "print('Total number of parameters : ' , sum(p.nelement() for p in parameters))"
   ]
  },
  {
   "cell_type": "code",
   "execution_count": 34,
   "metadata": {},
   "outputs": [],
   "source": [
    "for p in parameters:\n",
    "    p.requires_grad = True"
   ]
  },
  {
   "cell_type": "code",
   "execution_count": 35,
   "metadata": {},
   "outputs": [],
   "source": [
    "lossi = []\n",
    "stepi = []"
   ]
  },
  {
   "cell_type": "code",
   "execution_count": 36,
   "metadata": {},
   "outputs": [],
   "source": [
    "for i in range(200000):\n",
    "  \n",
    "  # minibatch construct\n",
    "    ix = torch.randint(0, Xtr.shape[0], (32,))\n",
    "  \n",
    "    # forward pass\n",
    "    emb = C[Xtr[ix]] # (32, 3, 10)\n",
    "    h = torch.tanh(emb.view(-1, 30) @ W1 + b1) # (32, 200)\n",
    "    logits = h @ W2 + b2 # (32, 27)\n",
    "    loss = F.cross_entropy(logits, Ytr[ix])\n",
    "    \n",
    "    # backward pass\n",
    "    for p in parameters:\n",
    "        p.grad = None\n",
    "    loss.backward()\n",
    "  \n",
    "    # update\n",
    "    lr = 0.1 if i < 100000 else 0.01 # learning rate decay over time\n",
    "    for p in parameters:\n",
    "        p.data += -lr * p.grad\n",
    "\n",
    "    # track stats\n",
    "    stepi.append(i)\n",
    "    #lossi.append(loss.log10().item())\n",
    "    lossi.append(loss.item())"
   ]
  },
  {
   "cell_type": "code",
   "execution_count": 162,
   "metadata": {},
   "outputs": [
    {
     "data": {
      "text/plain": [
       "[<matplotlib.lines.Line2D at 0x1cdf84aab88>]"
      ]
     },
     "execution_count": 162,
     "metadata": {},
     "output_type": "execute_result"
    },
    {
     "data": {
      "image/png": "[encoded data removed]",
      "text/plain": [
       "<Figure size 432x288 with 1 Axes>"
      ]
     },
     "metadata": {
      "needs_background": "light"
     },
     "output_type": "display_data"
    }
   ],
   "source": [
    "plt.plot(stepi, lossi)"
   ]
  },
  {
   "cell_type": "code",
   "execution_count": 37,
   "metadata": {},
   "outputs": [
    {
     "data": {
      "text/plain": [
       "[1.7203383445739746,\n",
       " 2.1895627975463867,\n",
       " 1.9012714624404907,\n",
       " 1.7211579084396362,\n",
       " 1.8986085653305054,\n",
       " 1.7795028686523438,\n",
       " 1.7319889068603516,\n",
       " 1.9536006450653076,\n",
       " 2.318521738052368,\n",
       " 2.463441848754883,\n",
       " 2.3640260696411133,\n",
       " 2.5725903511047363,\n",
       " 2.09915828704834,\n",
       " 2.2030224800109863,\n",
       " 2.140836238861084,\n",
       " 2.146395206451416,\n",
       " 2.20281720161438,\n",
       " 1.9810020923614502,\n",
       " 1.955871820449829,\n",
       " 1.8515732288360596]"
      ]
     },
     "execution_count": 37,
     "metadata": {},
     "output_type": "execute_result"
    }
   ],
   "source": [
    "lossi[-20:]"
   ]
  },
  {
   "cell_type": "code",
   "execution_count": 163,
   "metadata": {},
   "outputs": [
    {
     "data": {
      "text/plain": [
       "tensor(2.1351, grad_fn=<NllLossBackward0>)"
      ]
     },
     "execution_count": 163,
     "metadata": {},
     "output_type": "execute_result"
    }
   ],
   "source": [
    "# calculate loss on training\n",
    "emb = C[Xtr] # (32, 3, 2)\n",
    "h = torch.tanh(emb.view(-1, 30) @ W1 + b1) # (32, 100) \n",
    "logits = h @ W2 + b2 # (32, 27)\n",
    "loss = F.cross_entropy(logits, Ytr)\n",
    "loss"
   ]
  },
  {
   "cell_type": "code",
   "execution_count": 164,
   "metadata": {},
   "outputs": [
    {
     "data": {
      "text/plain": [
       "tensor(2.1817, grad_fn=<NllLossBackward0>)"
      ]
     },
     "execution_count": 164,
     "metadata": {},
     "output_type": "execute_result"
    }
   ],
   "source": [
    "# calculate validation loss\n",
    "emb = C[Xdev] # (32, 3, 2)\n",
    "h = torch.tanh(emb.view(-1, 30) @ W1 + b1) # (32, 100)\n",
    "logits = h @ W2 + b2 # (32, 27)\n",
    "loss = F.cross_entropy(logits, Ydev)\n",
    "loss"
   ]
  },
  {
   "cell_type": "code",
   "execution_count": 185,
   "metadata": {},
   "outputs": [
    {
     "name": "stdout",
     "output_type": "stream",
     "text": [
      "carmah.\n",
      "amille.\n",
      "khi.\n",
      "mri.\n",
      "rehiyah.\n",
      "cassie.\n",
      "mahith.\n",
      "delynn.\n",
      "jareei.\n",
      "nellara.\n",
      "chaiir.\n",
      "kaleigh.\n",
      "ham.\n",
      "pori.\n",
      "quinton.\n",
      "lilea.\n",
      "jamilio.\n",
      "jermadiarisi.\n",
      "fine.\n",
      "pinsley.\n"
     ]
    }
   ],
   "source": [
    "# sample from the model\n",
    "g = torch.Generator().manual_seed(2147483647 + 10)\n",
    "\n",
    "for _ in range(20):\n",
    "    out = []\n",
    "    context = [0] * block_size # initialize with all ...\n",
    "    while True:\n",
    "        emb = C[torch.tensor([context])] # (1,block_size,d)\n",
    "        h = torch.tanh(emb.view(1, -1) @ W1 + b1)\n",
    "        logits = h @ W2 + b2\n",
    "        probs = F.softmax(logits, dim=1)\n",
    "        ix = torch.multinomial(probs, num_samples=1, generator=g).item()\n",
    "        context = context[1:] + [ix]\n",
    "        out.append(ix)\n",
    "        if ix == 0:\n",
    "            break\n",
    "    print(''.join(itos[i] for i in out))"
   ]
  }
 ],
 "metadata": {
  "kernelspec": {
   "display_name": "Python 3",
   "language": "python",
   "name": "python3"
  },
  "language_info": {
   "codemirror_mode": {
    "name": "ipython",
    "version": 3
   },
   "file_extension": ".py",
   "mimetype": "text/x-python",
   "name": "python",
   "nbconvert_exporter": "python",
   "pygments_lexer": "ipython3",
   "version": "3.7.1"
  }
 },
 "nbformat": 4,
 "nbformat_minor": 4
}
