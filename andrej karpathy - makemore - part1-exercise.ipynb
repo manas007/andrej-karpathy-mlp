{
 "cells": [
  {
   "cell_type": "code",
   "execution_count": 1,
   "metadata": {},
   "outputs": [],
   "source": [
    "# E01: train a trigram language model, i.e. take two characters as an input to predict the 3rd one. \n",
    "# Feel free to use either counting or a neural net. Evaluate the loss; Did it improve over a bigram model?\n",
    "import torch"
   ]
  },
  {
   "cell_type": "code",
   "execution_count": 2,
   "metadata": {},
   "outputs": [],
   "source": [
    "words = open('names.txt', 'r').read().splitlines()"
   ]
  },
  {
   "cell_type": "code",
   "execution_count": 3,
   "metadata": {
    "scrolled": true
   },
   "outputs": [
    {
     "data": {
      "text/plain": [
       "['emma',\n",
       " 'olivia',\n",
       " 'ava',\n",
       " 'isabella',\n",
       " 'sophia',\n",
       " 'charlotte',\n",
       " 'mia',\n",
       " 'amelia',\n",
       " 'harper',\n",
       " 'evelyn']"
      ]
     },
     "execution_count": 3,
     "metadata": {},
     "output_type": "execute_result"
    }
   ],
   "source": [
    "words[:10]"
   ]
  },
  {
   "cell_type": "code",
   "execution_count": 4,
   "metadata": {},
   "outputs": [
    {
     "data": {
      "text/plain": [
       "32033"
      ]
     },
     "execution_count": 4,
     "metadata": {},
     "output_type": "execute_result"
    }
   ],
   "source": [
    "len(words)"
   ]
  },
  {
   "cell_type": "code",
   "execution_count": 5,
   "metadata": {},
   "outputs": [
    {
     "name": "stdout",
     "output_type": "stream",
     "text": [
      "em m\n",
      "mm a\n"
     ]
    }
   ],
   "source": [
    "#trigram languague model. looking at 2 chars and predict third\n",
    "for w in words[:1]:\n",
    "    for ch1, ch2, ch3 in zip(w, w[1:] , w[2:]):\n",
    "        print(ch1+ch2, ch3)"
   ]
  },
  {
   "cell_type": "code",
   "execution_count": 6,
   "metadata": {},
   "outputs": [
    {
     "name": "stdout",
     "output_type": "stream",
     "text": [
      ".e m\n",
      "em m\n",
      "mm a\n",
      "ma .\n"
     ]
    }
   ],
   "source": [
    "for w in words[:1]:\n",
    "    chs = ['.'] + list(w) + ['.'] # breaks the word into list of characters. \".\" donates either the start or end position\n",
    "    for ch1, ch2, ch3 in zip(chs, chs[1:], chs[2:]):\n",
    "        print(ch1+ch2, ch3)"
   ]
  },
  {
   "cell_type": "code",
   "execution_count": 7,
   "metadata": {},
   "outputs": [],
   "source": [
    "b = {}\n",
    "\n",
    "for w in words:\n",
    "    chs = ['.'] + list(w) + ['.']\n",
    "    for ch1, ch2, ch3 in zip(chs, chs[1:], chs[2:]):\n",
    "        trigram = (ch1+ch2 , ch3)\n",
    "        b[trigram] = b.get(trigram , 0) + 1"
   ]
  },
  {
   "cell_type": "code",
   "execution_count": 8,
   "metadata": {},
   "outputs": [
    {
     "data": {
      "text/plain": [
       "[(('ah', '.'), 1714),\n",
       " (('na', '.'), 1673),\n",
       " (('an', '.'), 1509),\n",
       " (('on', '.'), 1503),\n",
       " (('.m', 'a'), 1453)]"
      ]
     },
     "execution_count": 8,
     "metadata": {},
     "output_type": "execute_result"
    }
   ],
   "source": [
    "sorted(b.items(), key = lambda kv : -kv[1])[:5]"
   ]
  },
  {
   "cell_type": "code",
   "execution_count": 9,
   "metadata": {},
   "outputs": [],
   "source": [
    "chars = sorted(set(''.join(words)))"
   ]
  },
  {
   "cell_type": "code",
   "execution_count": 10,
   "metadata": {},
   "outputs": [],
   "source": [
    "stoi = {s : i+1 for i , s in enumerate(chars)}"
   ]
  },
  {
   "cell_type": "code",
   "execution_count": 11,
   "metadata": {},
   "outputs": [],
   "source": [
    "stoi['.'] = 0"
   ]
  },
  {
   "cell_type": "code",
   "execution_count": 12,
   "metadata": {},
   "outputs": [],
   "source": [
    "stoi = {k : v for k , v in sorted(stoi.items() , key = lambda kv : kv[1])}"
   ]
  },
  {
   "cell_type": "code",
   "execution_count": 13,
   "metadata": {},
   "outputs": [
    {
     "data": {
      "text/plain": [
       "{'.': 0,\n",
       " 'a': 1,\n",
       " 'b': 2,\n",
       " 'c': 3,\n",
       " 'd': 4,\n",
       " 'e': 5,\n",
       " 'f': 6,\n",
       " 'g': 7,\n",
       " 'h': 8,\n",
       " 'i': 9,\n",
       " 'j': 10,\n",
       " 'k': 11,\n",
       " 'l': 12,\n",
       " 'm': 13,\n",
       " 'n': 14,\n",
       " 'o': 15,\n",
       " 'p': 16,\n",
       " 'q': 17,\n",
       " 'r': 18,\n",
       " 's': 19,\n",
       " 't': 20,\n",
       " 'u': 21,\n",
       " 'v': 22,\n",
       " 'w': 23,\n",
       " 'x': 24,\n",
       " 'y': 25,\n",
       " 'z': 26}"
      ]
     },
     "execution_count": 13,
     "metadata": {},
     "output_type": "execute_result"
    }
   ],
   "source": [
    "stoi"
   ]
  },
  {
   "cell_type": "code",
   "execution_count": 14,
   "metadata": {},
   "outputs": [],
   "source": [
    "itos = {v : k for k , v in stoi.items()}"
   ]
  },
  {
   "cell_type": "code",
   "execution_count": 15,
   "metadata": {},
   "outputs": [
    {
     "data": {
      "text/plain": [
       "{0: '.',\n",
       " 1: 'a',\n",
       " 2: 'b',\n",
       " 3: 'c',\n",
       " 4: 'd',\n",
       " 5: 'e',\n",
       " 6: 'f',\n",
       " 7: 'g',\n",
       " 8: 'h',\n",
       " 9: 'i',\n",
       " 10: 'j',\n",
       " 11: 'k',\n",
       " 12: 'l',\n",
       " 13: 'm',\n",
       " 14: 'n',\n",
       " 15: 'o',\n",
       " 16: 'p',\n",
       " 17: 'q',\n",
       " 18: 'r',\n",
       " 19: 's',\n",
       " 20: 't',\n",
       " 21: 'u',\n",
       " 22: 'v',\n",
       " 23: 'w',\n",
       " 24: 'x',\n",
       " 25: 'y',\n",
       " 26: 'z'}"
      ]
     },
     "execution_count": 15,
     "metadata": {},
     "output_type": "execute_result"
    }
   ],
   "source": [
    "itos"
   ]
  },
  {
   "cell_type": "code",
   "execution_count": 16,
   "metadata": {},
   "outputs": [],
   "source": [
    "N = torch.zeros((27, 27, 27), dtype=torch.int32) # a 3 dim matrix to keep count"
   ]
  },
  {
   "cell_type": "code",
   "execution_count": 17,
   "metadata": {},
   "outputs": [],
   "source": [
    "for w in words:\n",
    "    chs = ['.'] + list(w) + ['.'] # breaks the word into list of characters\n",
    "    for ch1, ch2, ch3 in zip(chs, chs[1:], chs[2:]):\n",
    "        ix1 = stoi[ch1]\n",
    "        ix2 = stoi[ch2]\n",
    "        ix3 = stoi[ch3]\n",
    "        N[ix1, ix2, ix3] += 1"
   ]
  },
  {
   "cell_type": "code",
   "execution_count": 18,
   "metadata": {},
   "outputs": [],
   "source": [
    "P = (N+1).float() # change N to float \n",
    "P /= P.sum(dim=2, keepdim=True) # probability distribution"
   ]
  },
  {
   "cell_type": "code",
   "execution_count": 19,
   "metadata": {},
   "outputs": [
    {
     "data": {
      "text/plain": [
       "'r'"
      ]
     },
     "execution_count": 19,
     "metadata": {},
     "output_type": "execute_result"
    }
   ],
   "source": [
    "g = torch.Generator().manual_seed(2147483647)\n",
    "drawn = torch.multinomial(P[(0,1)], num_samples = 1, replacement = True, generator = g) \n",
    "itos[drawn.item()] # given characters '.' and 'a' , predicted next word is'r'"
   ]
  },
  {
   "cell_type": "code",
   "execution_count": 20,
   "metadata": {},
   "outputs": [
    {
     "name": "stdout",
     "output_type": "stream",
     "text": [
      "quia.\n",
      "yu.\n",
      "quinslyntien.\n",
      "nolliahi.\n",
      "ha.\n"
     ]
    }
   ],
   "source": [
    "g = torch.Generator().manual_seed(2147483647)\n",
    "\n",
    "for i in range(5):\n",
    "    out = []\n",
    "    ix1 , ix2 = 0 , 0 # start token\n",
    "    \n",
    "    while True:\n",
    "        p = P[ix1, ix2]\n",
    "        draw = torch.multinomial(p, num_samples = 1 , replacement = True, generator = g).item()\n",
    "        ix1 = ix2 \n",
    "        ix2 = draw\n",
    "        out.append(itos[draw])\n",
    "\n",
    "        if ix2 == 0:\n",
    "            break\n",
    "    print(''.join(out))"
   ]
  },
  {
   "cell_type": "code",
   "execution_count": 21,
   "metadata": {},
   "outputs": [],
   "source": [
    "log_likelihood = []\n",
    "\n",
    "for w in words:\n",
    "    chs = ['.'] + list(w) + ['.']\n",
    "    for ch1, ch2, ch3 in zip(chs, chs[1:], chs[2:]):\n",
    "        ix1 = stoi[ch1]\n",
    "        ix2 = stoi[ch2]\n",
    "        ix3 = stoi[ch3]\n",
    "        p = P[ix1, ix2, ix3]\n",
    "        logprob = torch.log(p)\n",
    "        log_likelihood.append(logprob)"
   ]
  },
  {
   "cell_type": "code",
   "execution_count": 22,
   "metadata": {},
   "outputs": [
    {
     "data": {
      "text/plain": [
       "tensor(2.0927)"
      ]
     },
     "execution_count": 22,
     "metadata": {},
     "output_type": "execute_result"
    }
   ],
   "source": [
    "nll = -sum(log_likelihood)/len(log_likelihood)\n",
    "nll"
   ]
  },
  {
   "cell_type": "code",
   "execution_count": 23,
   "metadata": {},
   "outputs": [],
   "source": [
    "# now we will approach using Nueral Network (NN)\n",
    "\n",
    "# create training set of all trigrams (x,y). let's take example of one work. emma\n",
    "xs , ys = [] , []\n",
    "for w in words[:1]:\n",
    "    chs = ['.'] + list(w) + ['.'] # breaks the word into list of characters\n",
    "    for ch1, ch2, ch3 in zip(chs, chs[1:], chs[2:]):\n",
    "        ix1 = stoi[ch1]\n",
    "        ix2 = stoi[ch2]\n",
    "        ix3 = stoi[ch3]\n",
    "        xs.append((ix1,ix2))\n",
    "        ys.append(ix3)"
   ]
  },
  {
   "cell_type": "code",
   "execution_count": 24,
   "metadata": {},
   "outputs": [
    {
     "data": {
      "text/plain": [
       "[(0, 5), (5, 13), (13, 13), (13, 1)]"
      ]
     },
     "execution_count": 24,
     "metadata": {},
     "output_type": "execute_result"
    }
   ],
   "source": [
    "xs"
   ]
  },
  {
   "cell_type": "code",
   "execution_count": 25,
   "metadata": {},
   "outputs": [
    {
     "data": {
      "text/plain": [
       "tensor([[ 0,  5],\n",
       "        [ 5, 13],\n",
       "        [13, 13],\n",
       "        [13,  1]])"
      ]
     },
     "execution_count": 25,
     "metadata": {},
     "output_type": "execute_result"
    }
   ],
   "source": [
    "xs = torch.tensor(xs)\n",
    "xs"
   ]
  },
  {
   "cell_type": "code",
   "execution_count": 26,
   "metadata": {},
   "outputs": [
    {
     "data": {
      "text/plain": [
       "[13, 13, 1, 0]"
      ]
     },
     "execution_count": 26,
     "metadata": {},
     "output_type": "execute_result"
    }
   ],
   "source": [
    "ys"
   ]
  },
  {
   "cell_type": "code",
   "execution_count": 27,
   "metadata": {},
   "outputs": [],
   "source": [
    "ys = torch.tensor(ys)"
   ]
  },
  {
   "cell_type": "code",
   "execution_count": 28,
   "metadata": {},
   "outputs": [],
   "source": [
    "# let's one hot encode the indexes\n",
    "import torch.nn.functional as F\n",
    "xenc = F.one_hot(xs, num_classes = 27).float()\n",
    "xenc = xenc.flatten(1)"
   ]
  },
  {
   "cell_type": "code",
   "execution_count": 29,
   "metadata": {},
   "outputs": [
    {
     "data": {
      "text/plain": [
       "tensor([[-1.4161e+00,  1.1427e+00,  1.6257e-01,  ..., -3.6003e-01,\n",
       "         -8.2119e-01, -1.5632e+00],\n",
       "        [-7.1959e-02, -3.6383e-01,  7.4463e-01,  ...,  1.1880e+00,\n",
       "          2.4414e+00,  1.5129e-01],\n",
       "        [-4.3048e-01,  1.0561e+00,  7.9576e-01,  ..., -1.3768e+00,\n",
       "         -2.6347e+00, -1.2294e+00],\n",
       "        ...,\n",
       "        [ 1.4806e+00, -2.3179e-01, -2.0186e+00,  ...,  3.5723e-02,\n",
       "          1.1400e+00, -2.8680e-01],\n",
       "        [-2.2949e-02,  6.5543e-01,  1.1687e+00,  ..., -2.0022e-03,\n",
       "         -1.0169e-01, -1.2109e+00],\n",
       "        [ 7.0296e-01,  3.0037e+00, -7.6926e-01,  ...,  7.2339e-01,\n",
       "          1.3037e+00,  7.2492e-01]], requires_grad=True)"
      ]
     },
     "execution_count": 29,
     "metadata": {},
     "output_type": "execute_result"
    }
   ],
   "source": [
    "g = torch.Generator().manual_seed(2147983647)\n",
    "W = torch.randn((54 , 27) , requires_grad=True)\n",
    "W"
   ]
  },
  {
   "cell_type": "code",
   "execution_count": 30,
   "metadata": {},
   "outputs": [
    {
     "data": {
      "text/plain": [
       "(torch.Size([4, 54]), torch.Size([54, 27]))"
      ]
     },
     "execution_count": 30,
     "metadata": {},
     "output_type": "execute_result"
    }
   ],
   "source": [
    "xenc.shape , W.shape"
   ]
  },
  {
   "cell_type": "code",
   "execution_count": 31,
   "metadata": {},
   "outputs": [],
   "source": [
    "logits = xenc @ W # log counts"
   ]
  },
  {
   "cell_type": "code",
   "execution_count": 32,
   "metadata": {},
   "outputs": [],
   "source": [
    "counts = logits.exp()"
   ]
  },
  {
   "cell_type": "code",
   "execution_count": 33,
   "metadata": {},
   "outputs": [
    {
     "data": {
      "text/plain": [
       "tensor([[7.3195e-04, 8.2283e-02, 7.9317e-03, 3.3255e-02, 1.2344e-01, 8.1608e-02,\n",
       "         3.1106e-02, 8.7547e-03, 2.3864e-02, 3.2929e-03, 1.1683e-02, 1.2105e-02,\n",
       "         1.7112e-03, 1.9704e-01, 5.7410e-03, 2.4205e-02, 4.6082e-02, 6.5915e-03,\n",
       "         7.8675e-03, 2.0198e-02, 2.1741e-03, 5.9786e-02, 3.5171e-02, 6.6405e-02,\n",
       "         9.6034e-02, 2.5800e-03, 8.3640e-03],\n",
       "        [5.2415e-03, 9.1430e-03, 4.2676e-02, 1.5511e-02, 3.6094e-02, 6.5416e-02,\n",
       "         6.8232e-02, 1.7006e-03, 1.0237e-02, 8.9780e-03, 1.9050e-02, 5.4922e-02,\n",
       "         1.0665e-02, 2.2260e-03, 9.4412e-02, 1.3869e-03, 8.0612e-03, 2.0505e-01,\n",
       "         1.5228e-03, 9.5389e-03, 2.2229e-02, 3.2209e-02, 1.6361e-01, 1.6322e-02,\n",
       "         2.0596e-02, 6.1828e-02, 1.3146e-02],\n",
       "        [2.1156e-04, 1.7804e-03, 8.9477e-03, 1.9468e-02, 1.2605e-02, 3.6700e-02,\n",
       "         4.2149e-02, 1.6534e-02, 1.9048e-02, 7.2659e-02, 3.5635e-02, 2.4492e-02,\n",
       "         5.4557e-03, 1.8007e-02, 3.1899e-02, 3.6672e-03, 6.1302e-02, 2.4708e-01,\n",
       "         1.6010e-03, 3.4526e-02, 2.1483e-02, 1.2633e-02, 2.1423e-01, 2.0038e-02,\n",
       "         6.3012e-03, 1.7233e-02, 1.4309e-02],\n",
       "        [3.2643e-04, 7.8818e-03, 1.9663e-02, 3.1800e-02, 1.4676e-02, 8.4485e-03,\n",
       "         9.8363e-03, 5.1128e-02, 2.3297e-02, 9.5351e-02, 2.6212e-01, 1.1445e-01,\n",
       "         6.8656e-03, 4.9616e-03, 3.3976e-03, 6.3634e-02, 3.4633e-02, 6.6087e-03,\n",
       "         1.6321e-03, 9.1159e-02, 3.9918e-02, 1.0358e-02, 2.9580e-02, 4.4144e-02,\n",
       "         3.8596e-03, 1.9177e-02, 1.0947e-03]], grad_fn=<DivBackward0>)"
      ]
     },
     "execution_count": 33,
     "metadata": {},
     "output_type": "execute_result"
    }
   ],
   "source": [
    "probs = counts / counts.sum(1 , keepdims = True)\n",
    "probs"
   ]
  },
  {
   "cell_type": "code",
   "execution_count": 34,
   "metadata": {},
   "outputs": [],
   "source": [
    "# create training set of all trigrams (x,y). \n",
    "xs , ys = [] , []\n",
    "for w in words:\n",
    "    chs = ['.'] + list(w) + ['.'] # breaks the word into list of characters\n",
    "    for ch1, ch2, ch3 in zip(chs, chs[1:], chs[2:]):\n",
    "        ix1 = stoi[ch1]\n",
    "        ix2 = stoi[ch2]\n",
    "        ix3 = stoi[ch3]\n",
    "        xs.append((ix1,ix2))\n",
    "        ys.append(ix3)"
   ]
  },
  {
   "cell_type": "code",
   "execution_count": 35,
   "metadata": {},
   "outputs": [],
   "source": [
    "xs = torch.tensor(xs)\n",
    "ys = torch.tensor(ys)"
   ]
  },
  {
   "cell_type": "code",
   "execution_count": 36,
   "metadata": {},
   "outputs": [
    {
     "data": {
      "text/plain": [
       "(torch.Size([196113, 54]), torch.Size([196113]), 196113)"
      ]
     },
     "execution_count": 36,
     "metadata": {},
     "output_type": "execute_result"
    }
   ],
   "source": [
    "# let's one hot encode the indexes\n",
    "import torch.nn.functional as F\n",
    "xenc = F.one_hot(xs, num_classes = 27).float()\n",
    "xenc = xenc.flatten(1)\n",
    "number_of_inputs = xs.shape[0]\n",
    "xenc.shape , ys.shape, number_of_inputs"
   ]
  },
  {
   "cell_type": "code",
   "execution_count": 37,
   "metadata": {},
   "outputs": [],
   "source": [
    "g = torch.Generator().manual_seed(2147483647)\n",
    "W = torch.randn((27 * 2, 27), generator=g, requires_grad=True) # need to pass requires grad = True so that torch knows we want\n",
    "# to calculte the grad of this leaf tensor"
   ]
  },
  {
   "cell_type": "code",
   "execution_count": 38,
   "metadata": {},
   "outputs": [
    {
     "name": "stdout",
     "output_type": "stream",
     "text": [
      "4.1959710121154785\n",
      "3.365379571914673\n",
      "3.049534320831299\n",
      "2.8784797191619873\n",
      "2.7739577293395996\n",
      "2.7012393474578857\n",
      "2.6454999446868896\n",
      "2.601283550262451\n",
      "2.5652339458465576\n",
      "2.535409927368164\n",
      "2.51039719581604\n",
      "2.4892263412475586\n",
      "2.4711148738861084\n",
      "2.455474853515625\n",
      "2.4418272972106934\n",
      "2.4298088550567627\n",
      "2.4191300868988037\n",
      "2.4095728397369385\n",
      "2.4009628295898438\n",
      "2.3931643962860107\n",
      "2.38606595993042\n",
      "2.3795783519744873\n",
      "2.373626708984375\n",
      "2.368147850036621\n",
      "2.3630881309509277\n",
      "2.358403205871582\n",
      "2.354053020477295\n",
      "2.3500046730041504\n",
      "2.3462281227111816\n",
      "2.342698097229004\n",
      "2.3393921852111816\n",
      "2.3362908363342285\n",
      "2.3333756923675537\n",
      "2.330632209777832\n",
      "2.3280460834503174\n",
      "2.3256044387817383\n",
      "2.3232970237731934\n",
      "2.321112632751465\n",
      "2.3190431594848633\n",
      "2.317080020904541\n",
      "2.3152151107788086\n",
      "2.3134419918060303\n",
      "2.311753988265991\n",
      "2.3101463317871094\n",
      "2.308612585067749\n",
      "2.307147979736328\n",
      "2.3057494163513184\n",
      "2.3044114112854004\n",
      "2.3031303882598877\n",
      "2.301903486251831\n",
      "2.300726890563965\n",
      "2.2995975017547607\n",
      "2.298513650894165\n",
      "2.297471284866333\n",
      "2.296468734741211\n",
      "2.295503854751587\n",
      "2.294574499130249\n",
      "2.2936789989471436\n",
      "2.2928152084350586\n",
      "2.2919814586639404\n",
      "2.2911763191223145\n",
      "2.290398597717285\n",
      "2.289646625518799\n",
      "2.28891921043396\n",
      "2.288215398788452\n",
      "2.2875335216522217\n",
      "2.2868733406066895\n",
      "2.2862329483032227\n",
      "2.2856123447418213\n",
      "2.2850098609924316\n",
      "2.2844254970550537\n",
      "2.283857583999634\n",
      "2.283306121826172\n",
      "2.2827701568603516\n",
      "2.2822489738464355\n",
      "2.2817423343658447\n",
      "2.2812492847442627\n",
      "2.280768871307373\n",
      "2.280301809310913\n",
      "2.279846668243408\n",
      "2.2794029712677\n",
      "2.2789711952209473\n",
      "2.2785494327545166\n",
      "2.2781383991241455\n",
      "2.2777373790740967\n",
      "2.277346611022949\n",
      "2.2769646644592285\n",
      "2.2765917778015137\n",
      "2.2762274742126465\n",
      "2.275872230529785\n",
      "2.275524616241455\n",
      "2.2751851081848145\n",
      "2.274853467941284\n",
      "2.274528741836548\n",
      "2.2742109298706055\n",
      "2.2739005088806152\n",
      "2.2735965251922607\n",
      "2.2732994556427\n",
      "2.273008346557617\n",
      "2.272723436355591\n"
     ]
    }
   ],
   "source": [
    "# gradient descent, 100 iterations\n",
    "for k in range(100):\n",
    "  # forward pass\n",
    "  logits = xenc @ W # predict log-counts\n",
    "  counts = logits.exp() # counts, equivalent to N\n",
    "  probs = counts / counts.sum(1, keepdims=True) # probabilities for next character\n",
    "  loss = -probs[torch.arange(number_of_inputs), ys].log().mean() + 0.01*(W**2).mean() # regularization added\n",
    "  print(loss.item())\n",
    "    \n",
    "  # backward pass\n",
    "  W.grad = None # set gradient to zero\n",
    "  loss.backward()\n",
    "  \n",
    "  # update\n",
    "  W.data += -50 * W.grad"
   ]
  },
  {
   "cell_type": "code",
   "execution_count": 39,
   "metadata": {},
   "outputs": [
    {
     "name": "stdout",
     "output_type": "stream",
     "text": [
      "nor.\n",
      "ays.\n",
      "nileyloryear.\n",
      "erellais.\n",
      "ah.\n"
     ]
    }
   ],
   "source": [
    "g = torch.Generator().manual_seed(2147483647)\n",
    "\n",
    "for i in range(5):\n",
    "    out = []\n",
    "    ix1 , ix2 = 0 , 0 # start token\n",
    "    \n",
    "    while True:\n",
    "        xenc = F.one_hot(torch.tensor([ix1, ix2]), num_classes=27).float()\n",
    "        xenc_flattened = xenc.flatten(0)\n",
    "        logits = xenc_flattened @ W\n",
    "        counts = logits.exp()\n",
    "        p = counts/counts.sum(0, keepdims=True)\n",
    "        ix1 = ix2 \n",
    "        ix2 = torch.multinomial(p, num_samples=1, replacement=True, generator=g).item()\n",
    "        out.append(itos[ix2])\n",
    "\n",
    "        if ix2 == 0:\n",
    "            break\n",
    "    print(''.join(out))"
   ]
  },
  {
   "cell_type": "code",
   "execution_count": 40,
   "metadata": {},
   "outputs": [],
   "source": [
    "#E02\n",
    "#split up the dataset randomly into 80% train set, 10% dev set, 10% test set. \n",
    "#Train the bigram and trigram models only on the training set.\n",
    "#Evaluate them on dev and test splits. What can you see?"
   ]
  },
  {
   "cell_type": "code",
   "execution_count": 127,
   "metadata": {},
   "outputs": [],
   "source": [
    "def createTrigramDataset(words):\n",
    "    xs , ys = [] , []\n",
    "    for w in words:\n",
    "        chs = ['.'] + list(w) + ['.']\n",
    "        for ch1, ch2, ch3 in zip(chs , chs[1:] , chs[2:]):\n",
    "            ix1 = stoi[ch1]\n",
    "            ix2 = stoi[ch2]\n",
    "            ix3 = stoi[ch3]\n",
    "            xs.append((ix1, ix2))\n",
    "            ys.append(ix3)\n",
    "    \n",
    "    xs = F.one_hot(torch.tensor(xs), num_classes = 27).float()\n",
    "    xs = xs.flatten(1)\n",
    "    return torch.tensor(xs) , torch.tensor(ys)\n",
    "\n",
    "def createBigramDataset(words):\n",
    "    xs , ys = [] , []\n",
    "    for w in words:\n",
    "        chs = ['.'] + list(w) + ['.']\n",
    "        for ch1, ch2 in zip(chs , chs[1:]):\n",
    "            ix1 = stoi[ch1]\n",
    "            ix2 = stoi[ch2]\n",
    "            xs.append(ix1)\n",
    "            ys.append(ix2)\n",
    "            \n",
    "    xs = F.one_hot(torch.tensor(xs), num_classes = 27).float()\n",
    "    return torch.tensor(xs) , torch.tensor(ys)\n",
    "\n",
    "def createTrainDevAndTestSet(xs, ys):\n",
    "    g = torch.Generator().manual_seed(2147483647)\n",
    "    train_set_idxs, dev_set_idxs, test_set_idxs = torch.utils.data.random_split(range(xs.shape[0]), [0.8 , 0.1 , 0.1], generator=g)\n",
    "    \n",
    "    train_set_idxs = torch.tensor(train_set_idxs)\n",
    "    dev_set_idxs = torch.tensor(dev_set_idxs)\n",
    "    test_set_idxs = torch.tensor(test_set_idxs)\n",
    "    \n",
    "    x_train , y_train = xs[train_set_idxs] , ys[train_set_idxs]\n",
    "    x_dev, y_dev = xs[dev_set_idxs] , ys[dev_set_idxs]\n",
    "    x_test, y_test = xs[test_set_idxs] , ys[test_set_idxs]\n",
    "    \n",
    "    return x_train , y_train , x_dev, y_dev, x_test, y_test"
   ]
  },
  {
   "cell_type": "code",
   "execution_count": 98,
   "metadata": {},
   "outputs": [
    {
     "name": "stderr",
     "output_type": "stream",
     "text": [
      "C:\\Users\\Manas\\Anaconda3\\lib\\site-packages\\ipykernel_launcher.py:14: UserWarning: To copy construct from a tensor, it is recommended to use sourceTensor.clone().detach() or sourceTensor.clone().detach().requires_grad_(True), rather than torch.tensor(sourceTensor).\n",
      "  \n"
     ]
    }
   ],
   "source": [
    "xs , ys = createTrigramDataset(words)"
   ]
  },
  {
   "cell_type": "code",
   "execution_count": 99,
   "metadata": {},
   "outputs": [],
   "source": [
    "x_train , y_train , x_dev, y_dev, x_test, y_test = createTrainDevAndTestSet(xs,ys)"
   ]
  },
  {
   "cell_type": "code",
   "execution_count": 100,
   "metadata": {},
   "outputs": [
    {
     "name": "stdout",
     "output_type": "stream",
     "text": [
      "torch.Size([156891, 54]) torch.Size([156891])\n",
      "torch.Size([19611, 54]) torch.Size([19611])\n",
      "torch.Size([19611, 54]) torch.Size([19611])\n"
     ]
    }
   ],
   "source": [
    "print(x_train.shape , y_train.shape)\n",
    "print(x_dev.shape , y_dev.shape)\n",
    "print(x_test.shape , y_test.shape)"
   ]
  },
  {
   "cell_type": "code",
   "execution_count": 158,
   "metadata": {},
   "outputs": [],
   "source": [
    "def trainTrigram(X, y , epochs , lr , reg):\n",
    "    g = torch.Generator().manual_seed(2147483647)\n",
    "    W = torch.randn((27 * 2, 27), generator=g, requires_grad=True) # need to pass requires grad = True so that torch knows we want\n",
    "    # to calculte the grad of this leaf tensor\n",
    "    number_of_inputs = X.shape[0]\n",
    "    # gradient descent, 100 iterations\n",
    "    for k in range(epochs):\n",
    "        # forward pass\n",
    "        logits = X @ W # predict log-counts\n",
    "        counts = logits.exp() # counts, equivalent to N\n",
    "        probs = counts / counts.sum(1, keepdims=True) # probabilities for next character\n",
    "        loss = -probs[torch.arange(number_of_inputs), y].log().mean() + reg*(W**2).mean() # regularization added\n",
    "        \n",
    "        #print(loss.item())\n",
    "        loss_hist.append(loss)\n",
    "        # backward pass\n",
    "        W.grad = None # set gradient to zero\n",
    "        loss.backward()\n",
    "  \n",
    "        # update\n",
    "        W.data += -lr * W.grad\n",
    "    \n",
    "    return W , loss.item()\n",
    "\n",
    "\n",
    "def trainBigram(X, y , epochs , lr , reg):\n",
    "    g = torch.Generator().manual_seed(2147483647)\n",
    "    W = torch.randn((27 , 27), generator=g, requires_grad=True) # need to pass requires grad = True so that torch knows we want\n",
    "    # to calculate the grad of this leaf tensor\n",
    "    number_of_inputs = X.shape[0]\n",
    "    # gradient descent, 100 iterations\n",
    "    for k in range(epochs):\n",
    "        # forward pass\n",
    "        logits = X @ W # predict log-counts\n",
    "        counts = logits.exp() # counts, equivalent to N\n",
    "        probs = counts / counts.sum(1, keepdims=True) # probabilities for next character\n",
    "        loss = -probs[torch.arange(number_of_inputs), y].log().mean() + reg*(W**2).mean() # regularization added\n",
    "        \n",
    "        #print(loss.item())\n",
    "        loss_hist.append(loss)\n",
    "        # backward pass\n",
    "        W.grad = None # set gradient to zero\n",
    "        loss.backward()\n",
    "  \n",
    "        # update\n",
    "        W.data += -lr * W.grad\n",
    "    \n",
    "    return W , loss.item() "
   ]
  },
  {
   "cell_type": "code",
   "execution_count": 160,
   "metadata": {},
   "outputs": [],
   "source": [
    "W_trigram , loss = trainTrigram(x_train , y_train, 100 , 50 , 0.1)"
   ]
  },
  {
   "cell_type": "code",
   "execution_count": 162,
   "metadata": {},
   "outputs": [],
   "source": [
    "def evaluate_loss(model , X , y):\n",
    "    logits = X @ model\n",
    "    counts = logits.exp()\n",
    "    probs = counts / counts.sum(1, keepdims = True)\n",
    "    loss = -probs[torch.arange(X.shape[0]), y].log().mean().item()\n",
    "    return loss"
   ]
  },
  {
   "cell_type": "code",
   "execution_count": 163,
   "metadata": {},
   "outputs": [
    {
     "name": "stdout",
     "output_type": "stream",
     "text": [
      "dev set loss :  2.2833502292633057\n",
      "test set loss :  2.2709267139434814\n"
     ]
    }
   ],
   "source": [
    "loss_on_dev_set = evaluate_loss(W_trigram , x_dev , y_dev)\n",
    "loss_on_test_set = evaluate_loss(W_trigram , x_test , y_test)\n",
    "\n",
    "print('dev set loss : ' , loss_on_dev_set)\n",
    "print('test set loss : ' , loss_on_test_set)"
   ]
  },
  {
   "cell_type": "code",
   "execution_count": 164,
   "metadata": {},
   "outputs": [
    {
     "name": "stderr",
     "output_type": "stream",
     "text": [
      "C:\\Users\\Manas\\Anaconda3\\lib\\site-packages\\ipykernel_launcher.py:27: UserWarning: To copy construct from a tensor, it is recommended to use sourceTensor.clone().detach() or sourceTensor.clone().detach().requires_grad_(True), rather than torch.tensor(sourceTensor).\n"
     ]
    }
   ],
   "source": [
    "xs , ys = createBigramDataset(words)"
   ]
  },
  {
   "cell_type": "code",
   "execution_count": 165,
   "metadata": {},
   "outputs": [],
   "source": [
    "x_train , y_train , x_dev, y_dev, x_test, y_test = createTrainDevAndTestSet(xs,ys)"
   ]
  },
  {
   "cell_type": "code",
   "execution_count": 166,
   "metadata": {},
   "outputs": [
    {
     "name": "stdout",
     "output_type": "stream",
     "text": [
      "torch.Size([182517, 27]) torch.Size([182517])\n",
      "torch.Size([22815, 27]) torch.Size([22815])\n",
      "torch.Size([22814, 27]) torch.Size([22814])\n"
     ]
    }
   ],
   "source": [
    "print(x_train.shape , y_train.shape)\n",
    "print(x_dev.shape , y_dev.shape)\n",
    "print(x_test.shape , y_test.shape)"
   ]
  },
  {
   "cell_type": "code",
   "execution_count": 167,
   "metadata": {},
   "outputs": [],
   "source": [
    "W_bigram , loss_bigram = trainBigram(x_train , y_train, 100 , 50 , 0.1)"
   ]
  },
  {
   "cell_type": "code",
   "execution_count": 168,
   "metadata": {},
   "outputs": [
    {
     "data": {
      "text/plain": [
       "2.586700677871704"
      ]
     },
     "execution_count": 168,
     "metadata": {},
     "output_type": "execute_result"
    }
   ],
   "source": [
    "loss_bigram"
   ]
  },
  {
   "cell_type": "code",
   "execution_count": 169,
   "metadata": {},
   "outputs": [
    {
     "name": "stdout",
     "output_type": "stream",
     "text": [
      "dev set loss :  2.5082480907440186\n",
      "test set loss :  2.510897636413574\n"
     ]
    }
   ],
   "source": [
    "loss_on_dev_set = evaluate_loss(W_bigram , x_dev , y_dev)\n",
    "loss_on_test_set = evaluate_loss(W_bigram , x_test , y_test)\n",
    "\n",
    "print('dev set loss : ' , loss_on_dev_set)\n",
    "print('test set loss : ' , loss_on_test_set)"
   ]
  },
  {
   "cell_type": "code",
   "execution_count": null,
   "metadata": {},
   "outputs": [],
   "source": [
    "#E03:\n",
    "#Use the dev set to tune the strength of smoothing (or regularization) for the trigram model - \n",
    "#i.e. try many possibilities and see which one works best based on the dev set loss. \n",
    "#What patterns can you see in the train and dev set loss as you tune this strength?\n",
    "#Take the best setting of the smoothing and evaluate on the test set once and at the end. \n",
    "#How good of a loss do you achieve?"
   ]
  },
  {
   "cell_type": "code",
   "execution_count": 156,
   "metadata": {},
   "outputs": [
    {
     "data": {
      "text/plain": [
       "[0.009999999776482582,\n",
       " 0.035789474844932556,\n",
       " 0.06157895177602768,\n",
       " 0.0873684212565422,\n",
       " 0.11315789818763733,\n",
       " 0.13894738256931305,\n",
       " 0.16473685204982758,\n",
       " 0.1905263364315033,\n",
       " 0.21631580591201782,\n",
       " 0.24210527539253235,\n",
       " 0.2678947448730469,\n",
       " 0.2936842441558838,\n",
       " 0.3194737136363983,\n",
       " 0.34526318311691284,\n",
       " 0.37105265259742737,\n",
       " 0.3968421220779419,\n",
       " 0.42263156175613403,\n",
       " 0.44842106103897095,\n",
       " 0.4742105305194855,\n",
       " 0.5]"
      ]
     },
     "execution_count": 156,
     "metadata": {},
     "output_type": "execute_result"
    }
   ],
   "source": [
    "reg_list = torch.linspace(0.01, 0.5, 20).tolist()\n",
    "reg_list"
   ]
  },
  {
   "cell_type": "code",
   "execution_count": 170,
   "metadata": {},
   "outputs": [
    {
     "name": "stderr",
     "output_type": "stream",
     "text": [
      "C:\\Users\\Manas\\Anaconda3\\lib\\site-packages\\ipykernel_launcher.py:14: UserWarning: To copy construct from a tensor, it is recommended to use sourceTensor.clone().detach() or sourceTensor.clone().detach().requires_grad_(True), rather than torch.tensor(sourceTensor).\n",
      "  \n"
     ]
    }
   ],
   "source": [
    "xs , ys = createTrigramDataset(words)\n",
    "\n",
    "x_train , y_train , x_dev, y_dev, x_test, y_test = createTrainDevAndTestSet(xs,ys)\n",
    "\n",
    "train_losses = []\n",
    "val_losses = []\n",
    "\n",
    "for reg in reg_list:\n",
    "    model , train_loss = trainTrigram(x_train, y_train , 100 , 50 , reg)\n",
    "    val_loss = evaluate_loss(model, x_dev , y_dev)\n",
    "    \n",
    "    train_losses.append(train_loss)\n",
    "    val_losses.append(val_loss)\n",
    "    "
   ]
  },
  {
   "cell_type": "code",
   "execution_count": 177,
   "metadata": {},
   "outputs": [
    {
     "data": {
      "image/png": "[encoded data removed]",
      "text/plain": [
       "<Figure size 576x576 with 1 Axes>"
      ]
     },
     "metadata": {
      "needs_background": "light"
     },
     "output_type": "display_data"
    }
   ],
   "source": [
    "import matplotlib.pyplot as plt\n",
    "\n",
    "plt.rcParams[\"figure.figsize\"] = (8,8)\n",
    "plt.plot(reg_list , train_losses)\n",
    "plt.plot(reg_list , val_losses)\n",
    "plt.title('model loss')\n",
    "plt.ylabel('loss')\n",
    "plt.xlabel('regularization parameter')\n",
    "plt.legend(['train', 'val'], loc='upper left')\n",
    "plt.show()"
   ]
  },
  {
   "cell_type": "code",
   "execution_count": 179,
   "metadata": {},
   "outputs": [],
   "source": [
    "best_model , best_loss = trainTrigram(x_train, y_train , 100 , 50 , 0)"
   ]
  },
  {
   "cell_type": "code",
   "execution_count": 180,
   "metadata": {},
   "outputs": [
    {
     "data": {
      "text/plain": [
       "2.2631618976593018"
      ]
     },
     "execution_count": 180,
     "metadata": {},
     "output_type": "execute_result"
    }
   ],
   "source": [
    "best_loss"
   ]
  },
  {
   "cell_type": "code",
   "execution_count": 181,
   "metadata": {},
   "outputs": [
    {
     "name": "stdout",
     "output_type": "stream",
     "text": [
      "2.344167470932007\n"
     ]
    }
   ],
   "source": [
    "print(evaluate_loss(model, x_dev , y_dev))"
   ]
  },
  {
   "cell_type": "code",
   "execution_count": 182,
   "metadata": {},
   "outputs": [
    {
     "name": "stdout",
     "output_type": "stream",
     "text": [
      "2.331618070602417\n"
     ]
    }
   ],
   "source": [
    "print(evaluate_loss(model, x_test , y_test))"
   ]
  },
  {
   "cell_type": "code",
   "execution_count": null,
   "metadata": {},
   "outputs": [],
   "source": [
    "#We saw that our 1-hot vectors merely select a row of W, \n",
    "#so producing these vectors explicitly feels wasteful.\n",
    "#Can you delete our use of F.one_hot in favor of simply indexing into rows of W?"
   ]
  },
  {
   "cell_type": "code",
   "execution_count": 197,
   "metadata": {},
   "outputs": [],
   "source": [
    "xs , ys = [] , []\n",
    "for w in words:\n",
    "    chs = ['.'] + list(w) + ['.']\n",
    "    for ch1, ch2, ch3 in zip(chs , chs[1:] , chs[2:]):\n",
    "        ix1 = stoi[ch1]\n",
    "        ix2 = stoi[ch2]\n",
    "        ix3 = stoi[ch3]\n",
    "        xs.append((ix1, ix2))\n",
    "        ys.append(ix3)\n",
    "\n",
    "xs = torch.tensor(xs)\n",
    "ys = torch.tensor(ys)"
   ]
  },
  {
   "cell_type": "code",
   "execution_count": 198,
   "metadata": {},
   "outputs": [],
   "source": [
    "g = torch.Generator().manual_seed(2147483647)\n",
    "W = torch.randn((27 * 2 , 27), generator=g)"
   ]
  },
  {
   "cell_type": "code",
   "execution_count": 202,
   "metadata": {},
   "outputs": [
    {
     "data": {
      "text/plain": [
       "(torch.Size([196113, 2]), torch.Size([54, 27]))"
      ]
     },
     "execution_count": 202,
     "metadata": {},
     "output_type": "execute_result"
    }
   ],
   "source": [
    "xs.shape , W.shape"
   ]
  },
  {
   "cell_type": "code",
   "execution_count": 200,
   "metadata": {},
   "outputs": [
    {
     "name": "stderr",
     "output_type": "stream",
     "text": [
      "C:\\Users\\Manas\\Anaconda3\\lib\\site-packages\\ipykernel_launcher.py:1: UserWarning: To copy construct from a tensor, it is recommended to use sourceTensor.clone().detach() or sourceTensor.clone().detach().requires_grad_(True), rather than torch.tensor(sourceTensor).\n",
      "  \"\"\"Entry point for launching an IPython kernel.\n"
     ]
    }
   ],
   "source": [
    "xs_oneh = F.one_hot(torch.tensor(xs), num_classes = 27).float()\n",
    "xs_oneh = xs_oneh.flatten(1)"
   ]
  },
  {
   "cell_type": "code",
   "execution_count": 220,
   "metadata": {},
   "outputs": [
    {
     "data": {
      "text/plain": [
       "tensor([[ 0.5352,  0.2418, -0.2616,  ..., -1.6675,  0.6432,  1.0764],\n",
       "        [ 0.8098,  1.5744,  0.0988,  ..., -0.9052, -0.2371,  3.2653],\n",
       "        [ 0.5310,  1.1447,  0.4153,  ...,  1.0670,  2.4894,  1.5959],\n",
       "        ...,\n",
       "        [ 0.3543,  0.8678,  0.0411,  ..., -1.8267,  1.9362, -0.1628],\n",
       "        [ 0.4902, -1.4578,  0.0746,  ..., -0.0480,  0.8478, -1.1147],\n",
       "        [ 1.5952, -0.6920, -0.7784,  ..., -1.5724,  0.8434, -0.9350]])"
      ]
     },
     "execution_count": 220,
     "metadata": {},
     "output_type": "execute_result"
    }
   ],
   "source": [
    "xs_oneh @ W"
   ]
  },
  {
   "cell_type": "code",
   "execution_count": 213,
   "metadata": {},
   "outputs": [
    {
     "data": {
      "text/plain": [
       "tensor([ 0,  5, 13,  ..., 26, 25, 26])"
      ]
     },
     "execution_count": 213,
     "metadata": {},
     "output_type": "execute_result"
    }
   ],
   "source": [
    "xs[: , 0]"
   ]
  },
  {
   "cell_type": "code",
   "execution_count": 212,
   "metadata": {},
   "outputs": [
    {
     "data": {
      "text/plain": [
       "tensor([ 5, 13, 13,  ..., 25, 26, 24])"
      ]
     },
     "execution_count": 212,
     "metadata": {},
     "output_type": "execute_result"
    }
   ],
   "source": [
    "xs[: , 1]"
   ]
  },
  {
   "cell_type": "code",
   "execution_count": 240,
   "metadata": {},
   "outputs": [
    {
     "data": {
      "text/plain": [
       "tensor([[ 0.5352,  0.2418, -0.2616,  ..., -1.6675,  0.6432,  1.0764],\n",
       "        [ 0.8098,  1.5744,  0.0988,  ..., -0.9052, -0.2371,  3.2653],\n",
       "        [ 0.5310,  1.1447,  0.4153,  ...,  1.0670,  2.4894,  1.5959],\n",
       "        ...,\n",
       "        [ 0.3543,  0.8678,  0.0411,  ..., -1.8267,  1.9362, -0.1628],\n",
       "        [ 0.4902, -1.4578,  0.0746,  ..., -0.0480,  0.8478, -1.1147],\n",
       "        [ 1.5952, -0.6920, -0.7784,  ..., -1.5724,  0.8434, -0.9350]])"
      ]
     },
     "execution_count": 240,
     "metadata": {},
     "output_type": "execute_result"
    }
   ],
   "source": [
    "W[xs[: , 0]] + W[xs[: , 1]+27] # first half is first character , second half for the second character"
   ]
  }
 ],
 "metadata": {
  "kernelspec": {
   "display_name": "Python 3",
   "language": "python",
   "name": "python3"
  },
  "language_info": {
   "codemirror_mode": {
    "name": "ipython",
    "version": 3
   },
   "file_extension": ".py",
   "mimetype": "text/x-python",
   "name": "python",
   "nbconvert_exporter": "python",
   "pygments_lexer": "ipython3",
   "version": "3.7.1"
  }
 },
 "nbformat": 4,
 "nbformat_minor": 4
}
