{
 "cells": [
  {
   "cell_type": "code",
   "execution_count": 1,
   "metadata": {},
   "outputs": [],
   "source": [
    "# E01: Tune the hyperparameters of the training to beat my best validation loss of 2.2"
   ]
  },
  {
   "cell_type": "code",
   "execution_count": 2,
   "metadata": {},
   "outputs": [],
   "source": [
    "import torch\n",
    "import torch.nn.functional as F\n",
    "import matplotlib.pyplot as plt # for making figures\n",
    "%matplotlib inline"
   ]
  },
  {
   "cell_type": "code",
   "execution_count": 3,
   "metadata": {},
   "outputs": [
    {
     "data": {
      "text/plain": [
       "['emma', 'olivia', 'ava', 'isabella', 'sophia', 'charlotte', 'mia', 'amelia']"
      ]
     },
     "execution_count": 3,
     "metadata": {},
     "output_type": "execute_result"
    }
   ],
   "source": [
    "# read in all the words\n",
    "words = open('names.txt', 'r').read().splitlines()\n",
    "words[:8]"
   ]
  },
  {
   "cell_type": "code",
   "execution_count": 4,
   "metadata": {},
   "outputs": [
    {
     "name": "stdout",
     "output_type": "stream",
     "text": [
      "['a', 'b', 'c', 'd', 'e', 'f', 'g', 'h', 'i', 'j', 'k', 'l', 'm', 'n', 'o', 'p', 'q', 'r', 's', 't', 'u', 'v', 'w', 'x', 'y', 'z'] \n",
      "\n",
      "{'a': 1, 'b': 2, 'c': 3, 'd': 4, 'e': 5, 'f': 6, 'g': 7, 'h': 8, 'i': 9, 'j': 10, 'k': 11, 'l': 12, 'm': 13, 'n': 14, 'o': 15, 'p': 16, 'q': 17, 'r': 18, 's': 19, 't': 20, 'u': 21, 'v': 22, 'w': 23, 'x': 24, 'y': 25, 'z': 26, '.': 0} \n",
      "\n",
      "{1: 'a', 2: 'b', 3: 'c', 4: 'd', 5: 'e', 6: 'f', 7: 'g', 8: 'h', 9: 'i', 10: 'j', 11: 'k', 12: 'l', 13: 'm', 14: 'n', 15: 'o', 16: 'p', 17: 'q', 18: 'r', 19: 's', 20: 't', 21: 'u', 22: 'v', 23: 'w', 24: 'x', 25: 'y', 26: 'z', 0: '.'} \n",
      "\n"
     ]
    }
   ],
   "source": [
    "# build the vocabulary of characters and mappings to/from integers\n",
    "chars = sorted(list(set(''.join(words))))\n",
    "print(chars, '\\n')\n",
    "\n",
    "stoi = {s:i+1 for i,s in enumerate(chars)}\n",
    "stoi['.'] = 0\n",
    "print(stoi , '\\n')\n",
    "\n",
    "itos = {i:s for s,i in stoi.items()}\n",
    "print(itos , '\\n')"
   ]
  },
  {
   "cell_type": "code",
   "execution_count": 5,
   "metadata": {},
   "outputs": [],
   "source": [
    "def buildDataset(words , block_size):\n",
    "    X , Y = [] , [] \n",
    "    for word in words:\n",
    "        context = [0] * block_size\n",
    "        word =  word + '.' # append a end character to word, so the generator is trained to stop\n",
    "        for ch in word:\n",
    "            ix = stoi[ch]\n",
    "            X.append(context)\n",
    "            Y.append(ix)\n",
    "            context = context[1:] + [ix]\n",
    "    return X, Y"
   ]
  },
  {
   "cell_type": "code",
   "execution_count": 6,
   "metadata": {},
   "outputs": [],
   "source": [
    "import random\n",
    "\n",
    "def trainDevAndTestSplit(words , block_size):\n",
    "    random.seed(42)\n",
    "    random.shuffle(words)\n",
    "    n1 = int(0.8 * len(words))\n",
    "    n2 = int(0.9 * len(words))\n",
    "    xtr, ytr = buildDataset(words[:n1], block_size)\n",
    "    xdev, ydev = buildDataset(words[n1:n2], block_size)\n",
    "    xtest, ytest = buildDataset(words[n2:], block_size)\n",
    "    return torch.tensor(xtr), torch.tensor(ytr), torch.tensor(xdev), torch.tensor(ydev), torch.tensor(xtest), torch.tensor(ytest)"
   ]
  },
  {
   "cell_type": "code",
   "execution_count": 7,
   "metadata": {},
   "outputs": [
    {
     "name": "stdout",
     "output_type": "stream",
     "text": [
      "torch.Size([182625, 3]) torch.Size([182625])\n",
      "torch.Size([22655, 3]) torch.Size([22655])\n",
      "torch.Size([22866, 3]) torch.Size([22866])\n"
     ]
    }
   ],
   "source": [
    "block_size = 3\n",
    "xtr, ytr, xdev, ydev, xtest, ytest = trainDevAndTestSplit(words, block_size)\n",
    "\n",
    "print(xtr.shape, ytr.shape)\n",
    "print(xdev.shape, ydev.shape)\n",
    "print(xtest.shape, ytest.shape)"
   ]
  },
  {
   "cell_type": "code",
   "execution_count": 8,
   "metadata": {},
   "outputs": [],
   "source": [
    "g = torch.Generator().manual_seed(2147483647) # for reproducibility\n",
    "\n",
    "character_embedding_size = 10\n",
    "layer1_size = 200\n",
    "\n",
    "C = torch.randn((27 , character_embedding_size) , generator = g) # character embedding\n",
    "W1 = torch.randn((character_embedding_size * block_size , layer1_size) , generator = g)\n",
    "b1 = torch.randn(layer1_size , generator = g)\n",
    "W2 = torch.randn((layer1_size , 27) , generator = g)\n",
    "b2 = torch.randn(27 , generator = g)"
   ]
  },
  {
   "cell_type": "code",
   "execution_count": 9,
   "metadata": {},
   "outputs": [
    {
     "name": "stdout",
     "output_type": "stream",
     "text": [
      "Total no of parameters  11897\n"
     ]
    }
   ],
   "source": [
    "network_parameters = [C , W1 , b1 , W2, b2]\n",
    "print('Total no of parameters ' , sum(p.nelement() for p in network_parameters))"
   ]
  },
  {
   "cell_type": "code",
   "execution_count": 10,
   "metadata": {},
   "outputs": [],
   "source": [
    "for p in network_parameters:\n",
    "    p.requires_grad = True"
   ]
  },
  {
   "cell_type": "code",
   "execution_count": 11,
   "metadata": {},
   "outputs": [],
   "source": [
    "def forwardAndBackwardPass(x , y , batch_size , lr):\n",
    "    ix_batch = torch.randint(0 , x.shape[0], (batch_size, ))\n",
    "    x_batch = x[ix_batch]\n",
    "    embed_batch = C[x_batch].flatten(1)\n",
    "    \n",
    "    y_batch = y[ix_batch]\n",
    "    \n",
    "    h0 = embed_batch @ W1 + b1\n",
    "    \n",
    "    h1 = torch.tanh(h0)\n",
    "    \n",
    "    logits = h1 @ W2 + b2\n",
    "    \n",
    "    loss = F.cross_entropy(logits , y_batch)\n",
    "    \n",
    "    # backward pass \n",
    "    for p in network_parameters:\n",
    "        p.grad = None\n",
    "    \n",
    "    loss.backward()\n",
    "    \n",
    "    # update grad\n",
    "    for p in network_parameters:\n",
    "        p.data += -lr * p.grad\n",
    "        \n",
    "    return loss.item()\n",
    "\n",
    "def trainNetwork(x, y, batch_size , epochs , lr):\n",
    "    loss_i = []\n",
    "    iter_i = []\n",
    "    \n",
    "    later_training_epoch = int(0.9 * epochs)\n",
    "    \n",
    "    for i in range(0,epochs):\n",
    "        loss = None\n",
    "        \n",
    "        if i > later_training_epoch:\n",
    "            learning_rate_decay = lr * ( 1 / (1 + 0.01 * i)) #change the learning rate for final steps of training\n",
    "            loss = forwardAndBackwardPass(x, y, batch_size , learning_rate_decay)\n",
    "        else:\n",
    "            loss = forwardAndBackwardPass(x, y, batch_size , lr)\n",
    "            \n",
    "        loss_i.append(loss)\n",
    "        iter_i.append(i)\n",
    "    return loss_i , iter_i"
   ]
  },
  {
   "cell_type": "code",
   "execution_count": 12,
   "metadata": {},
   "outputs": [],
   "source": [
    "losses , iters = trainNetwork(xtr , ytr , 64 , 200000 , 0.1)"
   ]
  },
  {
   "cell_type": "code",
   "execution_count": 13,
   "metadata": {},
   "outputs": [
    {
     "data": {
      "text/plain": [
       "[2.0860869884490967,\n",
       " 1.905133605003357,\n",
       " 2.0786380767822266,\n",
       " 1.9901127815246582,\n",
       " 2.0438225269317627,\n",
       " 1.7284865379333496,\n",
       " 1.7683675289154053,\n",
       " 2.122159481048584,\n",
       " 2.081155776977539,\n",
       " 1.9679739475250244]"
      ]
     },
     "execution_count": 13,
     "metadata": {},
     "output_type": "execute_result"
    }
   ],
   "source": [
    "losses[-10:]"
   ]
  },
  {
   "cell_type": "code",
   "execution_count": 14,
   "metadata": {},
   "outputs": [
    {
     "data": {
      "text/plain": [
       "[<matplotlib.lines.Line2D at 0x2183eed3668>]"
      ]
     },
     "execution_count": 14,
     "metadata": {},
     "output_type": "execute_result"
    },
    {
     "data": {
      "image/png": "[encoded data removed]",
      "text/plain": [
       "<Figure size 432x288 with 1 Axes>"
      ]
     },
     "metadata": {
      "needs_background": "light"
     },
     "output_type": "display_data"
    }
   ],
   "source": [
    "plt.plot(iters , losses)"
   ]
  },
  {
   "cell_type": "code",
   "execution_count": 15,
   "metadata": {},
   "outputs": [],
   "source": [
    "def evaluate_loss(x,y):\n",
    "    with torch.no_grad():\n",
    "        emb = C[x].flatten(1)\n",
    "        h0 = emb @ W1 + b1 \n",
    "        h1 = torch.tanh(h0)\n",
    "        logits = h1 @ W2 + b2\n",
    "        loss = F.cross_entropy(logits, y)\n",
    "        return loss"
   ]
  },
  {
   "cell_type": "code",
   "execution_count": 16,
   "metadata": {},
   "outputs": [
    {
     "name": "stdout",
     "output_type": "stream",
     "text": [
      "Training set loss  tensor(2.1070)\n"
     ]
    }
   ],
   "source": [
    "print('Training set loss ' , evaluate_loss(xtr,ytr))"
   ]
  },
  {
   "cell_type": "code",
   "execution_count": 17,
   "metadata": {},
   "outputs": [
    {
     "name": "stdout",
     "output_type": "stream",
     "text": [
      "Validation set loss  tensor(2.1594)\n"
     ]
    }
   ],
   "source": [
    "print('Validation set loss ' , evaluate_loss(xdev,ydev))"
   ]
  },
  {
   "cell_type": "code",
   "execution_count": 18,
   "metadata": {},
   "outputs": [
    {
     "name": "stdout",
     "output_type": "stream",
     "text": [
      "test set loss  tensor(2.1549)\n"
     ]
    }
   ],
   "source": [
    "print('test set loss ' , evaluate_loss(xtest,ytest))"
   ]
  },
  {
   "cell_type": "code",
   "execution_count": 19,
   "metadata": {},
   "outputs": [
    {
     "name": "stdout",
     "output_type": "stream",
     "text": [
      "carlaizabelle.\n",
      "khyimir.\n",
      "reh.\n",
      "cassanden.\n",
      "jazon.\n",
      "namperric.\n",
      "kaqui.\n",
      "nellara.\n",
      "chaiir.\n",
      "kaleigh.\n",
      "ham.\n",
      "jorn.\n",
      "quinn.\n",
      "shon.\n",
      "malianni.\n",
      "wajero.\n",
      "dearynix.\n",
      "kael.\n",
      "durat.\n",
      "edde.\n"
     ]
    }
   ],
   "source": [
    "# sample from the model\n",
    "g = torch.Generator().manual_seed(2147483647 + 10)\n",
    "\n",
    "for _ in range(20):\n",
    "    out = []\n",
    "    context = [0] * block_size # initialize with all ...\n",
    "    while True:\n",
    "        emb = C[torch.tensor([context])].flatten(1) # (1,block_size,d)\n",
    "        h0 = emb @ W1 + b1 \n",
    "        h1 = torch.tanh(h0)\n",
    "        logits = h1 @ W2 + b2\n",
    "        \n",
    "        probs = F.softmax(logits, dim=1)\n",
    "        \n",
    "        ix = torch.multinomial(probs, num_samples=1, generator=g).item()\n",
    "        context = context[1:] + [ix]\n",
    "        out.append(ix)\n",
    "        if ix == 0:\n",
    "            break\n",
    "    print(''.join(itos[i] for i in out))"
   ]
  },
  {
   "cell_type": "code",
   "execution_count": null,
   "metadata": {},
   "outputs": [],
   "source": []
  },
  {
   "cell_type": "code",
   "execution_count": null,
   "metadata": {},
   "outputs": [],
   "source": []
  }
 ],
 "metadata": {
  "kernelspec": {
   "display_name": "Python 3",
   "language": "python",
   "name": "python3"
  },
  "language_info": {
   "codemirror_mode": {
    "name": "ipython",
    "version": 3
   },
   "file_extension": ".py",
   "mimetype": "text/x-python",
   "name": "python",
   "nbconvert_exporter": "python",
   "pygments_lexer": "ipython3",
   "version": "3.7.1"
  }
 },
 "nbformat": 4,
 "nbformat_minor": 4
}
