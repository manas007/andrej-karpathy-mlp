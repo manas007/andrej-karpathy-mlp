{
 "cells": [
  {
   "cell_type": "code",
   "execution_count": 1,
   "metadata": {},
   "outputs": [],
   "source": [
    "#character level languague models\n",
    "#first we will try the bigram (one character simply predicts the next one)"
   ]
  },
  {
   "cell_type": "code",
   "execution_count": 2,
   "metadata": {},
   "outputs": [],
   "source": [
    "words = open('names.txt', 'r').read().splitlines()"
   ]
  },
  {
   "cell_type": "code",
   "execution_count": 3,
   "metadata": {
    "scrolled": true
   },
   "outputs": [
    {
     "data": {
      "text/plain": [
       "['emma',\n",
       " 'olivia',\n",
       " 'ava',\n",
       " 'isabella',\n",
       " 'sophia',\n",
       " 'charlotte',\n",
       " 'mia',\n",
       " 'amelia',\n",
       " 'harper',\n",
       " 'evelyn']"
      ]
     },
     "execution_count": 3,
     "metadata": {},
     "output_type": "execute_result"
    }
   ],
   "source": [
    "words[:10]"
   ]
  },
  {
   "cell_type": "code",
   "execution_count": 35,
   "metadata": {},
   "outputs": [
    {
     "data": {
      "text/plain": [
       "32033"
      ]
     },
     "execution_count": 35,
     "metadata": {},
     "output_type": "execute_result"
    }
   ],
   "source": [
    "len(words)"
   ]
  },
  {
   "cell_type": "code",
   "execution_count": 36,
   "metadata": {},
   "outputs": [
    {
     "name": "stdout",
     "output_type": "stream",
     "text": [
      "2 15\n"
     ]
    }
   ],
   "source": [
    "#min and max length of name in our file\n",
    "print(min([len(w) for w in words]), max([len(w) for w in words]))"
   ]
  },
  {
   "cell_type": "code",
   "execution_count": 37,
   "metadata": {},
   "outputs": [
    {
     "name": "stdout",
     "output_type": "stream",
     "text": [
      "e m\n",
      "m m\n",
      "m a\n"
     ]
    }
   ],
   "source": [
    "#bigram languague model. we are only looking at one char, and predict the next. it's a simple and weak model.\n",
    "#let's create bigram. zip gives us two iterators that go pairwise on two sequences, but exits when one sequence completes.\n",
    "# so for emma and mma , zip terminates at last 'a' in mma. Taking an example of one word:\n",
    "for w in words[:1]:\n",
    "    for ch1,ch2 in zip(w, w[1:]):\n",
    "        print(ch1,ch2)"
   ]
  },
  {
   "cell_type": "code",
   "execution_count": 38,
   "metadata": {},
   "outputs": [
    {
     "name": "stdout",
     "output_type": "stream",
     "text": [
      ". e\n",
      "e m\n",
      "m m\n",
      "m a\n",
      "a .\n"
     ]
    }
   ],
   "source": [
    "for w in words[:1]:\n",
    "    chs = ['.'] + list(w) + ['.'] # breaks the word into list of characters. \".\" donates either the start or end position\n",
    "    for ch1, ch2 in zip(chs, chs[1:]):\n",
    "        print(ch1,ch2)"
   ]
  },
  {
   "cell_type": "code",
   "execution_count": 39,
   "metadata": {},
   "outputs": [
    {
     "name": "stdout",
     "output_type": "stream",
     "text": [
      ". e\n",
      "e m\n",
      "m m\n",
      "m a\n",
      "a .\n",
      ". o\n",
      "o l\n",
      "l i\n",
      "i v\n",
      "v i\n",
      "i a\n",
      "a .\n",
      ". a\n",
      "a v\n",
      "v a\n",
      "a .\n"
     ]
    }
   ],
   "source": [
    "#same code above , for more words\n",
    "for w in words[:3]:\n",
    "    chs = ['.'] + list(w) + ['.']# breaks the word into list of characters\n",
    "    for ch1, ch2 in zip(chs, chs[1:]):\n",
    "        print(ch1,ch2)"
   ]
  },
  {
   "cell_type": "code",
   "execution_count": 40,
   "metadata": {},
   "outputs": [],
   "source": [
    "# we will count the occurences of the bigrams. so let's create a dict b that will keep the count. let's then see what b\n",
    "# looks like considering 3 words only\n",
    "b = {}\n",
    "for w in words[:3]:\n",
    "    chs = ['.'] + list(w) + ['.']# breaks the word into list of characters\n",
    "    for ch1, ch2 in zip(chs, chs[1:]):\n",
    "        bigram = (ch1,ch2)\n",
    "        b[bigram] = b.get(bigram , 0) + 1"
   ]
  },
  {
   "cell_type": "code",
   "execution_count": 41,
   "metadata": {},
   "outputs": [
    {
     "data": {
      "text/plain": [
       "{('.', 'e'): 1,\n",
       " ('e', 'm'): 1,\n",
       " ('m', 'm'): 1,\n",
       " ('m', 'a'): 1,\n",
       " ('a', '.'): 3,\n",
       " ('.', 'o'): 1,\n",
       " ('o', 'l'): 1,\n",
       " ('l', 'i'): 1,\n",
       " ('i', 'v'): 1,\n",
       " ('v', 'i'): 1,\n",
       " ('i', 'a'): 1,\n",
       " ('.', 'a'): 1,\n",
       " ('a', 'v'): 1,\n",
       " ('v', 'a'): 1}"
      ]
     },
     "execution_count": 41,
     "metadata": {},
     "output_type": "execute_result"
    }
   ],
   "source": [
    "b"
   ]
  },
  {
   "cell_type": "code",
   "execution_count": 42,
   "metadata": {},
   "outputs": [],
   "source": [
    "# run the same code but for all words\n",
    "b = {}\n",
    "for w in words:\n",
    "    chs = ['.'] + list(w) + ['.']# breaks the word into list of characters\n",
    "    for ch1, ch2 in zip(chs, chs[1:]):\n",
    "        bigram = (ch1,ch2)\n",
    "        b[bigram] = b.get(bigram , 0) + 1"
   ]
  },
  {
   "cell_type": "code",
   "execution_count": 43,
   "metadata": {},
   "outputs": [
    {
     "data": {
      "text/plain": [
       "[(('n', '.'), 6763),\n",
       " (('a', '.'), 6640),\n",
       " (('a', 'n'), 5438),\n",
       " (('.', 'a'), 4410),\n",
       " (('e', '.'), 3983),\n",
       " (('a', 'r'), 3264),\n",
       " (('e', 'l'), 3248),\n",
       " (('r', 'i'), 3033),\n",
       " (('n', 'a'), 2977),\n",
       " (('.', 'k'), 2963),\n",
       " (('l', 'e'), 2921),\n",
       " (('e', 'n'), 2675),\n",
       " (('l', 'a'), 2623),\n",
       " (('m', 'a'), 2590),\n",
       " (('.', 'm'), 2538),\n",
       " (('a', 'l'), 2528),\n",
       " (('i', '.'), 2489),\n",
       " (('l', 'i'), 2480),\n",
       " (('i', 'a'), 2445),\n",
       " (('.', 'j'), 2422),\n",
       " (('o', 'n'), 2411),\n",
       " (('h', '.'), 2409),\n",
       " (('r', 'a'), 2356),\n",
       " (('a', 'h'), 2332),\n",
       " (('h', 'a'), 2244),\n",
       " (('y', 'a'), 2143),\n",
       " (('i', 'n'), 2126),\n",
       " (('.', 's'), 2055),\n",
       " (('a', 'y'), 2050),\n",
       " (('y', '.'), 2007),\n",
       " (('e', 'r'), 1958),\n",
       " (('n', 'n'), 1906),\n",
       " (('y', 'n'), 1826),\n",
       " (('k', 'a'), 1731),\n",
       " (('n', 'i'), 1725),\n",
       " (('r', 'e'), 1697),\n",
       " (('.', 'd'), 1690),\n",
       " (('i', 'e'), 1653),\n",
       " (('a', 'i'), 1650),\n",
       " (('.', 'r'), 1639),\n",
       " (('a', 'm'), 1634),\n",
       " (('l', 'y'), 1588),\n",
       " (('.', 'l'), 1572),\n",
       " (('.', 'c'), 1542),\n",
       " (('.', 'e'), 1531),\n",
       " (('j', 'a'), 1473),\n",
       " (('r', '.'), 1377),\n",
       " (('n', 'e'), 1359),\n",
       " (('l', 'l'), 1345),\n",
       " (('i', 'l'), 1345),\n",
       " (('i', 's'), 1316),\n",
       " (('l', '.'), 1314),\n",
       " (('.', 't'), 1308),\n",
       " (('.', 'b'), 1306),\n",
       " (('d', 'a'), 1303),\n",
       " (('s', 'h'), 1285),\n",
       " (('d', 'e'), 1283),\n",
       " (('e', 'e'), 1271),\n",
       " (('m', 'i'), 1256),\n",
       " (('s', 'a'), 1201),\n",
       " (('s', '.'), 1169),\n",
       " (('.', 'n'), 1146),\n",
       " (('a', 's'), 1118),\n",
       " (('y', 'l'), 1104),\n",
       " (('e', 'y'), 1070),\n",
       " (('o', 'r'), 1059),\n",
       " (('a', 'd'), 1042),\n",
       " (('t', 'a'), 1027),\n",
       " (('.', 'z'), 929),\n",
       " (('v', 'i'), 911),\n",
       " (('k', 'e'), 895),\n",
       " (('s', 'e'), 884),\n",
       " (('.', 'h'), 874),\n",
       " (('r', 'o'), 869),\n",
       " (('e', 's'), 861),\n",
       " (('z', 'a'), 860),\n",
       " (('o', '.'), 855),\n",
       " (('i', 'r'), 849),\n",
       " (('b', 'r'), 842),\n",
       " (('a', 'v'), 834),\n",
       " (('m', 'e'), 818),\n",
       " (('e', 'i'), 818),\n",
       " (('c', 'a'), 815),\n",
       " (('i', 'y'), 779),\n",
       " (('r', 'y'), 773),\n",
       " (('e', 'm'), 769),\n",
       " (('s', 't'), 765),\n",
       " (('h', 'i'), 729),\n",
       " (('t', 'e'), 716),\n",
       " (('n', 'd'), 704),\n",
       " (('l', 'o'), 692),\n",
       " (('a', 'e'), 692),\n",
       " (('a', 't'), 687),\n",
       " (('s', 'i'), 684),\n",
       " (('e', 'a'), 679),\n",
       " (('d', 'i'), 674),\n",
       " (('h', 'e'), 674),\n",
       " (('.', 'g'), 669),\n",
       " (('t', 'o'), 667),\n",
       " (('c', 'h'), 664),\n",
       " (('b', 'e'), 655),\n",
       " (('t', 'h'), 647),\n",
       " (('v', 'a'), 642),\n",
       " (('o', 'l'), 619),\n",
       " (('.', 'i'), 591),\n",
       " (('i', 'o'), 588),\n",
       " (('e', 't'), 580),\n",
       " (('v', 'e'), 568),\n",
       " (('a', 'k'), 568),\n",
       " (('a', 'a'), 556),\n",
       " (('c', 'e'), 551),\n",
       " (('a', 'b'), 541),\n",
       " (('i', 't'), 541),\n",
       " (('.', 'y'), 535),\n",
       " (('t', 'i'), 532),\n",
       " (('s', 'o'), 531),\n",
       " (('m', '.'), 516),\n",
       " (('d', '.'), 516),\n",
       " (('.', 'p'), 515),\n",
       " (('i', 'c'), 509),\n",
       " (('k', 'i'), 509),\n",
       " (('o', 's'), 504),\n",
       " (('n', 'o'), 496),\n",
       " (('t', '.'), 483),\n",
       " (('j', 'o'), 479),\n",
       " (('u', 's'), 474),\n",
       " (('a', 'c'), 470),\n",
       " (('n', 'y'), 465),\n",
       " (('e', 'v'), 463),\n",
       " (('s', 's'), 461),\n",
       " (('m', 'o'), 452),\n",
       " (('i', 'k'), 445),\n",
       " (('n', 't'), 443),\n",
       " (('i', 'd'), 440),\n",
       " (('j', 'e'), 440),\n",
       " (('a', 'z'), 435),\n",
       " (('i', 'g'), 428),\n",
       " (('i', 'm'), 427),\n",
       " (('r', 'r'), 425),\n",
       " (('d', 'r'), 424),\n",
       " (('.', 'f'), 417),\n",
       " (('u', 'r'), 414),\n",
       " (('r', 'l'), 413),\n",
       " (('y', 's'), 401),\n",
       " (('.', 'o'), 394),\n",
       " (('e', 'd'), 384),\n",
       " (('a', 'u'), 381),\n",
       " (('c', 'o'), 380),\n",
       " (('k', 'y'), 379),\n",
       " (('d', 'o'), 378),\n",
       " (('.', 'v'), 376),\n",
       " (('t', 't'), 374),\n",
       " (('z', 'e'), 373),\n",
       " (('z', 'i'), 364),\n",
       " (('k', '.'), 363),\n",
       " (('g', 'h'), 360),\n",
       " (('t', 'r'), 352),\n",
       " (('k', 'o'), 344),\n",
       " (('t', 'y'), 341),\n",
       " (('g', 'e'), 334),\n",
       " (('g', 'a'), 330),\n",
       " (('l', 'u'), 324),\n",
       " (('b', 'a'), 321),\n",
       " (('d', 'y'), 317),\n",
       " (('c', 'k'), 316),\n",
       " (('.', 'w'), 307),\n",
       " (('k', 'h'), 307),\n",
       " (('u', 'l'), 301),\n",
       " (('y', 'e'), 301),\n",
       " (('y', 'r'), 291),\n",
       " (('m', 'y'), 287),\n",
       " (('h', 'o'), 287),\n",
       " (('w', 'a'), 280),\n",
       " (('s', 'l'), 279),\n",
       " (('n', 's'), 278),\n",
       " (('i', 'z'), 277),\n",
       " (('u', 'n'), 275),\n",
       " (('o', 'u'), 275),\n",
       " (('n', 'g'), 273),\n",
       " (('y', 'd'), 272),\n",
       " (('c', 'i'), 271),\n",
       " (('y', 'o'), 271),\n",
       " (('i', 'v'), 269),\n",
       " (('e', 'o'), 269),\n",
       " (('o', 'm'), 261),\n",
       " (('r', 'u'), 252),\n",
       " (('f', 'a'), 242),\n",
       " (('b', 'i'), 217),\n",
       " (('s', 'y'), 215),\n",
       " (('n', 'c'), 213),\n",
       " (('h', 'y'), 213),\n",
       " (('p', 'a'), 209),\n",
       " (('r', 't'), 208),\n",
       " (('q', 'u'), 206),\n",
       " (('p', 'h'), 204),\n",
       " (('h', 'r'), 204),\n",
       " (('j', 'u'), 202),\n",
       " (('g', 'r'), 201),\n",
       " (('p', 'e'), 197),\n",
       " (('n', 'l'), 195),\n",
       " (('y', 'i'), 192),\n",
       " (('g', 'i'), 190),\n",
       " (('o', 'd'), 190),\n",
       " (('r', 's'), 190),\n",
       " (('r', 'd'), 187),\n",
       " (('h', 'l'), 185),\n",
       " (('s', 'u'), 185),\n",
       " (('a', 'x'), 182),\n",
       " (('e', 'z'), 181),\n",
       " (('e', 'k'), 178),\n",
       " (('o', 'v'), 176),\n",
       " (('a', 'j'), 175),\n",
       " (('o', 'h'), 171),\n",
       " (('u', 'e'), 169),\n",
       " (('m', 'm'), 168),\n",
       " (('a', 'g'), 168),\n",
       " (('h', 'u'), 166),\n",
       " (('x', '.'), 164),\n",
       " (('u', 'a'), 163),\n",
       " (('r', 'm'), 162),\n",
       " (('a', 'w'), 161),\n",
       " (('f', 'i'), 160),\n",
       " (('z', '.'), 160),\n",
       " (('u', '.'), 155),\n",
       " (('u', 'm'), 154),\n",
       " (('e', 'c'), 153),\n",
       " (('v', 'o'), 153),\n",
       " (('e', 'h'), 152),\n",
       " (('p', 'r'), 151),\n",
       " (('d', 'd'), 149),\n",
       " (('o', 'a'), 149),\n",
       " (('w', 'e'), 149),\n",
       " (('w', 'i'), 148),\n",
       " (('y', 'm'), 148),\n",
       " (('z', 'y'), 147),\n",
       " (('n', 'z'), 145),\n",
       " (('y', 'u'), 141),\n",
       " (('r', 'n'), 140),\n",
       " (('o', 'b'), 140),\n",
       " (('k', 'l'), 139),\n",
       " (('m', 'u'), 139),\n",
       " (('l', 'd'), 138),\n",
       " (('h', 'n'), 138),\n",
       " (('u', 'd'), 136),\n",
       " (('.', 'x'), 134),\n",
       " (('t', 'l'), 134),\n",
       " (('a', 'f'), 134),\n",
       " (('o', 'e'), 132),\n",
       " (('e', 'x'), 132),\n",
       " (('e', 'g'), 125),\n",
       " (('f', 'e'), 123),\n",
       " (('z', 'l'), 123),\n",
       " (('u', 'i'), 121),\n",
       " (('v', 'y'), 121),\n",
       " (('e', 'b'), 121),\n",
       " (('r', 'h'), 121),\n",
       " (('j', 'i'), 119),\n",
       " (('o', 't'), 118),\n",
       " (('d', 'h'), 118),\n",
       " (('h', 'm'), 117),\n",
       " (('c', 'l'), 116),\n",
       " (('o', 'o'), 115),\n",
       " (('y', 'c'), 115),\n",
       " (('o', 'w'), 114),\n",
       " (('o', 'c'), 114),\n",
       " (('f', 'r'), 114),\n",
       " (('b', '.'), 114),\n",
       " (('m', 'b'), 112),\n",
       " (('z', 'o'), 110),\n",
       " (('i', 'b'), 110),\n",
       " (('i', 'u'), 109),\n",
       " (('k', 'r'), 109),\n",
       " (('g', '.'), 108),\n",
       " (('y', 'v'), 106),\n",
       " (('t', 'z'), 105),\n",
       " (('b', 'o'), 105),\n",
       " (('c', 'y'), 104),\n",
       " (('y', 't'), 104),\n",
       " (('u', 'b'), 103),\n",
       " (('u', 'c'), 103),\n",
       " (('x', 'a'), 103),\n",
       " (('b', 'l'), 103),\n",
       " (('o', 'y'), 103),\n",
       " (('x', 'i'), 102),\n",
       " (('i', 'f'), 101),\n",
       " (('r', 'c'), 99),\n",
       " (('c', '.'), 97),\n",
       " (('m', 'r'), 97),\n",
       " (('n', 'u'), 96),\n",
       " (('o', 'p'), 95),\n",
       " (('i', 'h'), 95),\n",
       " (('k', 's'), 95),\n",
       " (('l', 's'), 94),\n",
       " (('u', 'k'), 93),\n",
       " (('.', 'q'), 92),\n",
       " (('d', 'u'), 92),\n",
       " (('s', 'm'), 90),\n",
       " (('r', 'k'), 90),\n",
       " (('i', 'x'), 89),\n",
       " (('v', '.'), 88),\n",
       " (('y', 'k'), 86),\n",
       " (('u', 'w'), 86),\n",
       " (('g', 'u'), 85),\n",
       " (('b', 'y'), 83),\n",
       " (('e', 'p'), 83),\n",
       " (('g', 'o'), 83),\n",
       " (('s', 'k'), 82),\n",
       " (('u', 't'), 82),\n",
       " (('a', 'p'), 82),\n",
       " (('e', 'f'), 82),\n",
       " (('i', 'i'), 82),\n",
       " (('r', 'v'), 80),\n",
       " (('f', '.'), 80),\n",
       " (('t', 'u'), 78),\n",
       " (('y', 'z'), 78),\n",
       " (('.', 'u'), 78),\n",
       " (('l', 't'), 77),\n",
       " (('r', 'g'), 76),\n",
       " (('c', 'r'), 76),\n",
       " (('i', 'j'), 76),\n",
       " (('w', 'y'), 73),\n",
       " (('z', 'u'), 73),\n",
       " (('l', 'v'), 72),\n",
       " (('h', 't'), 71),\n",
       " (('j', '.'), 71),\n",
       " (('x', 't'), 70),\n",
       " (('o', 'i'), 69),\n",
       " (('e', 'u'), 69),\n",
       " (('o', 'k'), 68),\n",
       " (('b', 'd'), 65),\n",
       " (('a', 'o'), 63),\n",
       " (('p', 'i'), 61),\n",
       " (('s', 'c'), 60),\n",
       " (('d', 'l'), 60),\n",
       " (('l', 'm'), 60),\n",
       " (('a', 'q'), 60),\n",
       " (('f', 'o'), 60),\n",
       " (('p', 'o'), 59),\n",
       " (('n', 'k'), 58),\n",
       " (('w', 'n'), 58),\n",
       " (('u', 'h'), 58),\n",
       " (('e', 'j'), 55),\n",
       " (('n', 'v'), 55),\n",
       " (('s', 'r'), 55),\n",
       " (('o', 'z'), 54),\n",
       " (('i', 'p'), 53),\n",
       " (('l', 'b'), 52),\n",
       " (('i', 'q'), 52),\n",
       " (('w', '.'), 51),\n",
       " (('m', 'c'), 51),\n",
       " (('s', 'p'), 51),\n",
       " (('e', 'w'), 50),\n",
       " (('k', 'u'), 50),\n",
       " (('v', 'r'), 48),\n",
       " (('u', 'g'), 47),\n",
       " (('o', 'x'), 45),\n",
       " (('u', 'z'), 45),\n",
       " (('z', 'z'), 45),\n",
       " (('j', 'h'), 45),\n",
       " (('b', 'u'), 45),\n",
       " (('o', 'g'), 44),\n",
       " (('n', 'r'), 44),\n",
       " (('f', 'f'), 44),\n",
       " (('n', 'j'), 44),\n",
       " (('z', 'h'), 43),\n",
       " (('c', 'c'), 42),\n",
       " (('r', 'b'), 41),\n",
       " (('x', 'o'), 41),\n",
       " (('b', 'h'), 41),\n",
       " (('p', 'p'), 39),\n",
       " (('x', 'l'), 39),\n",
       " (('h', 'v'), 39),\n",
       " (('b', 'b'), 38),\n",
       " (('m', 'p'), 38),\n",
       " (('x', 'x'), 38),\n",
       " (('u', 'v'), 37),\n",
       " (('x', 'e'), 36),\n",
       " (('w', 'o'), 36),\n",
       " (('c', 't'), 35),\n",
       " (('z', 'm'), 35),\n",
       " (('t', 's'), 35),\n",
       " (('m', 's'), 35),\n",
       " (('c', 'u'), 35),\n",
       " (('o', 'f'), 34),\n",
       " (('u', 'x'), 34),\n",
       " (('k', 'w'), 34),\n",
       " (('p', '.'), 33),\n",
       " (('g', 'l'), 32),\n",
       " (('z', 'r'), 32),\n",
       " (('d', 'n'), 31),\n",
       " (('g', 't'), 31),\n",
       " (('g', 'y'), 31),\n",
       " (('h', 's'), 31),\n",
       " (('x', 's'), 31),\n",
       " (('g', 's'), 30),\n",
       " (('x', 'y'), 30),\n",
       " (('y', 'g'), 30),\n",
       " (('d', 'm'), 30),\n",
       " (('d', 's'), 29),\n",
       " (('h', 'k'), 29),\n",
       " (('y', 'x'), 28),\n",
       " (('q', '.'), 28),\n",
       " (('g', 'n'), 27),\n",
       " (('y', 'b'), 27),\n",
       " (('g', 'w'), 26),\n",
       " (('n', 'h'), 26),\n",
       " (('k', 'n'), 26),\n",
       " (('g', 'g'), 25),\n",
       " (('d', 'g'), 25),\n",
       " (('l', 'c'), 25),\n",
       " (('r', 'j'), 25),\n",
       " (('w', 'u'), 25),\n",
       " (('l', 'k'), 24),\n",
       " (('m', 'd'), 24),\n",
       " (('s', 'w'), 24),\n",
       " (('s', 'n'), 24),\n",
       " (('h', 'd'), 24),\n",
       " (('w', 'h'), 23),\n",
       " (('y', 'j'), 23),\n",
       " (('y', 'y'), 23),\n",
       " (('r', 'z'), 23),\n",
       " (('d', 'w'), 23),\n",
       " (('w', 'r'), 22),\n",
       " (('t', 'n'), 22),\n",
       " (('l', 'f'), 22),\n",
       " (('y', 'h'), 22),\n",
       " (('r', 'w'), 21),\n",
       " (('s', 'b'), 21),\n",
       " (('m', 'n'), 20),\n",
       " (('f', 'l'), 20),\n",
       " (('w', 's'), 20),\n",
       " (('k', 'k'), 20),\n",
       " (('h', 'z'), 20),\n",
       " (('g', 'd'), 19),\n",
       " (('l', 'h'), 19),\n",
       " (('n', 'm'), 19),\n",
       " (('x', 'z'), 19),\n",
       " (('u', 'f'), 19),\n",
       " (('f', 't'), 18),\n",
       " (('l', 'r'), 18),\n",
       " (('p', 't'), 17),\n",
       " (('t', 'c'), 17),\n",
       " (('k', 't'), 17),\n",
       " (('d', 'v'), 17),\n",
       " (('u', 'p'), 16),\n",
       " (('p', 'l'), 16),\n",
       " (('l', 'w'), 16),\n",
       " (('p', 's'), 16),\n",
       " (('o', 'j'), 16),\n",
       " (('r', 'q'), 16),\n",
       " (('y', 'p'), 15),\n",
       " (('l', 'p'), 15),\n",
       " (('t', 'v'), 15),\n",
       " (('r', 'p'), 14),\n",
       " (('l', 'n'), 14),\n",
       " (('e', 'q'), 14),\n",
       " (('f', 'y'), 14),\n",
       " (('s', 'v'), 14),\n",
       " (('u', 'j'), 14),\n",
       " (('v', 'l'), 14),\n",
       " (('q', 'a'), 13),\n",
       " (('u', 'y'), 13),\n",
       " (('q', 'i'), 13),\n",
       " (('w', 'l'), 13),\n",
       " (('p', 'y'), 12),\n",
       " (('y', 'f'), 12),\n",
       " (('c', 'q'), 11),\n",
       " (('j', 'r'), 11),\n",
       " (('n', 'w'), 11),\n",
       " (('n', 'f'), 11),\n",
       " (('t', 'w'), 11),\n",
       " (('m', 'z'), 11),\n",
       " (('u', 'o'), 10),\n",
       " (('f', 'u'), 10),\n",
       " (('l', 'z'), 10),\n",
       " (('h', 'w'), 10),\n",
       " (('u', 'q'), 10),\n",
       " (('j', 'y'), 10),\n",
       " (('s', 'z'), 10),\n",
       " (('s', 'd'), 9),\n",
       " (('j', 'l'), 9),\n",
       " (('d', 'j'), 9),\n",
       " (('k', 'm'), 9),\n",
       " (('r', 'f'), 9),\n",
       " (('h', 'j'), 9),\n",
       " (('v', 'n'), 8),\n",
       " (('n', 'b'), 8),\n",
       " (('i', 'w'), 8),\n",
       " (('h', 'b'), 8),\n",
       " (('b', 's'), 8),\n",
       " (('w', 't'), 8),\n",
       " (('w', 'd'), 8),\n",
       " (('v', 'v'), 7),\n",
       " (('v', 'u'), 7),\n",
       " (('j', 's'), 7),\n",
       " (('m', 'j'), 7),\n",
       " (('f', 's'), 6),\n",
       " (('l', 'g'), 6),\n",
       " (('l', 'j'), 6),\n",
       " (('j', 'w'), 6),\n",
       " (('n', 'x'), 6),\n",
       " (('y', 'q'), 6),\n",
       " (('w', 'k'), 6),\n",
       " (('g', 'm'), 6),\n",
       " (('x', 'u'), 5),\n",
       " (('m', 'h'), 5),\n",
       " (('m', 'l'), 5),\n",
       " (('j', 'm'), 5),\n",
       " (('c', 's'), 5),\n",
       " (('j', 'v'), 5),\n",
       " (('n', 'p'), 5),\n",
       " (('d', 'f'), 5),\n",
       " (('x', 'd'), 5),\n",
       " (('z', 'b'), 4),\n",
       " (('f', 'n'), 4),\n",
       " (('x', 'c'), 4),\n",
       " (('m', 't'), 4),\n",
       " (('t', 'm'), 4),\n",
       " (('z', 'n'), 4),\n",
       " (('z', 't'), 4),\n",
       " (('p', 'u'), 4),\n",
       " (('c', 'z'), 4),\n",
       " (('b', 'n'), 4),\n",
       " (('z', 's'), 4),\n",
       " (('f', 'w'), 4),\n",
       " (('d', 't'), 4),\n",
       " (('j', 'd'), 4),\n",
       " (('j', 'c'), 4),\n",
       " (('y', 'w'), 4),\n",
       " (('v', 'k'), 3),\n",
       " (('x', 'w'), 3),\n",
       " (('t', 'j'), 3),\n",
       " (('c', 'j'), 3),\n",
       " (('q', 'w'), 3),\n",
       " (('g', 'b'), 3),\n",
       " (('o', 'q'), 3),\n",
       " (('r', 'x'), 3),\n",
       " (('d', 'c'), 3),\n",
       " (('g', 'j'), 3),\n",
       " (('x', 'f'), 3),\n",
       " (('z', 'w'), 3),\n",
       " (('d', 'k'), 3),\n",
       " (('u', 'u'), 3),\n",
       " (('m', 'v'), 3),\n",
       " (('c', 'x'), 3),\n",
       " (('l', 'q'), 3),\n",
       " (('p', 'b'), 2),\n",
       " (('t', 'g'), 2),\n",
       " (('q', 's'), 2),\n",
       " (('t', 'x'), 2),\n",
       " (('f', 'k'), 2),\n",
       " (('b', 't'), 2),\n",
       " (('j', 'n'), 2),\n",
       " (('k', 'c'), 2),\n",
       " (('z', 'k'), 2),\n",
       " (('s', 'j'), 2),\n",
       " (('s', 'f'), 2),\n",
       " (('z', 'j'), 2),\n",
       " (('n', 'q'), 2),\n",
       " (('f', 'z'), 2),\n",
       " (('h', 'g'), 2),\n",
       " (('w', 'w'), 2),\n",
       " (('k', 'j'), 2),\n",
       " (('j', 'k'), 2),\n",
       " (('w', 'm'), 2),\n",
       " (('z', 'c'), 2),\n",
       " (('z', 'v'), 2),\n",
       " (('w', 'f'), 2),\n",
       " (('q', 'm'), 2),\n",
       " (('k', 'z'), 2),\n",
       " (('j', 'j'), 2),\n",
       " (('z', 'p'), 2),\n",
       " (('j', 't'), 2),\n",
       " (('k', 'b'), 2),\n",
       " (('m', 'w'), 2),\n",
       " (('h', 'f'), 2),\n",
       " (('c', 'g'), 2),\n",
       " (('t', 'f'), 2),\n",
       " (('h', 'c'), 2),\n",
       " (('q', 'o'), 2),\n",
       " (('k', 'd'), 2),\n",
       " (('k', 'v'), 2),\n",
       " (('s', 'g'), 2),\n",
       " (('z', 'd'), 2),\n",
       " (('q', 'r'), 1),\n",
       " (('d', 'z'), 1),\n",
       " (('p', 'j'), 1),\n",
       " (('q', 'l'), 1),\n",
       " (('p', 'f'), 1),\n",
       " (('q', 'e'), 1),\n",
       " (('b', 'c'), 1),\n",
       " (('c', 'd'), 1),\n",
       " (('m', 'f'), 1),\n",
       " (('p', 'n'), 1),\n",
       " (('w', 'b'), 1),\n",
       " (('p', 'c'), 1),\n",
       " (('h', 'p'), 1),\n",
       " (('f', 'h'), 1),\n",
       " (('b', 'j'), 1),\n",
       " (('f', 'g'), 1),\n",
       " (('z', 'g'), 1),\n",
       " (('c', 'p'), 1),\n",
       " (('p', 'k'), 1),\n",
       " (('p', 'm'), 1),\n",
       " (('x', 'n'), 1),\n",
       " (('s', 'q'), 1),\n",
       " (('k', 'f'), 1),\n",
       " (('m', 'k'), 1),\n",
       " (('x', 'h'), 1),\n",
       " (('g', 'f'), 1),\n",
       " (('v', 'b'), 1),\n",
       " (('j', 'p'), 1),\n",
       " (('g', 'z'), 1),\n",
       " (('v', 'd'), 1),\n",
       " (('d', 'b'), 1),\n",
       " (('v', 'h'), 1),\n",
       " (('h', 'h'), 1),\n",
       " (('g', 'v'), 1),\n",
       " (('d', 'q'), 1),\n",
       " (('x', 'b'), 1),\n",
       " (('w', 'z'), 1),\n",
       " (('h', 'q'), 1),\n",
       " (('j', 'b'), 1),\n",
       " (('x', 'm'), 1),\n",
       " (('w', 'g'), 1),\n",
       " (('t', 'b'), 1),\n",
       " (('z', 'x'), 1)]"
      ]
     },
     "execution_count": 43,
     "metadata": {},
     "output_type": "execute_result"
    }
   ],
   "source": [
    "sorted(b.items(), key = lambda kv : -kv[1])"
   ]
  },
  {
   "cell_type": "code",
   "execution_count": 44,
   "metadata": {},
   "outputs": [],
   "source": [
    "# better to store this count in a 2D array. easier to maintain\n",
    "import torch"
   ]
  },
  {
   "cell_type": "code",
   "execution_count": 45,
   "metadata": {},
   "outputs": [
    {
     "data": {
      "text/plain": [
       "tensor([[0., 0., 0., 0., 0.],\n",
       "        [0., 0., 0., 0., 0.],\n",
       "        [0., 0., 0., 0., 0.]])"
      ]
     },
     "execution_count": 45,
     "metadata": {},
     "output_type": "execute_result"
    }
   ],
   "source": [
    "a = torch.zeros((3,5))\n",
    "a"
   ]
  },
  {
   "cell_type": "code",
   "execution_count": 46,
   "metadata": {},
   "outputs": [
    {
     "data": {
      "text/plain": [
       "torch.float32"
      ]
     },
     "execution_count": 46,
     "metadata": {},
     "output_type": "execute_result"
    }
   ],
   "source": [
    "a.dtype"
   ]
  },
  {
   "cell_type": "code",
   "execution_count": 47,
   "metadata": {},
   "outputs": [
    {
     "data": {
      "text/plain": [
       "tensor([[0, 0, 0, 0, 0],\n",
       "        [0, 0, 0, 0, 0],\n",
       "        [0, 0, 0, 0, 0]], dtype=torch.int32)"
      ]
     },
     "execution_count": 47,
     "metadata": {},
     "output_type": "execute_result"
    }
   ],
   "source": [
    "a = torch.zeros((3,5), dtype = torch.int32) \n",
    "a"
   ]
  },
  {
   "cell_type": "code",
   "execution_count": 48,
   "metadata": {},
   "outputs": [
    {
     "data": {
      "text/plain": [
       "tensor([[0, 0, 0, 0, 0],\n",
       "        [0, 0, 0, 0, 0],\n",
       "        [0, 1, 0, 0, 0]], dtype=torch.int32)"
      ]
     },
     "execution_count": 48,
     "metadata": {},
     "output_type": "execute_result"
    }
   ],
   "source": [
    "a[2,1] = 1 #array indexing\n",
    "a"
   ]
  },
  {
   "cell_type": "code",
   "execution_count": 49,
   "metadata": {},
   "outputs": [],
   "source": [
    "# we have 26 characters + 1 '.' character to denote start and end \n",
    "N = torch.zeros((27,27), dtype = torch.int32)"
   ]
  },
  {
   "cell_type": "code",
   "execution_count": 50,
   "metadata": {},
   "outputs": [
    {
     "data": {
      "text/plain": [
       "['a',\n",
       " 'b',\n",
       " 'c',\n",
       " 'd',\n",
       " 'e',\n",
       " 'f',\n",
       " 'g',\n",
       " 'h',\n",
       " 'i',\n",
       " 'j',\n",
       " 'k',\n",
       " 'l',\n",
       " 'm',\n",
       " 'n',\n",
       " 'o',\n",
       " 'p',\n",
       " 'q',\n",
       " 'r',\n",
       " 's',\n",
       " 't',\n",
       " 'u',\n",
       " 'v',\n",
       " 'w',\n",
       " 'x',\n",
       " 'y',\n",
       " 'z']"
      ]
     },
     "execution_count": 50,
     "metadata": {},
     "output_type": "execute_result"
    }
   ],
   "source": [
    "#let's create a lookup table of characters to integers. we will use this to index in our N array of 28 * 28\n",
    "chars = sorted(list(set(''.join(words))))\n",
    "chars"
   ]
  },
  {
   "cell_type": "code",
   "execution_count": 51,
   "metadata": {},
   "outputs": [
    {
     "data": {
      "text/plain": [
       "{'.': 0,\n",
       " 'a': 1,\n",
       " 'b': 2,\n",
       " 'c': 3,\n",
       " 'd': 4,\n",
       " 'e': 5,\n",
       " 'f': 6,\n",
       " 'g': 7,\n",
       " 'h': 8,\n",
       " 'i': 9,\n",
       " 'j': 10,\n",
       " 'k': 11,\n",
       " 'l': 12,\n",
       " 'm': 13,\n",
       " 'n': 14,\n",
       " 'o': 15,\n",
       " 'p': 16,\n",
       " 'q': 17,\n",
       " 'r': 18,\n",
       " 's': 19,\n",
       " 't': 20,\n",
       " 'u': 21,\n",
       " 'v': 22,\n",
       " 'w': 23,\n",
       " 'x': 24,\n",
       " 'y': 25,\n",
       " 'z': 26}"
      ]
     },
     "execution_count": 51,
     "metadata": {},
     "output_type": "execute_result"
    }
   ],
   "source": [
    "stoi = {s:i+1 for i,s in enumerate(chars)}\n",
    "stoi['.'] = 0\n",
    "stoi = { k : v for k ,v in sorted(stoi.items() , key = lambda kv : kv[1]) }\n",
    "stoi"
   ]
  },
  {
   "cell_type": "code",
   "execution_count": 52,
   "metadata": {},
   "outputs": [
    {
     "data": {
      "text/plain": [
       "{0: '.',\n",
       " 1: 'a',\n",
       " 2: 'b',\n",
       " 3: 'c',\n",
       " 4: 'd',\n",
       " 5: 'e',\n",
       " 6: 'f',\n",
       " 7: 'g',\n",
       " 8: 'h',\n",
       " 9: 'i',\n",
       " 10: 'j',\n",
       " 11: 'k',\n",
       " 12: 'l',\n",
       " 13: 'm',\n",
       " 14: 'n',\n",
       " 15: 'o',\n",
       " 16: 'p',\n",
       " 17: 'q',\n",
       " 18: 'r',\n",
       " 19: 's',\n",
       " 20: 't',\n",
       " 21: 'u',\n",
       " 22: 'v',\n",
       " 23: 'w',\n",
       " 24: 'x',\n",
       " 25: 'y',\n",
       " 26: 'z'}"
      ]
     },
     "execution_count": 52,
     "metadata": {},
     "output_type": "execute_result"
    }
   ],
   "source": [
    "# let's also maintain an index to char dict\n",
    "itos = {intgr:char for char, intgr in stoi.items()}\n",
    "itos"
   ]
  },
  {
   "cell_type": "code",
   "execution_count": 53,
   "metadata": {},
   "outputs": [],
   "source": [
    "for w in words:\n",
    "    chs = ['.'] + list(w) + ['.']# breaks the word into list of characters\n",
    "    for ch1, ch2 in zip(chs, chs[1:]):\n",
    "        ix1 = stoi[ch1]\n",
    "        ix2 = stoi[ch2]\n",
    "        N[ix1,ix2] += 1"
   ]
  },
  {
   "cell_type": "code",
   "execution_count": 54,
   "metadata": {},
   "outputs": [
    {
     "data": {
      "text/plain": [
       "<matplotlib.image.AxesImage at 0x19c04beb248>"
      ]
     },
     "execution_count": 54,
     "metadata": {},
     "output_type": "execute_result"
    },
    {
     "data": {
      "image/png": "[encoded data removed]",
      "text/plain": [
       "<Figure size 432x288 with 1 Axes>"
      ]
     },
     "metadata": {
      "needs_background": "light"
     },
     "output_type": "display_data"
    }
   ],
   "source": [
    "import matplotlib.pyplot as plt\n",
    "%matplotlib inline\n",
    "plt.imshow(N)"
   ]
  },
  {
   "cell_type": "code",
   "execution_count": 56,
   "metadata": {},
   "outputs": [
    {
     "data": {
      "image/png": "[encoded data removed]",
      "text/plain": [
       "<Figure size 1440x1440 with 1 Axes>"
      ]
     },
     "metadata": {
      "needs_background": "light"
     },
     "output_type": "display_data"
    }
   ],
   "source": [
    "# visualize it better\n",
    "plt.figure(figsize = (20,20))\n",
    "plt.imshow(N, cmap = 'Blues')\n",
    "\n",
    "for i in range(27):\n",
    "    for j in range(27):\n",
    "        bigram = itos[i] + itos[j]\n",
    "        plt.text(j, i, bigram, ha=\"center\", va=\"bottom\", color=\"gray\")\n",
    "        plt.text(j, i, N[i,j].item(), ha=\"center\", va=\"top\", color=\"gray\")\n",
    "plt.axis('off');"
   ]
  },
  {
   "cell_type": "code",
   "execution_count": 62,
   "metadata": {},
   "outputs": [
    {
     "data": {
      "text/plain": [
       "tensor([   0, 4410, 1306, 1542, 1690, 1531,  417,  669,  874,  591, 2422, 2963,\n",
       "        1572, 2538, 1146,  394,  515,   92, 1639, 2055, 1308,   78,  376,  307,\n",
       "         134,  535,  929], dtype=torch.int32)"
      ]
     },
     "execution_count": 62,
     "metadata": {},
     "output_type": "execute_result"
    }
   ],
   "source": [
    "N[0] # this tells us count of bigrams '.''a' , '.'b', '.''c' etc...\n"
   ]
  },
  {
   "cell_type": "code",
   "execution_count": 114,
   "metadata": {},
   "outputs": [
    {
     "data": {
      "text/plain": [
       "tensor([0.0000, 0.1377, 0.0408, 0.0481, 0.0528, 0.0478, 0.0130, 0.0209, 0.0273,\n",
       "        0.0184, 0.0756, 0.0925, 0.0491, 0.0792, 0.0358, 0.0123, 0.0161, 0.0029,\n",
       "        0.0512, 0.0642, 0.0408, 0.0024, 0.0117, 0.0096, 0.0042, 0.0167, 0.0290])"
      ]
     },
     "execution_count": 114,
     "metadata": {},
     "output_type": "execute_result"
    }
   ],
   "source": [
    "# convert to probability. now we have the probability of the seeing bigrams or in this case, words that start with either a\n",
    "# or b or c etc (since the bigram is '.''char')\n",
    "p = N[0].float()\n",
    "p = p / p.sum()\n",
    "p"
   ]
  },
  {
   "cell_type": "code",
   "execution_count": 115,
   "metadata": {},
   "outputs": [
    {
     "name": "stdout",
     "output_type": "stream",
     "text": [
      "random numbers -->  tensor([0.7081, 0.3542, 0.1054])\n",
      "normalized (or probabilities) -->  tensor([0.6064, 0.3033, 0.0903])\n",
      "sample according to distribution -->  tensor([1, 1, 2, 0, 0, 2, 1, 1, 0, 0, 0, 1, 1, 0, 0, 1, 1, 0, 0, 1])\n"
     ]
    }
   ],
   "source": [
    "# now we can sample from this distribution. multinomial probability distribution : you give me probability\n",
    "# and it will give you integeres according to those prob\n",
    "# also to make things determinitic , let's set a seed. you do this using generator in pytorch\n",
    "g = torch.Generator().manual_seed(2147483647)\n",
    "t = torch.rand(3, generator = g) # gives 3 random numbers\n",
    "print('random numbers --> ', t)\n",
    "t = t / t.sum()\n",
    "print('normalized (or probabilities) --> ', t)\n",
    "nums = torch.multinomial(t, num_samples = 20, replacement = True, generator = g) \n",
    "print('sample according to distribution --> ', nums)"
   ]
  },
  {
   "cell_type": "code",
   "execution_count": 129,
   "metadata": {},
   "outputs": [
    {
     "name": "stdout",
     "output_type": "stream",
     "text": [
      "tensor([13])\n"
     ]
    },
    {
     "data": {
      "text/plain": [
       "'m'"
      ]
     },
     "execution_count": 129,
     "metadata": {},
     "output_type": "execute_result"
    }
   ],
   "source": [
    "# so now if we ask one number from distrubution p , we get a number : 11 . since we have the map to int to char (itos), \n",
    "# we can find out that the char is m. looks right since the count of bigram .m is one of the highest for all .*\n",
    "g = torch.Generator().manual_seed(2147483647)\n",
    "drawn = torch.multinomial(p, num_samples = 1, replacement = True, generator = g) \n",
    "print(drawn)\n",
    "drawn = drawn.item() # to get the tensor to spit number \n",
    "itos[drawn]"
   ]
  },
  {
   "cell_type": "code",
   "execution_count": 137,
   "metadata": {},
   "outputs": [
    {
     "data": {
      "text/plain": [
       "'mor.'"
      ]
     },
     "execution_count": 137,
     "metadata": {},
     "output_type": "execute_result"
    }
   ],
   "source": [
    "# now we can basically start drawing from the start token, and draw till we reach the end. we keep a list of all drawn \n",
    "# characters and join them at the end to see the word\n",
    "out = []\n",
    "ix = 0 # start token\n",
    "g = torch.Generator().manual_seed(2147483647)\n",
    "while True:\n",
    "    p = N[ix].float()\n",
    "    p /= p.sum()\n",
    "    ix = torch.multinomial(p, num_samples = 1, replacement = True, generator = g).item()\n",
    "    out.append(itos[ix])\n",
    "    if ix == 0: # that's now the end token . 0 is for both start and end\n",
    "        break\n",
    "''.join(out)"
   ]
  },
  {
   "cell_type": "code",
   "execution_count": 143,
   "metadata": {},
   "outputs": [
    {
     "name": "stdout",
     "output_type": "stream",
     "text": [
      "mor.\n",
      "axx.\n",
      "minaymoryles.\n",
      "kondlaisah.\n",
      "anchshizarie.\n",
      "odaren.\n",
      "iaddash.\n",
      "h.\n",
      "jhinatien.\n",
      "egushl.\n",
      "h.\n",
      "br.\n",
      "a.\n",
      "jayn.\n",
      "ilemannariaenien.\n",
      "be.\n",
      "f.\n",
      "akiinela.\n",
      "trttanakeroruceyaaxatona.\n",
      "lamoynayrkiedengin.\n"
     ]
    }
   ],
   "source": [
    "# do it to generate 20 words\n",
    "g = torch.Generator().manual_seed(2147483647)\n",
    "for i in range(20):\n",
    "    out = []\n",
    "    ix = 0 # start token\n",
    "    while True:\n",
    "        p = N[ix].float()\n",
    "        p /= p.sum()\n",
    "        ix = torch.multinomial(p, num_samples = 1, replacement = True, generator = g).item()\n",
    "        out.append(itos[ix])\n",
    "        if ix == 0: # that's now the end token . 0 is for both start and end\n",
    "            break\n",
    "    print(''.join(out))\n",
    "\n",
    "# reason this is generating non sense names is that it's a bad model"
   ]
  },
  {
   "cell_type": "code",
   "execution_count": 184,
   "metadata": {},
   "outputs": [],
   "source": [
    "# we can make our code a bit efficient. instead of maintaining a count matrix N, and then plucking a row N[ix], and then\n",
    "# doing p /= p.sum() , we can instead just create a matrix of probs\n",
    "\n",
    "P = N.float() # copy the count matrix, with float"
   ]
  },
  {
   "cell_type": "code",
   "execution_count": 187,
   "metadata": {},
   "outputs": [
    {
     "data": {
      "text/plain": [
       "tensor([[32033.],\n",
       "        [33885.],\n",
       "        [ 2645.],\n",
       "        [ 3532.],\n",
       "        [ 5496.],\n",
       "        [20423.],\n",
       "        [  905.],\n",
       "        [ 1927.],\n",
       "        [ 7616.],\n",
       "        [17701.],\n",
       "        [ 2900.],\n",
       "        [ 5040.],\n",
       "        [13958.],\n",
       "        [ 6642.],\n",
       "        [18327.],\n",
       "        [ 7934.],\n",
       "        [ 1026.],\n",
       "        [  272.],\n",
       "        [12700.],\n",
       "        [ 8106.],\n",
       "        [ 5570.],\n",
       "        [ 3135.],\n",
       "        [ 2573.],\n",
       "        [  929.],\n",
       "        [  697.],\n",
       "        [ 9776.],\n",
       "        [ 2398.]])"
      ]
     },
     "execution_count": 187,
     "metadata": {},
     "output_type": "execute_result"
    }
   ],
   "source": [
    "P.sum(1, keepdims = True) # sum going horizontally"
   ]
  },
  {
   "cell_type": "code",
   "execution_count": 188,
   "metadata": {},
   "outputs": [],
   "source": [
    "P /= P.sum(1, keepdims = True)"
   ]
  },
  {
   "cell_type": "code",
   "execution_count": 193,
   "metadata": {},
   "outputs": [
    {
     "name": "stdout",
     "output_type": "stream",
     "text": [
      "mor.\n",
      "axx.\n",
      "minaymoryles.\n",
      "kondlaisah.\n",
      "anchshizarie.\n",
      "odaren.\n",
      "iaddash.\n",
      "h.\n",
      "jhinatien.\n",
      "egushl.\n",
      "h.\n",
      "br.\n",
      "a.\n",
      "jayn.\n",
      "ilemannariaenien.\n",
      "be.\n",
      "f.\n",
      "akiinela.\n",
      "trttanakeroruceyaaxatona.\n",
      "lamoynayrkiedengin.\n"
     ]
    }
   ],
   "source": [
    "# now we can index from our prob matrix P instead of the count matrix N. we will get the same exact result\n",
    "g = torch.Generator().manual_seed(2147483647)\n",
    "for i in range(20):\n",
    "    out = []\n",
    "    ix = 0 # start token\n",
    "    while True:\n",
    "        p = P[ix] # get the prob from the P matrix\n",
    "        ix = torch.multinomial(p, num_samples = 1, replacement = True, generator = g).item()\n",
    "        out.append(itos[ix])\n",
    "        if ix == 0: # that's now the end token . 0 is for both start and end\n",
    "            break\n",
    "    print(''.join(out))"
   ]
  },
  {
   "cell_type": "code",
   "execution_count": 241,
   "metadata": {},
   "outputs": [
    {
     "name": "stdout",
     "output_type": "stream",
     "text": [
      ".e: 0.0478\n",
      "em: 0.0377\n",
      "mm: 0.0253\n",
      "ma: 0.3899\n",
      "a.: 0.1960\n",
      ".o: 0.0123\n",
      "ol: 0.0780\n",
      "li: 0.1777\n",
      "iv: 0.0152\n",
      "vi: 0.3541\n",
      "ia: 0.1381\n",
      "a.: 0.1960\n",
      ".a: 0.1377\n",
      "av: 0.0246\n",
      "va: 0.2495\n",
      "a.: 0.1960\n",
      "If eveything was equally likely , prob of any bigram would be: 0.0370\n",
      "\n",
      "Log likelihood :  tensor(-38.7856)\n"
     ]
    }
   ],
   "source": [
    "# let's try to think of the quality of the model. let's use the probs we calculated for our bigrams and see a few examples\n",
    "for w in words[:3]:\n",
    "    chs = ['.'] + list(w) + ['.'] # breaks the word into list of characters\n",
    "    for ch1, ch2 in zip(chs, chs[1:]):\n",
    "        ix1 = stoi[ch1]\n",
    "        ix2 = stoi[ch2]\n",
    "        prob = P[ix1,ix2]\n",
    "        print(f'{ch1}{ch2}: {prob:.4f}')\n",
    "\n",
    "# if everything was equally likely , the prob would be 1/27\n",
    "print('If eveything was equally likely , prob of any bigram would be:' , f'{1/27:.4f}')\n",
    "\n",
    "# we find the prob of the entire dataset assigned by the model. this is called maximum likelihood estimation.\n",
    "# we take all prob in our P matrix and multiply them for MLE. product of these should be very high for good model\n",
    "\n",
    "# since the probabilities are close to 0 we take the log , otherwise the product of probabilities will be ~0\n",
    "# this is called log likelihood\n",
    "# the log(1) = 0 , lower log(0) = inf . so if prob = 1 (very high chance), log is 0.\n",
    "# log (a * b * c) = log(a) + log(b) + log(c)\n",
    "\n",
    "log_likelihood = 0.0\n",
    "count_of_bigrams = 0\n",
    "for w in words[:3]:\n",
    "    chs = ['.'] + list(w) + ['.']# breaks the word into list of characters\n",
    "    for ch1, ch2 in zip(chs, chs[1:]):\n",
    "        ix1 = stoi[ch1]\n",
    "        ix2 = stoi[ch2]\n",
    "        prob = P[ix1,ix2]\n",
    "        logprob = torch.log(prob)\n",
    "        log_likelihood += logprob\n",
    "        count_of_bigrams += 1\n",
    "\n",
    "print('\\nLog likelihood : ', log_likelihood)"
   ]
  },
  {
   "cell_type": "code",
   "execution_count": 242,
   "metadata": {},
   "outputs": [
    {
     "name": "stdout",
     "output_type": "stream",
     "text": [
      "tensor(38.7856)\n",
      "tensor(2.4241)\n"
     ]
    }
   ],
   "source": [
    "# for loss function, we want that the loss should be 0 for a good scenario. however, as a number goes to 0, the log gets\n",
    "# more and more negative.\n",
    "# so let's reverse loglikelihood so that we can use it as a loss function. \n",
    "negative_log_likelihood = -log_likelihood\n",
    "print(negative_log_likelihood)\n",
    "\n",
    "#also people like to avg it up over the data points\n",
    "negative_log_likelihood /= count_of_bigrams\n",
    "print(negative_log_likelihood)"
   ]
  },
  {
   "cell_type": "code",
   "execution_count": 243,
   "metadata": {},
   "outputs": [
    {
     "name": "stdout",
     "output_type": "stream",
     "text": [
      "\n",
      "Log likelihood :  tensor(-559891.7500)\n",
      "Negative log likelihood :  tensor(2.4541)\n"
     ]
    }
   ],
   "source": [
    "# the lower the loss function, the better we are .\n",
    "# lets calculate now over the entire dataset\n",
    "\n",
    "log_likelihood = 0.0\n",
    "count_of_bigrams = 0\n",
    "for w in words:\n",
    "    chs = ['.'] + list(w) + ['.'] #breaks the word into list of characters\n",
    "    for ch1, ch2 in zip(chs, chs[1:]):\n",
    "        ix1 = stoi[ch1]\n",
    "        ix2 = stoi[ch2]\n",
    "        prob = P[ix1,ix2]\n",
    "        logprob = torch.log(prob)\n",
    "        log_likelihood += logprob\n",
    "        count_of_bigrams += 1\n",
    "\n",
    "print('\\nLog likelihood : ', log_likelihood)\n",
    "negative_log_likelihood = -log_likelihood\n",
    "\n",
    "#also people like to avg it up over the data points\n",
    "negative_log_likelihood /= count_of_bigrams\n",
    "print('Negative log likelihood : ' , negative_log_likelihood)"
   ]
  },
  {
   "cell_type": "code",
   "execution_count": 244,
   "metadata": {},
   "outputs": [],
   "source": [
    "# now we will approach using Nueral Network (NN)\n",
    "# NN is still a bigram char level. \n",
    "# Our NN will receive a single char as inp and output the prob distr over the next char in the sequence that\n",
    "# is likely to follow\n",
    "\n",
    "# create training set of all bigrams (x,y). let's take example of one work. emma\n",
    "xs , ys = [] , []\n",
    "for w in words[:1]:\n",
    "    chs = ['.'] + list(w) + ['.']# breaks the word into list of characters\n",
    "    for ch1, ch2 in zip(chs, chs[1:]):\n",
    "        ix1 = stoi[ch1]\n",
    "        ix2 = stoi[ch2]\n",
    "        xs.append(ix1)\n",
    "        ys.append(ix2)\n",
    "\n",
    "xs = torch.tensor(xs)\n",
    "ys = torch.tensor(ys)"
   ]
  },
  {
   "cell_type": "code",
   "execution_count": 245,
   "metadata": {},
   "outputs": [
    {
     "name": "stdout",
     "output_type": "stream",
     "text": [
      "tensor([ 0,  5, 13, 13,  1])\n",
      "tensor([ 5, 13, 13,  1,  0])\n"
     ]
    }
   ],
   "source": [
    "print(xs) # index of first word '.' is 0 , index of second word e is 5 etc.... this is our input\n",
    "print(ys) # when word started with '.', then next char was e. so index 5 is our output. "
   ]
  },
  {
   "cell_type": "code",
   "execution_count": 246,
   "metadata": {},
   "outputs": [
    {
     "data": {
      "text/plain": [
       "tensor([[1., 0., 0., 0., 0., 0., 0., 0., 0., 0., 0., 0., 0., 0., 0., 0., 0., 0.,\n",
       "         0., 0., 0., 0., 0., 0., 0., 0., 0.],\n",
       "        [0., 0., 0., 0., 0., 1., 0., 0., 0., 0., 0., 0., 0., 0., 0., 0., 0., 0.,\n",
       "         0., 0., 0., 0., 0., 0., 0., 0., 0.],\n",
       "        [0., 0., 0., 0., 0., 0., 0., 0., 0., 0., 0., 0., 0., 1., 0., 0., 0., 0.,\n",
       "         0., 0., 0., 0., 0., 0., 0., 0., 0.],\n",
       "        [0., 0., 0., 0., 0., 0., 0., 0., 0., 0., 0., 0., 0., 1., 0., 0., 0., 0.,\n",
       "         0., 0., 0., 0., 0., 0., 0., 0., 0.],\n",
       "        [0., 1., 0., 0., 0., 0., 0., 0., 0., 0., 0., 0., 0., 0., 0., 0., 0., 0.,\n",
       "         0., 0., 0., 0., 0., 0., 0., 0., 0.]])"
      ]
     },
     "execution_count": 246,
     "metadata": {},
     "output_type": "execute_result"
    }
   ],
   "source": [
    "#however we cant feed index of characters in our NN. instead we will encode integers with one hot encoding. example: to \n",
    "#encode 13 , we create a 13 dim tensor with 13th bit as on\n",
    "import torch.nn.functional as F\n",
    "xenc = F.one_hot(xs, num_classes = 27).float()\n",
    "xenc"
   ]
  },
  {
   "cell_type": "code",
   "execution_count": 247,
   "metadata": {},
   "outputs": [
    {
     "data": {
      "text/plain": [
       "tensor([[ 0.4652],\n",
       "        [-0.5760],\n",
       "        [-1.2888],\n",
       "        [-0.2693],\n",
       "        [ 0.8245],\n",
       "        [-1.4114],\n",
       "        [ 0.7842],\n",
       "        [ 1.9397],\n",
       "        [-0.8491],\n",
       "        [ 1.2299],\n",
       "        [ 0.1005],\n",
       "        [-1.2018],\n",
       "        [ 0.3984],\n",
       "        [-1.2447],\n",
       "        [-0.8500],\n",
       "        [-0.1752],\n",
       "        [-1.5240],\n",
       "        [-0.6667],\n",
       "        [ 0.4017],\n",
       "        [-0.4079],\n",
       "        [ 0.4642],\n",
       "        [-0.5369],\n",
       "        [ 0.0695],\n",
       "        [ 0.3949],\n",
       "        [-1.6043],\n",
       "        [ 0.2735],\n",
       "        [-0.4216]])"
      ]
     },
     "execution_count": 247,
     "metadata": {},
     "output_type": "execute_result"
    }
   ],
   "source": [
    "W = torch.randn((27,1)) # 27 paramaters for the 27 input of X. 1 denotes 1 neuron \n",
    "W"
   ]
  },
  {
   "cell_type": "code",
   "execution_count": 248,
   "metadata": {},
   "outputs": [
    {
     "data": {
      "text/plain": [
       "tensor([[ 0.4652],\n",
       "        [-1.4114],\n",
       "        [-1.2447],\n",
       "        [-1.2447],\n",
       "        [-0.5760]])"
      ]
     },
     "execution_count": 248,
     "metadata": {},
     "output_type": "execute_result"
    }
   ],
   "source": [
    "xenc @ W # (5,27) * (27,1) : we get the 5 activations on these 5 inputs from 1 neuron"
   ]
  },
  {
   "cell_type": "code",
   "execution_count": 249,
   "metadata": {},
   "outputs": [
    {
     "data": {
      "text/plain": [
       "tensor([[-1.0071, -0.9958, -0.2453,  1.1628,  0.6538, -0.4057, -1.0527,  0.1856,\n",
       "          0.0390, -1.1911,  0.6322,  1.8943,  0.1202, -1.3488, -0.0196,  0.7439,\n",
       "          1.3589,  0.5380, -1.0998,  0.7391, -0.9706, -1.2624, -0.5152, -0.9372,\n",
       "          0.2659,  1.2503,  1.1013],\n",
       "        [-1.0614, -0.1330, -0.0580, -0.4132,  0.4641,  1.7381,  0.9686, -0.4129,\n",
       "         -0.1989,  0.9549,  0.5981, -0.5798, -0.2391,  0.3872,  0.8694, -0.5918,\n",
       "          1.2800,  1.0058, -1.0538, -1.2619, -0.5334, -1.3723, -1.4599,  0.6582,\n",
       "         -0.1005,  0.2025,  0.4868],\n",
       "        [ 0.0841, -0.4655, -1.8855,  0.9553, -3.2291, -0.0441, -0.1719, -1.2871,\n",
       "         -0.3213, -1.5793,  0.0502, -1.0384, -1.6108,  0.9619, -0.5228, -0.7133,\n",
       "         -0.6396, -0.5972,  0.6959,  0.8562,  0.0513, -0.9389, -0.9271, -1.6461,\n",
       "         -0.2701, -0.0068,  0.0475],\n",
       "        [ 0.0841, -0.4655, -1.8855,  0.9553, -3.2291, -0.0441, -0.1719, -1.2871,\n",
       "         -0.3213, -1.5793,  0.0502, -1.0384, -1.6108,  0.9619, -0.5228, -0.7133,\n",
       "         -0.6396, -0.5972,  0.6959,  0.8562,  0.0513, -0.9389, -0.9271, -1.6461,\n",
       "         -0.2701, -0.0068,  0.0475],\n",
       "        [ 1.0074, -0.1699,  0.2930,  0.2444, -0.4242, -0.2954,  0.7062,  0.0122,\n",
       "          1.4048, -1.0745, -0.4136, -2.1695, -0.3833,  1.2081, -0.2954, -0.3812,\n",
       "         -0.7610,  0.1616, -0.9079, -0.6981, -0.6123,  0.0161, -0.2907, -1.6559,\n",
       "         -0.6864, -0.3324,  0.6937]])"
      ]
     },
     "execution_count": 249,
     "metadata": {},
     "output_type": "execute_result"
    }
   ],
   "source": [
    "# let's have 27 neurons instead of one\n",
    "W = torch.randn((27,27))\n",
    "\n",
    "# multiply by our encoded input x\n",
    "xdotw = xenc @ W # activtions on 27 neurons for the  inputs\n",
    "xdotw"
   ]
  },
  {
   "cell_type": "code",
   "execution_count": 250,
   "metadata": {},
   "outputs": [
    {
     "data": {
      "text/plain": [
       "tensor([[0.3653, 0.3694, 0.7824, 3.1990, 1.9229, 0.6665, 0.3490, 1.2039, 1.0398,\n",
       "         0.3039, 1.8817, 6.6482, 1.1278, 0.2596, 0.9806, 2.1042, 3.8921, 1.7126,\n",
       "         0.3329, 2.0941, 0.3789, 0.2830, 0.5974, 0.3917, 1.3046, 3.4915, 3.0080],\n",
       "        [0.3460, 0.8755, 0.9437, 0.6615, 1.5905, 5.6866, 2.6341, 0.6617, 0.8196,\n",
       "         2.5984, 1.8187, 0.5600, 0.7874, 1.4729, 2.3856, 0.5533, 3.5967, 2.7341,\n",
       "         0.3486, 0.2831, 0.5866, 0.2535, 0.2323, 1.9314, 0.9044, 1.2244, 1.6270],\n",
       "        [1.0877, 0.6278, 0.1518, 2.5994, 0.0396, 0.9568, 0.8420, 0.2761, 0.7252,\n",
       "         0.2061, 1.0515, 0.3540, 0.1997, 2.6168, 0.5928, 0.4900, 0.5275, 0.5503,\n",
       "         2.0055, 2.3543, 1.0526, 0.3911, 0.3957, 0.1928, 0.7633, 0.9932, 1.0487],\n",
       "        [1.0877, 0.6278, 0.1518, 2.5994, 0.0396, 0.9568, 0.8420, 0.2761, 0.7252,\n",
       "         0.2061, 1.0515, 0.3540, 0.1997, 2.6168, 0.5928, 0.4900, 0.5275, 0.5503,\n",
       "         2.0055, 2.3543, 1.0526, 0.3911, 0.3957, 0.1928, 0.7633, 0.9932, 1.0487],\n",
       "        [2.7384, 0.8437, 1.3405, 1.2768, 0.6543, 0.7442, 2.0263, 1.0123, 4.0747,\n",
       "         0.3415, 0.6613, 0.1142, 0.6816, 3.3472, 0.7442, 0.6830, 0.4672, 1.1754,\n",
       "         0.4034, 0.4975, 0.5421, 1.0162, 0.7478, 0.1909, 0.5034, 0.7172, 2.0011]])"
      ]
     },
     "execution_count": 250,
     "metadata": {},
     "output_type": "execute_result"
    }
   ],
   "source": [
    "# prob dist for the next char in the sequence . how do we interpret the 27 numbers coming from the neurons\n",
    "# we want them to represent the prob between 0 and 1 \n",
    "# these 27 numbers are giving us log counts\n",
    "# to get the count, we take the log counts and exp them.\n",
    "# exponenets are always positive.\n",
    "# if you exp a number greater than 0, we get a number greater than 1 . \n",
    "# if you exp a number smaller than 0, we get a number between 0 and 1.\n",
    "(xdotw).exp()\n",
    "# now these can be interpreted as counts as they can never be below 0. we interpret them as log counts or logits"
   ]
  },
  {
   "cell_type": "code",
   "execution_count": 253,
   "metadata": {},
   "outputs": [
    {
     "data": {
      "text/plain": [
       "tensor([[0.0090, 0.0091, 0.0192, 0.0786, 0.0473, 0.0164, 0.0086, 0.0296, 0.0256,\n",
       "         0.0075, 0.0462, 0.1634, 0.0277, 0.0064, 0.0241, 0.0517, 0.0957, 0.0421,\n",
       "         0.0082, 0.0515, 0.0093, 0.0070, 0.0147, 0.0096, 0.0321, 0.0858, 0.0739],\n",
       "        [0.0091, 0.0230, 0.0248, 0.0174, 0.0417, 0.1492, 0.0691, 0.0174, 0.0215,\n",
       "         0.0682, 0.0477, 0.0147, 0.0207, 0.0386, 0.0626, 0.0145, 0.0944, 0.0717,\n",
       "         0.0091, 0.0074, 0.0154, 0.0067, 0.0061, 0.0507, 0.0237, 0.0321, 0.0427],\n",
       "        [0.0471, 0.0272, 0.0066, 0.1126, 0.0017, 0.0414, 0.0365, 0.0120, 0.0314,\n",
       "         0.0089, 0.0455, 0.0153, 0.0086, 0.1133, 0.0257, 0.0212, 0.0228, 0.0238,\n",
       "         0.0868, 0.1020, 0.0456, 0.0169, 0.0171, 0.0083, 0.0331, 0.0430, 0.0454],\n",
       "        [0.0471, 0.0272, 0.0066, 0.1126, 0.0017, 0.0414, 0.0365, 0.0120, 0.0314,\n",
       "         0.0089, 0.0455, 0.0153, 0.0086, 0.1133, 0.0257, 0.0212, 0.0228, 0.0238,\n",
       "         0.0868, 0.1020, 0.0456, 0.0169, 0.0171, 0.0083, 0.0331, 0.0430, 0.0454],\n",
       "        [0.0927, 0.0286, 0.0454, 0.0432, 0.0221, 0.0252, 0.0686, 0.0343, 0.1379,\n",
       "         0.0116, 0.0224, 0.0039, 0.0231, 0.1133, 0.0252, 0.0231, 0.0158, 0.0398,\n",
       "         0.0137, 0.0168, 0.0183, 0.0344, 0.0253, 0.0065, 0.0170, 0.0243, 0.0677]])"
      ]
     },
     "execution_count": 253,
     "metadata": {},
     "output_type": "execute_result"
    }
   ],
   "source": [
    "logits = xenc @ W # log-counts\n",
    "counts = logits.exp() # equivalent to the N array were we stored counts\n",
    "probs = counts / counts.sum(1, keepdims = True) # these two steps are the softmax operation :)\n",
    "probs"
   ]
  },
  {
   "cell_type": "code",
   "execution_count": 254,
   "metadata": {},
   "outputs": [
    {
     "data": {
      "text/plain": [
       "torch.Size([5, 27])"
      ]
     },
     "execution_count": 254,
     "metadata": {},
     "output_type": "execute_result"
    }
   ],
   "source": [
    "probs.shape"
   ]
  },
  {
   "cell_type": "code",
   "execution_count": 255,
   "metadata": {},
   "outputs": [
    {
     "data": {
      "text/plain": [
       "tensor([0.0090, 0.0091, 0.0192, 0.0786, 0.0473, 0.0164, 0.0086, 0.0296, 0.0256,\n",
       "        0.0075, 0.0462, 0.1634, 0.0277, 0.0064, 0.0241, 0.0517, 0.0957, 0.0421,\n",
       "        0.0082, 0.0515, 0.0093, 0.0070, 0.0147, 0.0096, 0.0321, 0.0858, 0.0739])"
      ]
     },
     "execution_count": 255,
     "metadata": {},
     "output_type": "execute_result"
    }
   ],
   "source": [
    "probs[0] # input was the one hot encoding for '.' now these are the prob of the next character to expect after '.'"
   ]
  },
  {
   "cell_type": "code",
   "execution_count": 260,
   "metadata": {},
   "outputs": [
    {
     "name": "stdout",
     "output_type": "stream",
     "text": [
      "--------\n",
      "bigram example 1: first char was: . , next char was: e (indexes 0,5)\n",
      "input to the neural net is the index of char: 0\n",
      "output probabilities from the neural net: tensor([0.0090, 0.0091, 0.0192, 0.0786, 0.0473, 0.0164, 0.0086, 0.0296, 0.0256,\n",
      "        0.0075, 0.0462, 0.1634, 0.0277, 0.0064, 0.0241, 0.0517, 0.0957, 0.0421,\n",
      "        0.0082, 0.0515, 0.0093, 0.0070, 0.0147, 0.0096, 0.0321, 0.0858, 0.0739])\n",
      "label (actual next character): 5\n",
      "probability assigned by the net to the the correct character: 0.016379114240407944\n",
      "log likelihood: -4.111748218536377\n",
      "negative log likelihood: 4.111748218536377\n",
      "--------\n",
      "bigram example 2: first char was: e , next char was: m (indexes 5,13)\n",
      "input to the neural net is the index of char: 5\n",
      "output probabilities from the neural net: tensor([0.0091, 0.0230, 0.0248, 0.0174, 0.0417, 0.1492, 0.0691, 0.0174, 0.0215,\n",
      "        0.0682, 0.0477, 0.0147, 0.0207, 0.0386, 0.0626, 0.0145, 0.0944, 0.0717,\n",
      "        0.0091, 0.0074, 0.0154, 0.0067, 0.0061, 0.0507, 0.0237, 0.0321, 0.0427])\n",
      "label (actual next character): 13\n",
      "probability assigned by the net to the the correct character: 0.038641199469566345\n",
      "log likelihood: -3.253436326980591\n",
      "negative log likelihood: 3.253436326980591\n",
      "--------\n",
      "bigram example 3: first char was: m , next char was: m (indexes 13,13)\n",
      "input to the neural net is the index of char: 13\n",
      "output probabilities from the neural net: tensor([0.0471, 0.0272, 0.0066, 0.1126, 0.0017, 0.0414, 0.0365, 0.0120, 0.0314,\n",
      "        0.0089, 0.0455, 0.0153, 0.0086, 0.1133, 0.0257, 0.0212, 0.0228, 0.0238,\n",
      "        0.0868, 0.1020, 0.0456, 0.0169, 0.0171, 0.0083, 0.0331, 0.0430, 0.0454])\n",
      "label (actual next character): 13\n",
      "probability assigned by the net to the the correct character: 0.11331689357757568\n",
      "log likelihood: -2.1775670051574707\n",
      "negative log likelihood: 2.1775670051574707\n",
      "--------\n",
      "bigram example 4: first char was: m , next char was: a (indexes 13,1)\n",
      "input to the neural net is the index of char: 13\n",
      "output probabilities from the neural net: tensor([0.0471, 0.0272, 0.0066, 0.1126, 0.0017, 0.0414, 0.0365, 0.0120, 0.0314,\n",
      "        0.0089, 0.0455, 0.0153, 0.0086, 0.1133, 0.0257, 0.0212, 0.0228, 0.0238,\n",
      "        0.0868, 0.1020, 0.0456, 0.0169, 0.0171, 0.0083, 0.0331, 0.0430, 0.0454])\n",
      "label (actual next character): 1\n",
      "probability assigned by the net to the the correct character: 0.027186105027794838\n",
      "log likelihood: -3.6050493717193604\n",
      "negative log likelihood: 3.6050493717193604\n",
      "--------\n",
      "bigram example 5: first char was: a , next char was: . (indexes 1,0)\n",
      "input to the neural net is the index of char: 1\n",
      "output probabilities from the neural net: tensor([0.0927, 0.0286, 0.0454, 0.0432, 0.0221, 0.0252, 0.0686, 0.0343, 0.1379,\n",
      "        0.0116, 0.0224, 0.0039, 0.0231, 0.1133, 0.0252, 0.0231, 0.0158, 0.0398,\n",
      "        0.0137, 0.0168, 0.0183, 0.0344, 0.0253, 0.0065, 0.0170, 0.0243, 0.0677])\n",
      "label (actual next character): 0\n",
      "probability assigned by the net to the the correct character: 0.09267991781234741\n",
      "log likelihood: -2.378603458404541\n",
      "negative log likelihood: 2.378603458404541\n",
      "=========\n",
      "average negative log likelihood, i.e. loss = 3.105280637741089\n"
     ]
    }
   ],
   "source": [
    "# stepwise , this is what we are doing\n",
    "nlls = torch.zeros(5)\n",
    "for i in range(5):\n",
    "  # i-th bigram:\n",
    "  x = xs[i].item() # input character index\n",
    "  y = ys[i].item() # label character index\n",
    "  print('--------')\n",
    "  print(f'bigram example {i+1}: first char was: {itos[x]} , next char was: {itos[y]} (indexes {x},{y})')\n",
    "  print('input to the neural net is the index of char:', x)\n",
    "  print('output probabilities from the neural net:', probs[i])\n",
    "  print('label (actual next character):', y)\n",
    "  p = probs[i, y]\n",
    "  print('probability assigned by the net to the the correct character:', p.item())\n",
    "  logp = torch.log(p)\n",
    "  print('log likelihood:', logp.item())\n",
    "  nll = -logp\n",
    "  print('negative log likelihood:', nll.item())\n",
    "  nlls[i] = nll\n",
    "\n",
    "print('=========')\n",
    "print('average negative log likelihood, i.e. loss =', nlls.mean().item())"
   ]
  },
  {
   "cell_type": "code",
   "execution_count": 261,
   "metadata": {},
   "outputs": [
    {
     "name": "stdout",
     "output_type": "stream",
     "text": [
      "tensor([ 0,  5, 13, 13,  1])\n",
      "tensor([ 5, 13, 13,  1,  0])\n"
     ]
    }
   ],
   "source": [
    "# the goal is to generate a good W (instead of the random generated W), so that the loss is low.\n",
    "# now we are at optimization stage #\n",
    "# randomly initialize 27 neurons' weights. each neuron receives 27 inputs\n",
    "print(xs)\n",
    "print(ys)\n",
    "g = torch.Generator().manual_seed(2147483647)\n",
    "W = torch.randn((27, 27), generator=g, requires_grad=True) # need to pass requires grad = True so that torch knows we want\n",
    "# to calculte the grad of this leaf tensor"
   ]
  },
  {
   "cell_type": "code",
   "execution_count": 264,
   "metadata": {},
   "outputs": [
    {
     "name": "stdout",
     "output_type": "stream",
     "text": [
      "torch.Size([5, 27])\n",
      "tensor(3.7693, grad_fn=<NegBackward0>)\n"
     ]
    }
   ],
   "source": [
    "# forward pass\n",
    "xenc = F.one_hot(xs, num_classes=27).float() # input to the network: one-hot encoding\n",
    "logits = xenc @ W # predicted log-counts\n",
    "counts = logits.exp() # counts, equivalent to N\n",
    "probs = counts / counts.sum(1, keepdims=True) # probabilities for next character\n",
    "print(probs.shape)\n",
    "loss = -probs[torch.arange(5), ys].log().mean() # get the probs for the target index, for each input. take the avg neg ll \n",
    "print(loss)"
   ]
  },
  {
   "cell_type": "code",
   "execution_count": 265,
   "metadata": {},
   "outputs": [],
   "source": [
    "#backward pass\n",
    "W.grad = None # always set the grad to 0 or nonr first\n",
    "loss.backward()"
   ]
  },
  {
   "cell_type": "code",
   "execution_count": 267,
   "metadata": {},
   "outputs": [
    {
     "data": {
      "text/plain": [
       "tensor([[ 0.0121,  0.0020,  0.0025,  0.0008,  0.0034, -0.1975,  0.0005,  0.0046,\n",
       "          0.0027,  0.0063,  0.0016,  0.0056,  0.0018,  0.0016,  0.0100,  0.0476,\n",
       "          0.0121,  0.0005,  0.0050,  0.0011,  0.0068,  0.0022,  0.0006,  0.0040,\n",
       "          0.0024,  0.0307,  0.0292],\n",
       "        [-0.1970,  0.0017,  0.0079,  0.0020,  0.0121,  0.0062,  0.0217,  0.0026,\n",
       "          0.0025,  0.0010,  0.0205,  0.0017,  0.0198,  0.0022,  0.0046,  0.0041,\n",
       "          0.0082,  0.0016,  0.0180,  0.0106,  0.0093,  0.0062,  0.0010,  0.0066,\n",
       "          0.0131,  0.0101,  0.0018],\n",
       "        [ 0.0000,  0.0000,  0.0000,  0.0000,  0.0000,  0.0000,  0.0000,  0.0000,\n",
       "          0.0000,  0.0000,  0.0000,  0.0000,  0.0000,  0.0000,  0.0000,  0.0000,\n",
       "          0.0000,  0.0000,  0.0000,  0.0000,  0.0000,  0.0000,  0.0000,  0.0000,\n",
       "          0.0000,  0.0000,  0.0000],\n",
       "        [ 0.0000,  0.0000,  0.0000,  0.0000,  0.0000,  0.0000,  0.0000,  0.0000,\n",
       "          0.0000,  0.0000,  0.0000,  0.0000,  0.0000,  0.0000,  0.0000,  0.0000,\n",
       "          0.0000,  0.0000,  0.0000,  0.0000,  0.0000,  0.0000,  0.0000,  0.0000,\n",
       "          0.0000,  0.0000,  0.0000],\n",
       "        [ 0.0000,  0.0000,  0.0000,  0.0000,  0.0000,  0.0000,  0.0000,  0.0000,\n",
       "          0.0000,  0.0000,  0.0000,  0.0000,  0.0000,  0.0000,  0.0000,  0.0000,\n",
       "          0.0000,  0.0000,  0.0000,  0.0000,  0.0000,  0.0000,  0.0000,  0.0000,\n",
       "          0.0000,  0.0000,  0.0000],\n",
       "        [ 0.0058,  0.0159,  0.0050,  0.0104,  0.0398,  0.0058,  0.0019,  0.0067,\n",
       "          0.0019,  0.0060,  0.0140,  0.0046,  0.0023, -0.1964,  0.0022,  0.0063,\n",
       "          0.0058,  0.0009,  0.0183,  0.0043,  0.0097,  0.0060,  0.0100,  0.0005,\n",
       "          0.0024,  0.0004,  0.0094],\n",
       "        [ 0.0000,  0.0000,  0.0000,  0.0000,  0.0000,  0.0000,  0.0000,  0.0000,\n",
       "          0.0000,  0.0000,  0.0000,  0.0000,  0.0000,  0.0000,  0.0000,  0.0000,\n",
       "          0.0000,  0.0000,  0.0000,  0.0000,  0.0000,  0.0000,  0.0000,  0.0000,\n",
       "          0.0000,  0.0000,  0.0000],\n",
       "        [ 0.0000,  0.0000,  0.0000,  0.0000,  0.0000,  0.0000,  0.0000,  0.0000,\n",
       "          0.0000,  0.0000,  0.0000,  0.0000,  0.0000,  0.0000,  0.0000,  0.0000,\n",
       "          0.0000,  0.0000,  0.0000,  0.0000,  0.0000,  0.0000,  0.0000,  0.0000,\n",
       "          0.0000,  0.0000,  0.0000],\n",
       "        [ 0.0000,  0.0000,  0.0000,  0.0000,  0.0000,  0.0000,  0.0000,  0.0000,\n",
       "          0.0000,  0.0000,  0.0000,  0.0000,  0.0000,  0.0000,  0.0000,  0.0000,\n",
       "          0.0000,  0.0000,  0.0000,  0.0000,  0.0000,  0.0000,  0.0000,  0.0000,\n",
       "          0.0000,  0.0000,  0.0000],\n",
       "        [ 0.0000,  0.0000,  0.0000,  0.0000,  0.0000,  0.0000,  0.0000,  0.0000,\n",
       "          0.0000,  0.0000,  0.0000,  0.0000,  0.0000,  0.0000,  0.0000,  0.0000,\n",
       "          0.0000,  0.0000,  0.0000,  0.0000,  0.0000,  0.0000,  0.0000,  0.0000,\n",
       "          0.0000,  0.0000,  0.0000],\n",
       "        [ 0.0000,  0.0000,  0.0000,  0.0000,  0.0000,  0.0000,  0.0000,  0.0000,\n",
       "          0.0000,  0.0000,  0.0000,  0.0000,  0.0000,  0.0000,  0.0000,  0.0000,\n",
       "          0.0000,  0.0000,  0.0000,  0.0000,  0.0000,  0.0000,  0.0000,  0.0000,\n",
       "          0.0000,  0.0000,  0.0000],\n",
       "        [ 0.0000,  0.0000,  0.0000,  0.0000,  0.0000,  0.0000,  0.0000,  0.0000,\n",
       "          0.0000,  0.0000,  0.0000,  0.0000,  0.0000,  0.0000,  0.0000,  0.0000,\n",
       "          0.0000,  0.0000,  0.0000,  0.0000,  0.0000,  0.0000,  0.0000,  0.0000,\n",
       "          0.0000,  0.0000,  0.0000],\n",
       "        [ 0.0000,  0.0000,  0.0000,  0.0000,  0.0000,  0.0000,  0.0000,  0.0000,\n",
       "          0.0000,  0.0000,  0.0000,  0.0000,  0.0000,  0.0000,  0.0000,  0.0000,\n",
       "          0.0000,  0.0000,  0.0000,  0.0000,  0.0000,  0.0000,  0.0000,  0.0000,\n",
       "          0.0000,  0.0000,  0.0000],\n",
       "        [ 0.0125, -0.1705,  0.0194,  0.0133,  0.0270,  0.0080,  0.0105,  0.0100,\n",
       "          0.0490,  0.0066,  0.0030,  0.0316,  0.0052, -0.1893,  0.0059,  0.0045,\n",
       "          0.0234,  0.0049,  0.0260,  0.0023,  0.0083,  0.0031,  0.0053,  0.0081,\n",
       "          0.0482,  0.0187,  0.0051],\n",
       "        [ 0.0000,  0.0000,  0.0000,  0.0000,  0.0000,  0.0000,  0.0000,  0.0000,\n",
       "          0.0000,  0.0000,  0.0000,  0.0000,  0.0000,  0.0000,  0.0000,  0.0000,\n",
       "          0.0000,  0.0000,  0.0000,  0.0000,  0.0000,  0.0000,  0.0000,  0.0000,\n",
       "          0.0000,  0.0000,  0.0000],\n",
       "        [ 0.0000,  0.0000,  0.0000,  0.0000,  0.0000,  0.0000,  0.0000,  0.0000,\n",
       "          0.0000,  0.0000,  0.0000,  0.0000,  0.0000,  0.0000,  0.0000,  0.0000,\n",
       "          0.0000,  0.0000,  0.0000,  0.0000,  0.0000,  0.0000,  0.0000,  0.0000,\n",
       "          0.0000,  0.0000,  0.0000],\n",
       "        [ 0.0000,  0.0000,  0.0000,  0.0000,  0.0000,  0.0000,  0.0000,  0.0000,\n",
       "          0.0000,  0.0000,  0.0000,  0.0000,  0.0000,  0.0000,  0.0000,  0.0000,\n",
       "          0.0000,  0.0000,  0.0000,  0.0000,  0.0000,  0.0000,  0.0000,  0.0000,\n",
       "          0.0000,  0.0000,  0.0000],\n",
       "        [ 0.0000,  0.0000,  0.0000,  0.0000,  0.0000,  0.0000,  0.0000,  0.0000,\n",
       "          0.0000,  0.0000,  0.0000,  0.0000,  0.0000,  0.0000,  0.0000,  0.0000,\n",
       "          0.0000,  0.0000,  0.0000,  0.0000,  0.0000,  0.0000,  0.0000,  0.0000,\n",
       "          0.0000,  0.0000,  0.0000],\n",
       "        [ 0.0000,  0.0000,  0.0000,  0.0000,  0.0000,  0.0000,  0.0000,  0.0000,\n",
       "          0.0000,  0.0000,  0.0000,  0.0000,  0.0000,  0.0000,  0.0000,  0.0000,\n",
       "          0.0000,  0.0000,  0.0000,  0.0000,  0.0000,  0.0000,  0.0000,  0.0000,\n",
       "          0.0000,  0.0000,  0.0000],\n",
       "        [ 0.0000,  0.0000,  0.0000,  0.0000,  0.0000,  0.0000,  0.0000,  0.0000,\n",
       "          0.0000,  0.0000,  0.0000,  0.0000,  0.0000,  0.0000,  0.0000,  0.0000,\n",
       "          0.0000,  0.0000,  0.0000,  0.0000,  0.0000,  0.0000,  0.0000,  0.0000,\n",
       "          0.0000,  0.0000,  0.0000],\n",
       "        [ 0.0000,  0.0000,  0.0000,  0.0000,  0.0000,  0.0000,  0.0000,  0.0000,\n",
       "          0.0000,  0.0000,  0.0000,  0.0000,  0.0000,  0.0000,  0.0000,  0.0000,\n",
       "          0.0000,  0.0000,  0.0000,  0.0000,  0.0000,  0.0000,  0.0000,  0.0000,\n",
       "          0.0000,  0.0000,  0.0000],\n",
       "        [ 0.0000,  0.0000,  0.0000,  0.0000,  0.0000,  0.0000,  0.0000,  0.0000,\n",
       "          0.0000,  0.0000,  0.0000,  0.0000,  0.0000,  0.0000,  0.0000,  0.0000,\n",
       "          0.0000,  0.0000,  0.0000,  0.0000,  0.0000,  0.0000,  0.0000,  0.0000,\n",
       "          0.0000,  0.0000,  0.0000],\n",
       "        [ 0.0000,  0.0000,  0.0000,  0.0000,  0.0000,  0.0000,  0.0000,  0.0000,\n",
       "          0.0000,  0.0000,  0.0000,  0.0000,  0.0000,  0.0000,  0.0000,  0.0000,\n",
       "          0.0000,  0.0000,  0.0000,  0.0000,  0.0000,  0.0000,  0.0000,  0.0000,\n",
       "          0.0000,  0.0000,  0.0000],\n",
       "        [ 0.0000,  0.0000,  0.0000,  0.0000,  0.0000,  0.0000,  0.0000,  0.0000,\n",
       "          0.0000,  0.0000,  0.0000,  0.0000,  0.0000,  0.0000,  0.0000,  0.0000,\n",
       "          0.0000,  0.0000,  0.0000,  0.0000,  0.0000,  0.0000,  0.0000,  0.0000,\n",
       "          0.0000,  0.0000,  0.0000],\n",
       "        [ 0.0000,  0.0000,  0.0000,  0.0000,  0.0000,  0.0000,  0.0000,  0.0000,\n",
       "          0.0000,  0.0000,  0.0000,  0.0000,  0.0000,  0.0000,  0.0000,  0.0000,\n",
       "          0.0000,  0.0000,  0.0000,  0.0000,  0.0000,  0.0000,  0.0000,  0.0000,\n",
       "          0.0000,  0.0000,  0.0000],\n",
       "        [ 0.0000,  0.0000,  0.0000,  0.0000,  0.0000,  0.0000,  0.0000,  0.0000,\n",
       "          0.0000,  0.0000,  0.0000,  0.0000,  0.0000,  0.0000,  0.0000,  0.0000,\n",
       "          0.0000,  0.0000,  0.0000,  0.0000,  0.0000,  0.0000,  0.0000,  0.0000,\n",
       "          0.0000,  0.0000,  0.0000],\n",
       "        [ 0.0000,  0.0000,  0.0000,  0.0000,  0.0000,  0.0000,  0.0000,  0.0000,\n",
       "          0.0000,  0.0000,  0.0000,  0.0000,  0.0000,  0.0000,  0.0000,  0.0000,\n",
       "          0.0000,  0.0000,  0.0000,  0.0000,  0.0000,  0.0000,  0.0000,  0.0000,\n",
       "          0.0000,  0.0000,  0.0000]])"
      ]
     },
     "execution_count": 267,
     "metadata": {},
     "output_type": "execute_result"
    }
   ],
   "source": [
    "W.grad # every element now gives the gradient. "
   ]
  },
  {
   "cell_type": "code",
   "execution_count": 268,
   "metadata": {},
   "outputs": [],
   "source": [
    "W.data += -0.1 * W.grad # update W in the negative direction of gradient"
   ]
  },
  {
   "cell_type": "code",
   "execution_count": 269,
   "metadata": {},
   "outputs": [
    {
     "name": "stdout",
     "output_type": "stream",
     "text": [
      "tensor(3.7492, grad_fn=<NegBackward0>)\n"
     ]
    }
   ],
   "source": [
    "# now the loss will be less than before :)\n",
    "logits = xenc @ W # predicted log-counts\n",
    "counts = logits.exp() # counts, equivalent to N\n",
    "probs = counts / counts.sum(1, keepdims=True) # probabilities for next character\n",
    "loss = -probs[torch.arange(5), ys].log().mean() # get the probs for the target index, for each input. take the avg neg ll \n",
    "print(loss)"
   ]
  },
  {
   "cell_type": "code",
   "execution_count": 270,
   "metadata": {},
   "outputs": [
    {
     "name": "stdout",
     "output_type": "stream",
     "text": [
      "number of examples:  228146\n"
     ]
    }
   ],
   "source": [
    "# now we can do it over the entire data set \n",
    "# create the dataset\n",
    "xs, ys = [], []\n",
    "for w in words:\n",
    "  chs = ['.'] + list(w) + ['.']\n",
    "  for ch1, ch2 in zip(chs, chs[1:]):\n",
    "    ix1 = stoi[ch1]\n",
    "    ix2 = stoi[ch2]\n",
    "    xs.append(ix1)\n",
    "    ys.append(ix2)\n",
    "xs = torch.tensor(xs)\n",
    "ys = torch.tensor(ys)\n",
    "num = xs.nelement()\n",
    "print('number of examples: ', num)\n",
    "# initialize the 'network'\n",
    "g = torch.Generator().manual_seed(2147483647)\n",
    "W = torch.randn((27, 27), generator=g, requires_grad=True)"
   ]
  },
  {
   "cell_type": "code",
   "execution_count": 284,
   "metadata": {},
   "outputs": [
    {
     "name": "stdout",
     "output_type": "stream",
     "text": [
      "2.723001480102539\n",
      "2.6820788383483887\n",
      "2.6542158126831055\n",
      "2.6333680152893066\n",
      "2.6170542240142822\n",
      "2.6038625240325928\n",
      "2.5929291248321533\n",
      "2.5836946964263916\n",
      "2.5757765769958496\n",
      "2.5689024925231934\n",
      "2.562872886657715\n",
      "2.557537078857422\n",
      "2.55277943611145\n",
      "2.548509120941162\n",
      "2.544654130935669\n",
      "2.5411558151245117\n",
      "2.53796648979187\n",
      "2.5350475311279297\n",
      "2.532365322113037\n",
      "2.529893398284912\n",
      "2.5276079177856445\n",
      "2.52548885345459\n",
      "2.5235190391540527\n",
      "2.521683931350708\n",
      "2.5199697017669678\n",
      "2.5183663368225098\n",
      "2.5168631076812744\n",
      "2.5154519081115723\n",
      "2.5141236782073975\n",
      "2.5128726959228516\n",
      "2.511692762374878\n",
      "2.5105769634246826\n",
      "2.509521722793579\n",
      "2.5085225105285645\n",
      "2.5075743198394775\n",
      "2.506674289703369\n",
      "2.5058188438415527\n",
      "2.505004405975342\n",
      "2.5042288303375244\n",
      "2.5034892559051514\n",
      "2.50278377532959\n",
      "2.502110004425049\n",
      "2.5014657974243164\n",
      "2.5008492469787598\n",
      "2.5002591609954834\n",
      "2.4996938705444336\n",
      "2.4991517066955566\n",
      "2.498631477355957\n",
      "2.4981322288513184\n",
      "2.497652292251587\n",
      "2.4971909523010254\n",
      "2.4967474937438965\n",
      "2.4963202476501465\n",
      "2.4959094524383545\n",
      "2.4955132007598877\n",
      "2.495130777359009\n",
      "2.494762897491455\n",
      "2.4944071769714355\n",
      "2.4940640926361084\n",
      "2.493732452392578\n",
      "2.493412494659424\n",
      "2.49310302734375\n",
      "2.4928035736083984\n",
      "2.492513656616211\n",
      "2.4922332763671875\n",
      "2.491962194442749\n",
      "2.49169921875\n",
      "2.4914448261260986\n",
      "2.4911980628967285\n",
      "2.4909586906433105\n",
      "2.4907264709472656\n",
      "2.4905014038085938\n",
      "2.4902830123901367\n",
      "2.4900710582733154\n",
      "2.4898650646209717\n",
      "2.4896652698516846\n",
      "2.4894707202911377\n",
      "2.48928165435791\n",
      "2.489098310470581\n",
      "2.488919973373413\n",
      "2.4887466430664062\n",
      "2.4885778427124023\n",
      "2.4884135723114014\n",
      "2.488253593444824\n",
      "2.48809814453125\n",
      "2.4879465103149414\n",
      "2.4877989292144775\n",
      "2.4876554012298584\n",
      "2.487515449523926\n",
      "2.4873790740966797\n",
      "2.487246036529541\n",
      "2.487116575241089\n",
      "2.486989974975586\n",
      "2.4868664741516113\n",
      "2.486746311187744\n",
      "2.486629009246826\n",
      "2.4865145683288574\n",
      "2.486402988433838\n",
      "2.4862942695617676\n",
      "2.4861879348754883\n"
     ]
    }
   ],
   "source": [
    "# gradient descent, 100 iterations\n",
    "for k in range(100):\n",
    "  # forward pass\n",
    "  xenc = F.one_hot(xs, num_classes=27).float() # input to the network: one-hot encoding\n",
    "  logits = xenc @ W # predict log-counts\n",
    "  counts = logits.exp() # counts, equivalent to N\n",
    "  probs = counts / counts.sum(1, keepdims=True) # probabilities for next character\n",
    "  loss = -probs[torch.arange(num), ys].log().mean() + 0.01*(W**2).mean() # regularization added\n",
    "  print(loss.item())\n",
    "    \n",
    "  # backward pass\n",
    "  W.grad = None # set gradient to zero\n",
    "  loss.backward()\n",
    "  \n",
    "  # update\n",
    "  W.data += -50 * W.grad"
   ]
  },
  {
   "cell_type": "code",
   "execution_count": 290,
   "metadata": {},
   "outputs": [
    {
     "name": "stdout",
     "output_type": "stream",
     "text": [
      "mor.\n",
      "axx.\n",
      "minaymoryles.\n",
      "kondmaisah.\n",
      "anchthizarie.\n"
     ]
    }
   ],
   "source": [
    "# finally, sample from the 'neural net' model\n",
    "g = torch.Generator().manual_seed(2147483647)\n",
    "\n",
    "for i in range(5):\n",
    "    out = []\n",
    "    ix = 0\n",
    "    while True:\n",
    "    \n",
    "        # ----------\n",
    "        # BEFORE:\n",
    "        #p = P[ix]\n",
    "        # ----------\n",
    "        # NOW:\n",
    "        xenc = F.one_hot(torch.tensor([ix]), num_classes=27).float()\n",
    "        logits = xenc @ W # predict log-counts\n",
    "        counts = logits.exp() # counts, equivalent to N\n",
    "        p = counts / counts.sum(1, keepdims=True) # probabilities for next character\n",
    "        # ----------\n",
    "\n",
    "        ix = torch.multinomial(p, num_samples=1, replacement=True, generator=g).item()\n",
    "        out.append(itos[ix])\n",
    "        if ix == 0:\n",
    "          break\n",
    "    print(''.join(out))\n",
    "# we get the same exact results from NN, as compared to our counting model :) both are doing the same thing, but in case of \n",
    "# NN , we were able to get to the result by "
   ]
  }
 ],
 "metadata": {
  "kernelspec": {
   "display_name": "Python 3",
   "language": "python",
   "name": "python3"
  },
  "language_info": {
   "codemirror_mode": {
    "name": "ipython",
    "version": 3
   },
   "file_extension": ".py",
   "mimetype": "text/x-python",
   "name": "python",
   "nbconvert_exporter": "python",
   "pygments_lexer": "ipython3",
   "version": "3.7.1"
  }
 },
 "nbformat": 4,
 "nbformat_minor": 4
}
