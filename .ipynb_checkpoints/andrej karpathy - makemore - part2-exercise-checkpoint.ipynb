{
 "cells": [
  {
   "cell_type": "code",
   "execution_count": 1,
   "metadata": {},
   "outputs": [],
   "source": [
    "# in our previous model, we only took 1 character of context (bigram) so we got not so good results\n",
    "# if we take 2 characters as context , we will grow into 27 * 27 context matrix \n",
    "# if we take 3 characters as context , we will grow into 27 * 27 * 27 context matrix \n",
    "# it will be extremely difficult to keep track of these counts\n",
    "# we are following https://www.jmlr.org/papers/volume3/bengio03a/bengio03a.pdf"
   ]
  },
  {
   "cell_type": "code",
   "execution_count": 75,
   "metadata": {},
   "outputs": [],
   "source": [
    "import torch\n",
    "import torch.nn.functional as F\n",
    "import matplotlib.pyplot as plt # for making figures\n",
    "%matplotlib inline"
   ]
  },
  {
   "cell_type": "code",
   "execution_count": 76,
   "metadata": {},
   "outputs": [
    {
     "name": "stdout",
     "output_type": "stream",
     "text": [
      "['a', 'b', 'c', 'd', 'e', 'f', 'g', 'h', 'i', 'j', 'k', 'l', 'm', 'n', 'o', 'p', 'q', 'r', 's', 't', 'u', 'v', 'w', 'x', 'y', 'z'] \n",
      "\n",
      "{'a': 1, 'b': 2, 'c': 3, 'd': 4, 'e': 5, 'f': 6, 'g': 7, 'h': 8, 'i': 9, 'j': 10, 'k': 11, 'l': 12, 'm': 13, 'n': 14, 'o': 15, 'p': 16, 'q': 17, 'r': 18, 's': 19, 't': 20, 'u': 21, 'v': 22, 'w': 23, 'x': 24, 'y': 25, 'z': 26, '.': 0} \n",
      "\n",
      "{1: 'a', 2: 'b', 3: 'c', 4: 'd', 5: 'e', 6: 'f', 7: 'g', 8: 'h', 9: 'i', 10: 'j', 11: 'k', 12: 'l', 13: 'm', 14: 'n', 15: 'o', 16: 'p', 17: 'q', 18: 'r', 19: 's', 20: 't', 21: 'u', 22: 'v', 23: 'w', 24: 'x', 25: 'y', 26: 'z', 0: '.'} \n",
      "\n"
     ]
    }
   ],
   "source": [
    "# build the vocabulary of characters and mappings to/from integers\n",
    "chars = sorted(list(set(''.join(words))))\n",
    "print(chars, '\\n')\n",
    "\n",
    "stoi = {s:i+1 for i,s in enumerate(chars)}\n",
    "stoi['.'] = 0\n",
    "print(stoi , '\\n')\n",
    "\n",
    "itos = {i:s for s,i in stoi.items()}\n",
    "print(itos , '\\n')"
   ]
  },
  {
   "cell_type": "code",
   "execution_count": 77,
   "metadata": {},
   "outputs": [],
   "source": [
    "def buildDataset(words , block_size):\n",
    "    X , Y = [] , [] \n",
    "    for word in words:\n",
    "        context = [0] * block_size\n",
    "        word =  word + '.' # append a end character to word, so the generator is trained to stop\n",
    "        for ch in word:\n",
    "            ix = stoi[ch]\n",
    "            context = context[1:] + [ix]\n",
    "            X.append(context)\n",
    "            Y.append(ix)\n",
    "    return X, Y"
   ]
  },
  {
   "cell_type": "code",
   "execution_count": 78,
   "metadata": {},
   "outputs": [],
   "source": [
    "import random\n",
    "\n",
    "def trainDevAndTestSplit(words , block_size):\n",
    "    random.seed(42)\n",
    "    random.shuffle(words)\n",
    "    n1 = int(0.8 * len(words))\n",
    "    n2 = int(0.9 * len(words))\n",
    "    xtr, ytr = buildDataset(words[:n1], block_size)\n",
    "    xdev, ydev = buildDataset(words[n1:n2], block_size)\n",
    "    xtest, ytest = buildDataset(words[n2:], block_size)\n",
    "    return torch.tensor(xtr), torch.tensor(ytr), torch.tensor(xdev), torch.tensor(ydev), torch.tensor(xtest), torch.tensor(ytest)"
   ]
  },
  {
   "cell_type": "code",
   "execution_count": 79,
   "metadata": {},
   "outputs": [
    {
     "name": "stdout",
     "output_type": "stream",
     "text": [
      "torch.Size([182580, 3]) torch.Size([182580])\n",
      "torch.Size([22767, 3]) torch.Size([22767])\n",
      "torch.Size([22799, 3]) torch.Size([22799])\n"
     ]
    }
   ],
   "source": [
    "block_size = 3\n",
    "xtr, ytr, xdev, ydev, xtest, ytest = trainDevAndTestSplit(words, block_size)\n",
    "\n",
    "print(xtr.shape, ytr.shape)\n",
    "print(xdev.shape, ydev.shape)\n",
    "print(xtest.shape, ytest.shape)"
   ]
  },
  {
   "cell_type": "code",
   "execution_count": 80,
   "metadata": {},
   "outputs": [],
   "source": [
    "g = torch.Generator().manual_seed(2147483647) # for reproducibility\n",
    "\n",
    "character_embedding_size = 5\n",
    "layer1_size = 150\n",
    "\n",
    "C = torch.randn((27 , character_embedding_size) , generator = g) # character embedding\n",
    "W1 = torch.randn((character_embedding_size * block_size , layer1_size) , generator = g)\n",
    "b1 = torch.randn(layer1_size , generator = g)\n",
    "W2 = torch.randn((layer1_size , 27) , generator = g)\n",
    "b2 = torch.randn(27 , generator = g)"
   ]
  },
  {
   "cell_type": "code",
   "execution_count": 81,
   "metadata": {},
   "outputs": [
    {
     "name": "stdout",
     "output_type": "stream",
     "text": [
      "Total no of parameters  6612\n"
     ]
    }
   ],
   "source": [
    "network_parameters = [C , W1 , b1 , W2, b2]\n",
    "print('Total no of parameters ' , sum(p.nelement() for p in network_parameters))"
   ]
  },
  {
   "cell_type": "code",
   "execution_count": 82,
   "metadata": {},
   "outputs": [],
   "source": [
    "for p in network_parameters:\n",
    "    p.requires_grad = True"
   ]
  },
  {
   "cell_type": "code",
   "execution_count": 85,
   "metadata": {},
   "outputs": [],
   "source": [
    "def forwardAndBackwardPass(x , y , batch_size , lr):\n",
    "    ix_batch = torch.randint(0 , x.shape[0], (batch_size, ))\n",
    "    x_batch = x[ix_batch]\n",
    "    embed_batch = C[x_batch].flatten(1)\n",
    "    \n",
    "    y_batch = y[ix_batch]\n",
    "    \n",
    "    h0 = embed_batch @ W1 + b1\n",
    "    \n",
    "    h1 = torch.tanh(h0)\n",
    "    \n",
    "    logits = h1 @ W2 + b2\n",
    "    \n",
    "    loss = F.cross_entropy(logits , y_batch)\n",
    "    \n",
    "    # backward pass \n",
    "    for p in network_parameters:\n",
    "        p.grad = None\n",
    "    \n",
    "    loss.backward()\n",
    "    \n",
    "    # update grad\n",
    "    for p in network_parameters:\n",
    "        p.data += -lr * p.grad\n",
    "        \n",
    "    return loss.item()\n",
    "\n",
    "def trainNetwork(x, y, batch_size , epochs , lr):\n",
    "    loss_i = []\n",
    "    iter_i = []\n",
    "    for i in range(0,epochs):\n",
    "        loss = forwardAndBackwardPass(x, y, batch_size , lr)\n",
    "        loss_i.append(loss)\n",
    "        iter_i.append(i)\n",
    "    return loss_i , iter_i"
   ]
  },
  {
   "cell_type": "code",
   "execution_count": 86,
   "metadata": {},
   "outputs": [],
   "source": [
    "losses , iters = trainNetwork(xtr , ytr , 64 , 1000 , 0.1)"
   ]
  },
  {
   "cell_type": "code",
   "execution_count": 87,
   "metadata": {},
   "outputs": [
    {
     "data": {
      "text/plain": [
       "[0.14254187047481537,\n",
       " 0.20875024795532227,\n",
       " 0.25030431151390076,\n",
       " 0.2795918881893158,\n",
       " 0.09074337780475616,\n",
       " 0.03833494335412979,\n",
       " 0.20134767889976501,\n",
       " 0.014675336889922619,\n",
       " 0.05529174581170082,\n",
       " 0.44112691283226013]"
      ]
     },
     "execution_count": 87,
     "metadata": {},
     "output_type": "execute_result"
    }
   ],
   "source": [
    "losses[-10:]"
   ]
  }
 ],
 "metadata": {
  "kernelspec": {
   "display_name": "Python 3",
   "language": "python",
   "name": "python3"
  },
  "language_info": {
   "codemirror_mode": {
    "name": "ipython",
    "version": 3
   },
   "file_extension": ".py",
   "mimetype": "text/x-python",
   "name": "python",
   "nbconvert_exporter": "python",
   "pygments_lexer": "ipython3",
   "version": "3.7.1"
  }
 },
 "nbformat": 4,
 "nbformat_minor": 4
}
